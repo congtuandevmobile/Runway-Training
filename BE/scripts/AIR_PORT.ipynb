{
  "cells": [
    {
      "cell_type": "markdown",
      "metadata": {
        "id": "wrfxIPXZGVpx"
      },
      "source": [
        "### Data preprocessing"
      ]
    },
    {
      "cell_type": "code",
      "execution_count": 193,
      "metadata": {
        "id": "FoccEeb5Pfl6"
      },
      "outputs": [],
      "source": [
        "# khai báo thư viện\n",
        "import pandas as pd\n",
        "import numpy as np\n",
        "import matplotlib.pyplot as plt"
      ]
    },
    {
      "cell_type": "code",
      "execution_count": 194,
      "metadata": {
        "id": "077rcV_KTFmF"
      },
      "outputs": [],
      "source": [
        "df=pd.read_csv('D:/Runway-Training-main/BE/dataset/DATA-ROT.csv')"
      ]
    },
    {
      "cell_type": "code",
      "execution_count": 195,
      "metadata": {
        "colab": {
          "base_uri": "https://localhost:8080/"
        },
        "id": "m40LOco_KTTv",
        "outputId": "4f783252-8833-4c39-bc4b-290f527a7944"
      },
      "outputs": [
        {
          "name": "stdout",
          "output_type": "stream",
          "text": [
            "<class 'pandas.core.frame.DataFrame'>\n",
            "RangeIndex: 3811 entries, 0 to 3810\n",
            "Data columns (total 9 columns):\n",
            " #   Column          Non-Null Count  Dtype  \n",
            "---  ------          --------------  -----  \n",
            " 0   Exit-location   3811 non-null   float64\n",
            " 1   Aircraft-type   3811 non-null   object \n",
            " 2   Final-approach  3811 non-null   int64  \n",
            " 3   Exit-angle      3811 non-null   int64  \n",
            " 4   Temperature     3811 non-null   int64  \n",
            " 5   Time            3811 non-null   object \n",
            " 6   Windspeed       3811 non-null   int64  \n",
            " 7   Visibility      3811 non-null   float64\n",
            " 8   ROT             3810 non-null   float64\n",
            "dtypes: float64(3), int64(4), object(2)\n",
            "memory usage: 268.1+ KB\n"
          ]
        }
      ],
      "source": [
        "df.info()"
      ]
    },
    {
      "cell_type": "code",
      "execution_count": 196,
      "metadata": {
        "id": "lVj304NjUWe0"
      },
      "outputs": [],
      "source": [
        "# xóa duplicate\n",
        "df.drop_duplicates(inplace=True)"
      ]
    },
    {
      "cell_type": "code",
      "execution_count": 197,
      "metadata": {
        "id": "HbxPGnL-tuQm"
      },
      "outputs": [],
      "source": [
        "df.dropna(inplace=True)"
      ]
    },
    {
      "cell_type": "code",
      "execution_count": 198,
      "metadata": {
        "id": "O6VvFmtVayx3"
      },
      "outputs": [],
      "source": [
        "# Giá trị đúng cần làm tròn\n",
        "true_value = [1750, 2997.63, 2086.35]\n",
        "\n",
        "# Tạo một danh sách mới để lưu giá trị thay đổi\n",
        "updated_exit_location = []\n",
        "hash_tabel={1750 : 'A',\n",
        "            2086.35 : 'B'}\n",
        "exit_label=[]\n",
        "\n",
        "# Lặp qua từng giá trị của cột 'Exit-location'\n",
        "for value in df['Exit-location']:\n",
        "    # Kiểm tra và làm tròn giá trị theo 'true_value'\n",
        "    found = False\n",
        "    for i in true_value:\n",
        "        if abs(value - i) < 5:\n",
        "            updated_exit_location.append(i)\n",
        "            exit_label.append(hash_tabel[i])\n",
        "            found = True\n",
        "            break\n",
        "    # Nếu không khớp với bất kỳ giá trị nào, giữ nguyên giá trị ban đầu\n",
        "    if not found:\n",
        "        updated_exit_location.append(value)\n",
        "\n",
        "# Gán lại danh sách đã cập nhật vào cột 'Exit-location'\n",
        "df['Exit-location'] = updated_exit_location\n",
        "df['Exit-label']=exit_label"
      ]
    },
    {
      "cell_type": "code",
      "execution_count": 199,
      "metadata": {
        "colab": {
          "base_uri": "https://localhost:8080/"
        },
        "id": "pgXwGbVLLadV",
        "outputId": "8677bf0a-e1c8-4adc-ead4-d1d2c9511b48"
      },
      "outputs": [
        {
          "name": "stdout",
          "output_type": "stream",
          "text": [
            "<class 'pandas.core.frame.DataFrame'>\n",
            "Index: 3779 entries, 0 to 3810\n",
            "Data columns (total 10 columns):\n",
            " #   Column          Non-Null Count  Dtype  \n",
            "---  ------          --------------  -----  \n",
            " 0   Exit-location   3779 non-null   float64\n",
            " 1   Aircraft-type   3779 non-null   object \n",
            " 2   Final-approach  3779 non-null   int64  \n",
            " 3   Exit-angle      3779 non-null   int64  \n",
            " 4   Temperature     3779 non-null   int64  \n",
            " 5   Time            3779 non-null   object \n",
            " 6   Windspeed       3779 non-null   int64  \n",
            " 7   Visibility      3779 non-null   float64\n",
            " 8   ROT             3779 non-null   float64\n",
            " 9   Exit-label      3779 non-null   object \n",
            "dtypes: float64(3), int64(4), object(3)\n",
            "memory usage: 324.8+ KB\n"
          ]
        }
      ],
      "source": [
        "df.info()"
      ]
    },
    {
      "cell_type": "code",
      "execution_count": 200,
      "metadata": {
        "colab": {
          "base_uri": "https://localhost:8080/"
        },
        "id": "jPR-LD4shVPm",
        "outputId": "00357082-1275-4379-fba2-dbef5d981bf5"
      },
      "outputs": [
        {
          "data": {
            "text/plain": [
              "array([2086.35, 1750.  ])"
            ]
          },
          "execution_count": 200,
          "metadata": {},
          "output_type": "execute_result"
        }
      ],
      "source": [
        "df['Exit-location'].unique()"
      ]
    },
    {
      "cell_type": "code",
      "execution_count": 201,
      "metadata": {
        "colab": {
          "base_uri": "https://localhost:8080/",
          "height": 300
        },
        "id": "wFL_rqsXhdTP",
        "outputId": "8f1c0089-6e4f-4799-e7df-65fffa569603"
      },
      "outputs": [
        {
          "data": {
            "text/html": [
              "<div>\n",
              "<style scoped>\n",
              "    .dataframe tbody tr th:only-of-type {\n",
              "        vertical-align: middle;\n",
              "    }\n",
              "\n",
              "    .dataframe tbody tr th {\n",
              "        vertical-align: top;\n",
              "    }\n",
              "\n",
              "    .dataframe thead th {\n",
              "        text-align: right;\n",
              "    }\n",
              "</style>\n",
              "<table border=\"1\" class=\"dataframe\">\n",
              "  <thead>\n",
              "    <tr style=\"text-align: right;\">\n",
              "      <th></th>\n",
              "      <th>Exit-location</th>\n",
              "      <th>Final-approach</th>\n",
              "      <th>Exit-angle</th>\n",
              "      <th>Temperature</th>\n",
              "      <th>Windspeed</th>\n",
              "      <th>Visibility</th>\n",
              "      <th>ROT</th>\n",
              "    </tr>\n",
              "  </thead>\n",
              "  <tbody>\n",
              "    <tr>\n",
              "      <th>count</th>\n",
              "      <td>3779.000000</td>\n",
              "      <td>3779.000000</td>\n",
              "      <td>3779.0</td>\n",
              "      <td>3779.000000</td>\n",
              "      <td>3779.000000</td>\n",
              "      <td>3779.000000</td>\n",
              "      <td>3779.000000</td>\n",
              "    </tr>\n",
              "    <tr>\n",
              "      <th>mean</th>\n",
              "      <td>1990.580590</td>\n",
              "      <td>137.692776</td>\n",
              "      <td>30.0</td>\n",
              "      <td>28.785658</td>\n",
              "      <td>-1.203493</td>\n",
              "      <td>8.069701</td>\n",
              "      <td>57.868748</td>\n",
              "    </tr>\n",
              "    <tr>\n",
              "      <th>std</th>\n",
              "      <td>151.810275</td>\n",
              "      <td>16.797287</td>\n",
              "      <td>0.0</td>\n",
              "      <td>3.153073</td>\n",
              "      <td>5.038983</td>\n",
              "      <td>1.378762</td>\n",
              "      <td>4.721825</td>\n",
              "    </tr>\n",
              "    <tr>\n",
              "      <th>min</th>\n",
              "      <td>1750.000000</td>\n",
              "      <td>50.000000</td>\n",
              "      <td>30.0</td>\n",
              "      <td>22.000000</td>\n",
              "      <td>-15.000000</td>\n",
              "      <td>3.200000</td>\n",
              "      <td>40.000000</td>\n",
              "    </tr>\n",
              "    <tr>\n",
              "      <th>25%</th>\n",
              "      <td>1750.000000</td>\n",
              "      <td>135.000000</td>\n",
              "      <td>30.0</td>\n",
              "      <td>26.000000</td>\n",
              "      <td>-5.000000</td>\n",
              "      <td>7.000000</td>\n",
              "      <td>55.000000</td>\n",
              "    </tr>\n",
              "    <tr>\n",
              "      <th>50%</th>\n",
              "      <td>2086.350000</td>\n",
              "      <td>141.000000</td>\n",
              "      <td>30.0</td>\n",
              "      <td>29.000000</td>\n",
              "      <td>-2.000000</td>\n",
              "      <td>8.000000</td>\n",
              "      <td>58.000000</td>\n",
              "    </tr>\n",
              "    <tr>\n",
              "      <th>75%</th>\n",
              "      <td>2086.350000</td>\n",
              "      <td>147.000000</td>\n",
              "      <td>30.0</td>\n",
              "      <td>31.000000</td>\n",
              "      <td>2.000000</td>\n",
              "      <td>9.000000</td>\n",
              "      <td>61.000000</td>\n",
              "    </tr>\n",
              "    <tr>\n",
              "      <th>max</th>\n",
              "      <td>2086.350000</td>\n",
              "      <td>176.000000</td>\n",
              "      <td>30.0</td>\n",
              "      <td>35.000000</td>\n",
              "      <td>12.000000</td>\n",
              "      <td>10.000000</td>\n",
              "      <td>77.000000</td>\n",
              "    </tr>\n",
              "  </tbody>\n",
              "</table>\n",
              "</div>"
            ],
            "text/plain": [
              "       Exit-location  Final-approach  Exit-angle  Temperature    Windspeed  \\\n",
              "count    3779.000000     3779.000000      3779.0  3779.000000  3779.000000   \n",
              "mean     1990.580590      137.692776        30.0    28.785658    -1.203493   \n",
              "std       151.810275       16.797287         0.0     3.153073     5.038983   \n",
              "min      1750.000000       50.000000        30.0    22.000000   -15.000000   \n",
              "25%      1750.000000      135.000000        30.0    26.000000    -5.000000   \n",
              "50%      2086.350000      141.000000        30.0    29.000000    -2.000000   \n",
              "75%      2086.350000      147.000000        30.0    31.000000     2.000000   \n",
              "max      2086.350000      176.000000        30.0    35.000000    12.000000   \n",
              "\n",
              "        Visibility          ROT  \n",
              "count  3779.000000  3779.000000  \n",
              "mean      8.069701    57.868748  \n",
              "std       1.378762     4.721825  \n",
              "min       3.200000    40.000000  \n",
              "25%       7.000000    55.000000  \n",
              "50%       8.000000    58.000000  \n",
              "75%       9.000000    61.000000  \n",
              "max      10.000000    77.000000  "
            ]
          },
          "execution_count": 201,
          "metadata": {},
          "output_type": "execute_result"
        }
      ],
      "source": [
        "df.describe()"
      ]
    },
    {
      "cell_type": "code",
      "execution_count": 202,
      "metadata": {
        "colab": {
          "base_uri": "https://localhost:8080/",
          "height": 1000
        },
        "id": "OsG-aZdGmEbZ",
        "outputId": "2cdcc5b2-50fa-49c4-90bc-0b22ceee0181"
      },
      "outputs": [
        {
          "data": {
            "image/png": "[encoded data removed]",
            "text/plain": [
              "<Figure size 2000x1500 with 9 Axes>"
            ]
          },
          "metadata": {},
          "output_type": "display_data"
        }
      ],
      "source": [
        "# kiểm tra phân phối dữ liệu\n",
        "df.hist(bins=50,figsize=(20,15))\n",
        "plt.show()"
      ]
    },
    {
      "cell_type": "code",
      "execution_count": 203,
      "metadata": {
        "id": "-aSNZkFeYOA1"
      },
      "outputs": [],
      "source": [
        "# encode các giá trị categorical\n",
        "df_original=df.copy()\n",
        "from sklearn.preprocessing import LabelEncoder\n",
        "categorical_feature=['Aircraft-type','Time','Exit-label']\n",
        "for feature in categorical_feature:\n",
        "  le=LabelEncoder()\n",
        "  df[feature]=le.fit_transform(df[feature])"
      ]
    },
    {
      "cell_type": "code",
      "execution_count": 204,
      "metadata": {
        "colab": {
          "base_uri": "https://localhost:8080/"
        },
        "id": "WYkoDpNbGEXI",
        "outputId": "a6045a12-17ea-43b9-f237-26446d3b84a3"
      },
      "outputs": [
        {
          "name": "stdout",
          "output_type": "stream",
          "text": [
            "<class 'pandas.core.frame.DataFrame'>\n",
            "Index: 3779 entries, 0 to 3810\n",
            "Data columns (total 10 columns):\n",
            " #   Column          Non-Null Count  Dtype  \n",
            "---  ------          --------------  -----  \n",
            " 0   Exit-location   3779 non-null   float64\n",
            " 1   Aircraft-type   3779 non-null   int64  \n",
            " 2   Final-approach  3779 non-null   int64  \n",
            " 3   Exit-angle      3779 non-null   int64  \n",
            " 4   Temperature     3779 non-null   int64  \n",
            " 5   Time            3779 non-null   int64  \n",
            " 6   Windspeed       3779 non-null   int64  \n",
            " 7   Visibility      3779 non-null   float64\n",
            " 8   ROT             3779 non-null   float64\n",
            " 9   Exit-label      3779 non-null   int64  \n",
            "dtypes: float64(3), int64(7)\n",
            "memory usage: 324.8 KB\n"
          ]
        }
      ],
      "source": [
        "df.info()"
      ]
    },
    {
      "cell_type": "code",
      "execution_count": 205,
      "metadata": {
        "colab": {
          "base_uri": "https://localhost:8080/",
          "height": 545
        },
        "id": "l97DP-4JJSGm",
        "outputId": "b6b7c7ec-3acc-469c-a6a7-b4441b29f7ed"
      },
      "outputs": [
        {
          "data": {
            "image/png": "[encoded data removed]",
            "text/plain": [
              "<Figure size 1000x600 with 1 Axes>"
            ]
          },
          "metadata": {},
          "output_type": "display_data"
        }
      ],
      "source": [
        "# vẽ box plot của cột ROT\n",
        "plt.figure(figsize=(10, 6))\n",
        "plt.boxplot(df['Final-approach'])\n",
        "plt.title(\"Box Plot của cột ROT\")\n",
        "plt.ylabel(\"Giá trị ROT\")\n",
        "plt.grid()\n",
        "plt.show()"
      ]
    },
    {
      "cell_type": "code",
      "execution_count": 206,
      "metadata": {
        "colab": {
          "base_uri": "https://localhost:8080/"
        },
        "id": "8nrHZeLDL_22",
        "outputId": "72c650dd-3850-4075-b47a-d1cb2b14154a"
      },
      "outputs": [
        {
          "name": "stdout",
          "output_type": "stream",
          "text": [
            "Số lượng trước khi lọc: 3779\n",
            "Số lượng sau khi lọc: 3399\n",
            "Số lượng bị loại: 380\n"
          ]
        }
      ],
      "source": [
        "import pandas as pd\n",
        "\n",
        "# Giả sử df là DataFrame của bạn và cột cần lọc là 'Final-approach'\n",
        "Q1 = df['Final-approach'].quantile(0.25)\n",
        "Q3 = df['Final-approach'].quantile(0.75)\n",
        "IQR = Q3 - Q1\n",
        "\n",
        "lower_bound = Q1 - 1.5 * IQR\n",
        "upper_bound = Q3 + 1.5 * IQR\n",
        "\n",
        "# Lọc bỏ outliers\n",
        "df_no_outlier = df[(df['Final-approach'] >= lower_bound) & (df['Final-approach'] <= upper_bound)]\n",
        "\n",
        "print(\"Số lượng trước khi lọc:\", len(df))\n",
        "print(\"Số lượng sau khi lọc:\", len(df_no_outlier))\n",
        "print(\"Số lượng bị loại:\", len(df) - len(df_no_outlier))"
      ]
    },
    {
      "cell_type": "code",
      "execution_count": 207,
      "metadata": {
        "colab": {
          "base_uri": "https://localhost:8080/",
          "height": 1000
        },
        "id": "DxnFa2ZnTyDc",
        "outputId": "2b69b456-0e08-43e7-8198-75c495fd26ee"
      },
      "outputs": [
        {
          "data": {
            "image/png": "[encoded data removed]",
            "text/plain": [
              "<Figure size 2000x1500 with 12 Axes>"
            ]
          },
          "metadata": {},
          "output_type": "display_data"
        }
      ],
      "source": [
        "df = df_no_outlier.reset_index(drop=True)\n",
        "df.hist(bins=50,figsize=(20,15))\n",
        "plt.show()"
      ]
    },
    {
      "cell_type": "code",
      "execution_count": 208,
      "metadata": {
        "id": "riBe-Rw4saPu"
      },
      "outputs": [],
      "source": [
        "df.reset_index(drop=True,inplace=True)\n"
      ]
    },
    {
      "cell_type": "markdown",
      "metadata": {
        "id": "gSSbpE81otOt"
      },
      "source": [
        "### RECURRENT NEURAL NETWORK for exit use"
      ]
    },
    {
      "cell_type": "code",
      "execution_count": 209,
      "metadata": {
        "id": "eynzSSnIosa3"
      },
      "outputs": [],
      "source": [
        "# Tạo dữ liệu\n",
        "df = df.sample(frac=1).reset_index(drop=True)\n",
        "aircraft_features=['Final-approach','Aircraft-type','Temperature','Time','Windspeed','Visibility']\n",
        "runway_feautures=['Exit-location','Exit-angle']\n",
        "aircraft_df=df[aircraft_features]\n",
        "runway_df=df[runway_feautures]"
      ]
    },
    {
      "cell_type": "code",
      "execution_count": 210,
      "metadata": {
        "colab": {
          "base_uri": "https://localhost:8080/"
        },
        "id": "wIo8AevNivkf",
        "outputId": "c0803339-02f4-4bc4-df13-fb1924cb9b14"
      },
      "outputs": [
        {
          "name": "stderr",
          "output_type": "stream",
          "text": [
            "C:\\Users\\ADMIN\\AppData\\Local\\Temp\\ipykernel_20488\\3970589878.py:1: SettingWithCopyWarning: \n",
            "A value is trying to be set on a copy of a slice from a DataFrame\n",
            "\n",
            "See the caveats in the documentation: https://pandas.pydata.org/pandas-docs/stable/user_guide/indexing.html#returning-a-view-versus-a-copy\n",
            "  runway_df.drop_duplicates(inplace=True)\n",
            "C:\\Users\\ADMIN\\AppData\\Local\\Temp\\ipykernel_20488\\3970589878.py:3: SettingWithCopyWarning: \n",
            "A value is trying to be set on a copy of a slice from a DataFrame\n",
            "\n",
            "See the caveats in the documentation: https://pandas.pydata.org/pandas-docs/stable/user_guide/indexing.html#returning-a-view-versus-a-copy\n",
            "  runway_df.sort_values(by='Exit-location',inplace=True)\n"
          ]
        }
      ],
      "source": [
        "runway_df.drop_duplicates(inplace=True)\n",
        "# sắp xếp lại theo giá trị của exit location\n",
        "runway_df.sort_values(by='Exit-location',inplace=True)"
      ]
    },
    {
      "cell_type": "code",
      "execution_count": 211,
      "metadata": {
        "colab": {
          "base_uri": "https://localhost:8080/",
          "height": 125
        },
        "id": "kt6VSu9aY91V",
        "outputId": "e34f141f-cad1-4236-bc56-d283ff488eca"
      },
      "outputs": [
        {
          "data": {
            "text/html": [
              "<div>\n",
              "<style scoped>\n",
              "    .dataframe tbody tr th:only-of-type {\n",
              "        vertical-align: middle;\n",
              "    }\n",
              "\n",
              "    .dataframe tbody tr th {\n",
              "        vertical-align: top;\n",
              "    }\n",
              "\n",
              "    .dataframe thead th {\n",
              "        text-align: right;\n",
              "    }\n",
              "</style>\n",
              "<table border=\"1\" class=\"dataframe\">\n",
              "  <thead>\n",
              "    <tr style=\"text-align: right;\">\n",
              "      <th></th>\n",
              "      <th>Exit-location</th>\n",
              "      <th>Exit-angle</th>\n",
              "    </tr>\n",
              "  </thead>\n",
              "  <tbody>\n",
              "    <tr>\n",
              "      <th>0</th>\n",
              "      <td>1750.00</td>\n",
              "      <td>30</td>\n",
              "    </tr>\n",
              "    <tr>\n",
              "      <th>1</th>\n",
              "      <td>2086.35</td>\n",
              "      <td>30</td>\n",
              "    </tr>\n",
              "  </tbody>\n",
              "</table>\n",
              "</div>"
            ],
            "text/plain": [
              "   Exit-location  Exit-angle\n",
              "0        1750.00          30\n",
              "1        2086.35          30"
            ]
          },
          "execution_count": 211,
          "metadata": {},
          "output_type": "execute_result"
        }
      ],
      "source": [
        "runway_df"
      ]
    },
    {
      "cell_type": "code",
      "execution_count": 212,
      "metadata": {
        "colab": {
          "base_uri": "https://localhost:8080/"
        },
        "id": "M8rukkkoo6pX",
        "outputId": "287c237c-d1c0-473d-d7d3-8ab56b97d6db"
      },
      "outputs": [
        {
          "name": "stdout",
          "output_type": "stream",
          "text": [
            "Kích thước mảng: (3399, 2, 8)\n",
            "[[[1750.     30.    147.   ...    0.     -3.      7.  ]\n",
            "  [2086.35   30.    147.   ...    0.     -3.      7.  ]]\n",
            "\n",
            " [[1750.     30.    134.   ...    0.     -4.      8.  ]\n",
            "  [2086.35   30.    134.   ...    0.     -4.      8.  ]]\n",
            "\n",
            " [[1750.     30.    150.   ...    0.      3.      8.  ]\n",
            "  [2086.35   30.    150.   ...    0.      3.      8.  ]]\n",
            "\n",
            " ...\n",
            "\n",
            " [[1750.     30.    146.   ...    0.      4.      8.  ]\n",
            "  [2086.35   30.    146.   ...    0.      4.      8.  ]]\n",
            "\n",
            " [[1750.     30.    160.   ...    0.     -3.      6.  ]\n",
            "  [2086.35   30.    160.   ...    0.     -3.      6.  ]]\n",
            "\n",
            " [[1750.     30.    141.   ...    0.      5.      9.  ]\n",
            "  [2086.35   30.    141.   ...    0.      5.      9.  ]]]\n"
          ]
        }
      ],
      "source": [
        "aircraft_df.reset_index(drop=True,inplace=True)\n",
        "runway_df.reset_index(drop=True,inplace=True)\n",
        "# Số đặc trưng\n",
        "n = runway_df.shape[1]\n",
        "m = aircraft_df.shape[1]\n",
        "\n",
        "# Khởi tạo mảng 3 chiều\n",
        "array_3d = np.zeros((len(aircraft_df), len(runway_df), n + m))\n",
        "\n",
        "# Điền giá trị vào mảng\n",
        "for i, plane in aircraft_df.iterrows():\n",
        "    for j, runway in runway_df.iterrows():\n",
        "\n",
        "        plane_features = plane[:].values\n",
        "        # Lấy đặc trưng runway\n",
        "        runway_features = runway[:].values\n",
        "        # Ghép đặc trưng\n",
        "        combined_features = np.concatenate((runway_features, plane_features))\n",
        "        # Điền vào mảng\n",
        "        array_3d[i, j, :] = combined_features\n",
        "\n",
        "# Kết quả\n",
        "print(\"Kích thước mảng:\", array_3d.shape)\n",
        "print(array_3d)"
      ]
    },
    {
      "cell_type": "code",
      "execution_count": 213,
      "metadata": {
        "id": "7-DiiWNKmDTS"
      },
      "outputs": [],
      "source": [
        "# chuẩn hóa dữ liệu\n",
        "from sklearn.preprocessing import StandardScaler\n",
        "N,seq_len,M=array_3d.shape\n",
        "data_reshaped = array_3d.reshape(-1, M)  # Chuyển thành mảng 2D (N*3, M)\n",
        "\n",
        "# Chuẩn hóa dữ liệu\n",
        "scaler_pro = StandardScaler()\n",
        "data_normalized = scaler_pro.fit_transform(data_reshaped)\n",
        "\n",
        "# Chuyển đổi lại thành mảng 3D Nx3xM\n",
        "data_normalized_3d = data_normalized.reshape(N, seq_len, M)\n"
      ]
    },
    {
      "cell_type": "code",
      "execution_count": 214,
      "metadata": {
        "id": "EbG9m4Oyrm_J"
      },
      "outputs": [],
      "source": [
        "import torch\n",
        "import torch.nn as nn\n",
        "import torch.optim as optim\n",
        "from torch.utils.data import DataLoader, TensorDataset\n",
        "\n",
        "\n",
        "num_samples = N  # Số lượng mẫu dữ liệu\n",
        "seq_len = data_normalized_3d.shape[1]  # Độ dài chuỗi\n",
        "input_dim = data_normalized_3d.shape[2]  # Số đặc trưng mỗi bước\n",
        "output_dim = data_normalized_3d.shape[1]  # Số lớp cần phân loại\n",
        "batch_size = 256  # Kích thước batch\n",
        "\n",
        "X_tensor = torch.tensor(data_normalized_3d,dtype=torch.float32)\n",
        "y_tensor = torch.tensor(df['Exit-label'], dtype=torch.long)  # Cần dtype=torch.long cho CrossEntropyLoss\n",
        "\n",
        "# Chia tập train/test\n",
        "train_size = int(0.8 * num_samples)\n",
        "X_train, X_test = X_tensor[:train_size], X_tensor[train_size:]\n",
        "y_train, y_test = y_tensor[:train_size], y_tensor[train_size:]\n",
        "\n",
        "# Tạo DataLoader\n",
        "train_dataset = TensorDataset(X_train, y_train)\n",
        "test_dataset = TensorDataset(X_test, y_test)\n",
        "\n",
        "class_counts = np.bincount(y_train.numpy())\n",
        "class_weights = 1.0 / class_counts\n",
        "weights = class_weights[y_train.numpy()]\n",
        "\n",
        "# Tạo sampler\n",
        "sampler = torch.utils.data.WeightedRandomSampler(weights, num_samples=len(weights), replacement=True)\n",
        "\n",
        "# Tạo DataLoader với sampler\n",
        "train_loader = DataLoader(train_dataset, batch_size=batch_size, sampler=sampler)\n",
        "\n",
        "test_loader = DataLoader(test_dataset, batch_size=batch_size, shuffle=False)"
      ]
    },
    {
      "cell_type": "code",
      "execution_count": 215,
      "metadata": {
        "id": "as9sqk7dwSi2"
      },
      "outputs": [],
      "source": [
        "class LSTMPredictor(nn.Module):\n",
        "    def __init__(self, input_dim, hidden_dim=30, output_dim=4):\n",
        "        super(LSTMPredictor, self).__init__()\n",
        "        self.hidden_dim = hidden_dim\n",
        "\n",
        "        # Lớp LSTM\n",
        "        self.lstm = nn.LSTM(input_dim, hidden_dim, batch_first=True)\n",
        "\n",
        "        # Lớp Fully Connected\n",
        "        self.fc = nn.Linear(hidden_dim, output_dim)\n",
        "\n",
        "        # Hàm Softmax sẽ được áp dụng trong loss function\n",
        "        self.softmax = nn.Softmax(dim=-1)\n",
        "\n",
        "    def forward(self, x):\n",
        "        lstm_out, _ = self.lstm(x)  # lstm_out có shape (batch_size, seq_len, hidden_dim)\n",
        "        lstm_out = torch.relu(lstm_out)  # Áp dụng ReLU\n",
        "        output = self.fc(lstm_out)  # Lớp Fully Connected\n",
        "        output = output[:, -1, :]  # Lấy output của bước cuối cùng\n",
        "        score = self.softmax(output)\n",
        "        return output,score  # Trả về logits (chưa áp dụng Softmax)"
      ]
    },
    {
      "cell_type": "code",
      "execution_count": 216,
      "metadata": {
        "id": "ksweXD3EwXt9"
      },
      "outputs": [],
      "source": [
        "def train1(model, train_loader,test_loader,criterion,optimizer, batch_size,num_epochs=20):\n",
        "\n",
        "  # Tạo sampler\n",
        "  sampler = torch.utils.data.WeightedRandomSampler(weights, num_samples=len(weights), replacement=True)\n",
        "\n",
        "  # Tạo DataLoader với sampler\n",
        "  train_loader = DataLoader(train_dataset, batch_size=batch_size, sampler=sampler)\n",
        "\n",
        "  test_loader = DataLoader(test_dataset, batch_size=batch_size, shuffle=False)\n",
        "  model.train()\n",
        "  losses = {\"train\":[],\"test\":[]}\n",
        "  # Khởi tạo mô hình, loss function và optimizer\n",
        "  device = torch.device(\"cuda\" if torch.cuda.is_available() else \"cpu\")\n",
        "  model.to(device)\n",
        "  # Huấn luyện mô hình\n",
        "  scheduler = optim.lr_scheduler.CosineAnnealingLR(optimizer, T_max=num_epochs*len(train_loader), eta_min=1e-5)\n",
        "  for epoch in range(num_epochs):\n",
        "      model.train()\n",
        "      total_loss = 0\n",
        "\n",
        "      for X_batch, y_batch in train_loader:\n",
        "          X_batch, y_batch = X_batch.to(device), y_batch.to(device)\n",
        "\n",
        "          # Forward\n",
        "          outputs,score = model(X_batch)  # (batch_size, seq_len, output_dim)\n",
        "\n",
        "          # Reshape để tính loss: từ (batch, seq, output_dim) → (batch*seq, output_dim)\n",
        "          loss = criterion(outputs.view(-1, output_dim), y_batch.view(-1))\n",
        "\n",
        "          # Backward\n",
        "          optimizer.zero_grad()\n",
        "          loss.backward()\n",
        "          optimizer.step()\n",
        "\n",
        "          total_loss += loss.item()\n",
        "          scheduler.step()\n",
        "      _,_,test_losses=evaluate_model(model,test_loader)\n",
        "      losses[\"train\"].append(total_loss/len(train_loader))\n",
        "      losses[\"test\"].append(test_losses)\n",
        "      if epoch%10==0:\n",
        "        print(f\"Epoch [{epoch+1}/{num_epochs}], Loss: {total_loss/len(train_loader):.4f}\")\n",
        "  # visualize loss for each epoch\n",
        "  plt.plot(losses[\"train\"],label=\"train\")\n",
        "  plt.plot(losses[\"test\"],label=\"test\")\n",
        "  plt.legend()\n",
        "  plt.show()\n"
      ]
    },
    {
      "cell_type": "code",
      "execution_count": 217,
      "metadata": {
        "id": "jBMDL-AX2bAi"
      },
      "outputs": [],
      "source": [
        "from sklearn.metrics import accuracy_score, f1_score, confusion_matrix, classification_report\n",
        "def evaluate_model(model, test_loader):\n",
        "  device=torch.device(\"cuda\" if torch.cuda.is_available() else \"cpu\")\n",
        "  model.to(device)\n",
        "  model.eval()\n",
        "  y_true, y_pred = [], []\n",
        "  losses = 0\n",
        "  with torch.no_grad():\n",
        "      for X_batch, y_batch in test_loader:\n",
        "          X_batch, y_batch = X_batch.to(device), y_batch.to(device)\n",
        "\n",
        "          outputs,score = model(X_batch)  # (batch_size, seq_len, output_dim)\n",
        "          predicted_labels = torch.argmax(score, dim=-1)  # Lấy nhãn có xác suất cao nhất\n",
        "          loss = criterion(outputs.view(-1, output_dim), y_batch.view(-1))\n",
        "          losses += loss.item()\n",
        "          y_true.extend(y_batch.cpu().numpy().flatten())  # Flatten vì mỗi mẫu có seq_len nhãn\n",
        "          y_pred.extend(predicted_labels.cpu().numpy().flatten())\n",
        "\n",
        "  # Đánh giá bằng Accuracy\n",
        "  accuracy = accuracy_score(y_true, y_pred)\n",
        "  f1_score_macro = f1_score(y_true, y_pred, average='macro')\n",
        "  print(classification_report(y_true,y_pred))\n",
        "  return accuracy,f1_score_macro,losses/len(test_loader)\n"
      ]
    },
    {
      "cell_type": "code",
      "execution_count": 218,
      "metadata": {
        "colab": {
          "base_uri": "https://localhost:8080/",
          "height": 1000
        },
        "id": "NVmh3Z5IonDT",
        "outputId": "8139c427-2a36-4ee3-a5b5-01d0ebfd3185"
      },
      "outputs": [
        {
          "name": "stdout",
          "output_type": "stream",
          "text": [
            "              precision    recall  f1-score   support\n",
            "\n",
            "           0       0.42      0.94      0.58       185\n",
            "           1       0.96      0.51      0.67       495\n",
            "\n",
            "    accuracy                           0.63       680\n",
            "   macro avg       0.69      0.73      0.62       680\n",
            "weighted avg       0.81      0.63      0.64       680\n",
            "\n",
            "Epoch [1/100], Loss: 0.7005\n",
            "              precision    recall  f1-score   support\n",
            "\n",
            "           0       0.34      1.00      0.51       185\n",
            "           1       1.00      0.28      0.44       495\n",
            "\n",
            "    accuracy                           0.48       680\n",
            "   macro avg       0.67      0.64      0.48       680\n",
            "weighted avg       0.82      0.48      0.46       680\n",
            "\n",
            "              precision    recall  f1-score   support\n",
            "\n",
            "           0       0.34      1.00      0.50       185\n",
            "           1       1.00      0.26      0.41       495\n",
            "\n",
            "    accuracy                           0.46       680\n",
            "   macro avg       0.67      0.63      0.46       680\n",
            "weighted avg       0.82      0.46      0.44       680\n",
            "\n",
            "              precision    recall  f1-score   support\n",
            "\n",
            "           0       0.34      1.00      0.51       185\n",
            "           1       1.00      0.29      0.45       495\n",
            "\n",
            "    accuracy                           0.48       680\n",
            "   macro avg       0.67      0.64      0.48       680\n",
            "weighted avg       0.82      0.48      0.46       680\n",
            "\n",
            "              precision    recall  f1-score   support\n",
            "\n",
            "           0       0.36      1.00      0.53       185\n",
            "           1       1.00      0.35      0.52       495\n",
            "\n",
            "    accuracy                           0.53       680\n",
            "   macro avg       0.68      0.67      0.53       680\n",
            "weighted avg       0.83      0.53      0.52       680\n",
            "\n",
            "              precision    recall  f1-score   support\n",
            "\n",
            "           0       0.39      0.98      0.56       185\n",
            "           1       0.99      0.43      0.60       495\n",
            "\n",
            "    accuracy                           0.58       680\n",
            "   macro avg       0.69      0.71      0.58       680\n",
            "weighted avg       0.82      0.58      0.59       680\n",
            "\n",
            "              precision    recall  f1-score   support\n",
            "\n",
            "           0       0.42      0.97      0.58       185\n",
            "           1       0.98      0.49      0.65       495\n",
            "\n",
            "    accuracy                           0.62       680\n",
            "   macro avg       0.70      0.73      0.62       680\n",
            "weighted avg       0.83      0.62      0.63       680\n",
            "\n",
            "              precision    recall  f1-score   support\n",
            "\n",
            "           0       0.44      0.97      0.61       185\n",
            "           1       0.98      0.55      0.70       495\n",
            "\n",
            "    accuracy                           0.66       680\n",
            "   macro avg       0.71      0.76      0.66       680\n",
            "weighted avg       0.84      0.66      0.68       680\n",
            "\n",
            "              precision    recall  f1-score   support\n",
            "\n",
            "           0       0.45      0.96      0.61       185\n",
            "           1       0.97      0.56      0.71       495\n",
            "\n",
            "    accuracy                           0.67       680\n",
            "   macro avg       0.71      0.76      0.66       680\n",
            "weighted avg       0.83      0.67      0.68       680\n",
            "\n",
            "              precision    recall  f1-score   support\n",
            "\n",
            "           0       0.45      0.96      0.61       185\n",
            "           1       0.97      0.57      0.72       495\n",
            "\n",
            "    accuracy                           0.67       680\n",
            "   macro avg       0.71      0.76      0.66       680\n",
            "weighted avg       0.83      0.67      0.69       680\n",
            "\n",
            "              precision    recall  f1-score   support\n",
            "\n",
            "           0       0.45      0.95      0.61       185\n",
            "           1       0.97      0.57      0.72       495\n",
            "\n",
            "    accuracy                           0.68       680\n",
            "   macro avg       0.71      0.76      0.67       680\n",
            "weighted avg       0.83      0.68      0.69       680\n",
            "\n",
            "Epoch [11/100], Loss: 0.3218\n",
            "              precision    recall  f1-score   support\n",
            "\n",
            "           0       0.46      0.95      0.62       185\n",
            "           1       0.97      0.58      0.73       495\n",
            "\n",
            "    accuracy                           0.68       680\n",
            "   macro avg       0.71      0.76      0.67       680\n",
            "weighted avg       0.83      0.68      0.70       680\n",
            "\n",
            "              precision    recall  f1-score   support\n",
            "\n",
            "           0       0.46      0.94      0.62       185\n",
            "           1       0.96      0.59      0.73       495\n",
            "\n",
            "    accuracy                           0.69       680\n",
            "   macro avg       0.71      0.77      0.68       680\n",
            "weighted avg       0.83      0.69      0.70       680\n",
            "\n",
            "              precision    recall  f1-score   support\n",
            "\n",
            "           0       0.46      0.96      0.62       185\n",
            "           1       0.97      0.58      0.73       495\n",
            "\n",
            "    accuracy                           0.69       680\n",
            "   macro avg       0.72      0.77      0.68       680\n",
            "weighted avg       0.83      0.69      0.70       680\n",
            "\n",
            "              precision    recall  f1-score   support\n",
            "\n",
            "           0       0.46      0.96      0.62       185\n",
            "           1       0.97      0.58      0.73       495\n",
            "\n",
            "    accuracy                           0.69       680\n",
            "   macro avg       0.72      0.77      0.68       680\n",
            "weighted avg       0.83      0.69      0.70       680\n",
            "\n",
            "              precision    recall  f1-score   support\n",
            "\n",
            "           0       0.46      0.95      0.62       185\n",
            "           1       0.97      0.59      0.73       495\n",
            "\n",
            "    accuracy                           0.69       680\n",
            "   macro avg       0.72      0.77      0.68       680\n",
            "weighted avg       0.83      0.69      0.70       680\n",
            "\n",
            "              precision    recall  f1-score   support\n",
            "\n",
            "           0       0.46      0.96      0.62       185\n",
            "           1       0.97      0.58      0.73       495\n",
            "\n",
            "    accuracy                           0.68       680\n",
            "   macro avg       0.72      0.77      0.68       680\n",
            "weighted avg       0.83      0.68      0.70       680\n",
            "\n",
            "              precision    recall  f1-score   support\n",
            "\n",
            "           0       0.47      0.94      0.62       185\n",
            "           1       0.96      0.60      0.74       495\n",
            "\n",
            "    accuracy                           0.69       680\n",
            "   macro avg       0.71      0.77      0.68       680\n",
            "weighted avg       0.83      0.69      0.71       680\n",
            "\n",
            "              precision    recall  f1-score   support\n",
            "\n",
            "           0       0.46      0.95      0.62       185\n",
            "           1       0.97      0.58      0.73       495\n",
            "\n",
            "    accuracy                           0.68       680\n",
            "   macro avg       0.72      0.77      0.67       680\n",
            "weighted avg       0.83      0.68      0.70       680\n",
            "\n",
            "              precision    recall  f1-score   support\n",
            "\n",
            "           0       0.46      0.96      0.63       185\n",
            "           1       0.97      0.59      0.73       495\n",
            "\n",
            "    accuracy                           0.69       680\n",
            "   macro avg       0.72      0.77      0.68       680\n",
            "weighted avg       0.83      0.69      0.70       680\n",
            "\n",
            "              precision    recall  f1-score   support\n",
            "\n",
            "           0       0.47      0.96      0.63       185\n",
            "           1       0.97      0.59      0.73       495\n",
            "\n",
            "    accuracy                           0.69       680\n",
            "   macro avg       0.72      0.77      0.68       680\n",
            "weighted avg       0.84      0.69      0.71       680\n",
            "\n",
            "Epoch [21/100], Loss: 0.3137\n",
            "              precision    recall  f1-score   support\n",
            "\n",
            "           0       0.46      0.96      0.62       185\n",
            "           1       0.97      0.58      0.73       495\n",
            "\n",
            "    accuracy                           0.68       680\n",
            "   macro avg       0.72      0.77      0.67       680\n",
            "weighted avg       0.83      0.68      0.70       680\n",
            "\n",
            "              precision    recall  f1-score   support\n",
            "\n",
            "           0       0.47      0.96      0.63       185\n",
            "           1       0.97      0.59      0.73       495\n",
            "\n",
            "    accuracy                           0.69       680\n",
            "   macro avg       0.72      0.77      0.68       680\n",
            "weighted avg       0.84      0.69      0.71       680\n",
            "\n",
            "              precision    recall  f1-score   support\n",
            "\n",
            "           0       0.46      0.96      0.62       185\n",
            "           1       0.97      0.58      0.73       495\n",
            "\n",
            "    accuracy                           0.68       680\n",
            "   macro avg       0.72      0.77      0.67       680\n",
            "weighted avg       0.83      0.68      0.70       680\n",
            "\n",
            "              precision    recall  f1-score   support\n",
            "\n",
            "           0       0.47      0.95      0.63       185\n",
            "           1       0.97      0.59      0.74       495\n",
            "\n",
            "    accuracy                           0.69       680\n",
            "   macro avg       0.72      0.77      0.68       680\n",
            "weighted avg       0.83      0.69      0.71       680\n",
            "\n",
            "              precision    recall  f1-score   support\n",
            "\n",
            "           0       0.46      0.95      0.62       185\n",
            "           1       0.97      0.59      0.73       495\n",
            "\n",
            "    accuracy                           0.69       680\n",
            "   macro avg       0.72      0.77      0.68       680\n",
            "weighted avg       0.83      0.69      0.70       680\n",
            "\n",
            "              precision    recall  f1-score   support\n",
            "\n",
            "           0       0.47      0.95      0.62       185\n",
            "           1       0.97      0.59      0.74       495\n",
            "\n",
            "    accuracy                           0.69       680\n",
            "   macro avg       0.72      0.77      0.68       680\n",
            "weighted avg       0.83      0.69      0.71       680\n",
            "\n",
            "              precision    recall  f1-score   support\n",
            "\n",
            "           0       0.47      0.95      0.62       185\n",
            "           1       0.97      0.60      0.74       495\n",
            "\n",
            "    accuracy                           0.69       680\n",
            "   macro avg       0.72      0.77      0.68       680\n",
            "weighted avg       0.83      0.69      0.71       680\n",
            "\n",
            "              precision    recall  f1-score   support\n",
            "\n",
            "           0       0.46      0.96      0.63       185\n",
            "           1       0.98      0.58      0.73       495\n",
            "\n",
            "    accuracy                           0.69       680\n",
            "   macro avg       0.72      0.77      0.68       680\n",
            "weighted avg       0.84      0.69      0.70       680\n",
            "\n",
            "              precision    recall  f1-score   support\n",
            "\n",
            "           0       0.47      0.95      0.63       185\n",
            "           1       0.97      0.59      0.74       495\n",
            "\n",
            "    accuracy                           0.69       680\n",
            "   macro avg       0.72      0.77      0.68       680\n",
            "weighted avg       0.83      0.69      0.71       680\n",
            "\n",
            "              precision    recall  f1-score   support\n",
            "\n",
            "           0       0.47      0.94      0.62       185\n",
            "           1       0.96      0.60      0.74       495\n",
            "\n",
            "    accuracy                           0.69       680\n",
            "   macro avg       0.72      0.77      0.68       680\n",
            "weighted avg       0.83      0.69      0.71       680\n",
            "\n",
            "Epoch [31/100], Loss: 0.3203\n",
            "              precision    recall  f1-score   support\n",
            "\n",
            "           0       0.47      0.95      0.63       185\n",
            "           1       0.97      0.59      0.74       495\n",
            "\n",
            "    accuracy                           0.69       680\n",
            "   macro avg       0.72      0.77      0.68       680\n",
            "weighted avg       0.83      0.69      0.71       680\n",
            "\n",
            "              precision    recall  f1-score   support\n",
            "\n",
            "           0       0.46      0.96      0.63       185\n",
            "           1       0.97      0.59      0.73       495\n",
            "\n",
            "    accuracy                           0.69       680\n",
            "   macro avg       0.72      0.77      0.68       680\n",
            "weighted avg       0.83      0.69      0.70       680\n",
            "\n",
            "              precision    recall  f1-score   support\n",
            "\n",
            "           0       0.47      0.95      0.63       185\n",
            "           1       0.97      0.60      0.74       495\n",
            "\n",
            "    accuracy                           0.69       680\n",
            "   macro avg       0.72      0.77      0.68       680\n",
            "weighted avg       0.83      0.69      0.71       680\n",
            "\n",
            "              precision    recall  f1-score   support\n",
            "\n",
            "           0       0.47      0.96      0.63       185\n",
            "           1       0.97      0.59      0.73       495\n",
            "\n",
            "    accuracy                           0.69       680\n",
            "   macro avg       0.72      0.77      0.68       680\n",
            "weighted avg       0.84      0.69      0.71       680\n",
            "\n",
            "              precision    recall  f1-score   support\n",
            "\n",
            "           0       0.47      0.95      0.63       185\n",
            "           1       0.97      0.60      0.74       495\n",
            "\n",
            "    accuracy                           0.69       680\n",
            "   macro avg       0.72      0.77      0.68       680\n",
            "weighted avg       0.83      0.69      0.71       680\n",
            "\n",
            "              precision    recall  f1-score   support\n",
            "\n",
            "           0       0.47      0.95      0.62       185\n",
            "           1       0.97      0.59      0.74       495\n",
            "\n",
            "    accuracy                           0.69       680\n",
            "   macro avg       0.72      0.77      0.68       680\n",
            "weighted avg       0.83      0.69      0.71       680\n",
            "\n",
            "              precision    recall  f1-score   support\n",
            "\n",
            "           0       0.47      0.94      0.62       185\n",
            "           1       0.96      0.60      0.74       495\n",
            "\n",
            "    accuracy                           0.69       680\n",
            "   macro avg       0.72      0.77      0.68       680\n",
            "weighted avg       0.83      0.69      0.71       680\n",
            "\n",
            "              precision    recall  f1-score   support\n",
            "\n",
            "           0       0.46      0.95      0.62       185\n",
            "           1       0.97      0.59      0.73       495\n",
            "\n",
            "    accuracy                           0.69       680\n",
            "   macro avg       0.72      0.77      0.68       680\n",
            "weighted avg       0.83      0.69      0.70       680\n",
            "\n",
            "              precision    recall  f1-score   support\n",
            "\n",
            "           0       0.47      0.96      0.63       185\n",
            "           1       0.97      0.59      0.73       495\n",
            "\n",
            "    accuracy                           0.69       680\n",
            "   macro avg       0.72      0.77      0.68       680\n",
            "weighted avg       0.84      0.69      0.71       680\n",
            "\n",
            "              precision    recall  f1-score   support\n",
            "\n",
            "           0       0.46      0.96      0.63       185\n",
            "           1       0.98      0.59      0.73       495\n",
            "\n",
            "    accuracy                           0.69       680\n",
            "   macro avg       0.72      0.77      0.68       680\n",
            "weighted avg       0.84      0.69      0.70       680\n",
            "\n",
            "Epoch [41/100], Loss: 0.3399\n",
            "              precision    recall  f1-score   support\n",
            "\n",
            "           0       0.46      0.96      0.62       185\n",
            "           1       0.97      0.59      0.73       495\n",
            "\n",
            "    accuracy                           0.69       680\n",
            "   macro avg       0.72      0.77      0.68       680\n",
            "weighted avg       0.83      0.69      0.70       680\n",
            "\n",
            "              precision    recall  f1-score   support\n",
            "\n",
            "           0       0.46      0.96      0.62       185\n",
            "           1       0.97      0.59      0.73       495\n",
            "\n",
            "    accuracy                           0.69       680\n",
            "   macro avg       0.72      0.77      0.68       680\n",
            "weighted avg       0.83      0.69      0.70       680\n",
            "\n",
            "              precision    recall  f1-score   support\n",
            "\n",
            "           0       0.46      0.96      0.63       185\n",
            "           1       0.97      0.59      0.73       495\n",
            "\n",
            "    accuracy                           0.69       680\n",
            "   macro avg       0.72      0.77      0.68       680\n",
            "weighted avg       0.83      0.69      0.70       680\n",
            "\n",
            "              precision    recall  f1-score   support\n",
            "\n",
            "           0       0.47      0.96      0.63       185\n",
            "           1       0.97      0.59      0.73       495\n",
            "\n",
            "    accuracy                           0.69       680\n",
            "   macro avg       0.72      0.77      0.68       680\n",
            "weighted avg       0.84      0.69      0.71       680\n",
            "\n",
            "              precision    recall  f1-score   support\n",
            "\n",
            "           0       0.46      0.96      0.63       185\n",
            "           1       0.97      0.59      0.73       495\n",
            "\n",
            "    accuracy                           0.69       680\n",
            "   macro avg       0.72      0.77      0.68       680\n",
            "weighted avg       0.83      0.69      0.70       680\n",
            "\n",
            "              precision    recall  f1-score   support\n",
            "\n",
            "           0       0.47      0.95      0.63       185\n",
            "           1       0.97      0.60      0.74       495\n",
            "\n",
            "    accuracy                           0.69       680\n",
            "   macro avg       0.72      0.77      0.68       680\n",
            "weighted avg       0.83      0.69      0.71       680\n",
            "\n",
            "              precision    recall  f1-score   support\n",
            "\n",
            "           0       0.47      0.95      0.63       185\n",
            "           1       0.97      0.60      0.74       495\n",
            "\n",
            "    accuracy                           0.70       680\n",
            "   macro avg       0.72      0.77      0.69       680\n",
            "weighted avg       0.83      0.70      0.71       680\n",
            "\n",
            "              precision    recall  f1-score   support\n",
            "\n",
            "           0       0.47      0.95      0.63       185\n",
            "           1       0.97      0.60      0.74       495\n",
            "\n",
            "    accuracy                           0.69       680\n",
            "   macro avg       0.72      0.77      0.68       680\n",
            "weighted avg       0.83      0.69      0.71       680\n",
            "\n",
            "              precision    recall  f1-score   support\n",
            "\n",
            "           0       0.47      0.95      0.63       185\n",
            "           1       0.97      0.60      0.74       495\n",
            "\n",
            "    accuracy                           0.69       680\n",
            "   macro avg       0.72      0.77      0.68       680\n",
            "weighted avg       0.83      0.69      0.71       680\n",
            "\n",
            "              precision    recall  f1-score   support\n",
            "\n",
            "           0       0.47      0.95      0.63       185\n",
            "           1       0.97      0.60      0.74       495\n",
            "\n",
            "    accuracy                           0.69       680\n",
            "   macro avg       0.72      0.77      0.68       680\n",
            "weighted avg       0.83      0.69      0.71       680\n",
            "\n",
            "Epoch [51/100], Loss: 0.3138\n",
            "              precision    recall  f1-score   support\n",
            "\n",
            "           0       0.47      0.95      0.63       185\n",
            "           1       0.97      0.60      0.74       495\n",
            "\n",
            "    accuracy                           0.69       680\n",
            "   macro avg       0.72      0.77      0.68       680\n",
            "weighted avg       0.83      0.69      0.71       680\n",
            "\n",
            "              precision    recall  f1-score   support\n",
            "\n",
            "           0       0.47      0.96      0.63       185\n",
            "           1       0.97      0.59      0.74       495\n",
            "\n",
            "    accuracy                           0.69       680\n",
            "   macro avg       0.72      0.77      0.68       680\n",
            "weighted avg       0.84      0.69      0.71       680\n",
            "\n",
            "              precision    recall  f1-score   support\n",
            "\n",
            "           0       0.47      0.96      0.63       185\n",
            "           1       0.97      0.59      0.74       495\n",
            "\n",
            "    accuracy                           0.69       680\n",
            "   macro avg       0.72      0.78      0.68       680\n",
            "weighted avg       0.84      0.69      0.71       680\n",
            "\n",
            "              precision    recall  f1-score   support\n",
            "\n",
            "           0       0.47      0.96      0.63       185\n",
            "           1       0.97      0.59      0.74       495\n",
            "\n",
            "    accuracy                           0.69       680\n",
            "   macro avg       0.72      0.78      0.68       680\n",
            "weighted avg       0.84      0.69      0.71       680\n",
            "\n",
            "              precision    recall  f1-score   support\n",
            "\n",
            "           0       0.47      0.96      0.63       185\n",
            "           1       0.97      0.59      0.74       495\n",
            "\n",
            "    accuracy                           0.69       680\n",
            "   macro avg       0.72      0.78      0.68       680\n",
            "weighted avg       0.84      0.69      0.71       680\n",
            "\n",
            "              precision    recall  f1-score   support\n",
            "\n",
            "           0       0.47      0.96      0.63       185\n",
            "           1       0.98      0.59      0.74       495\n",
            "\n",
            "    accuracy                           0.69       680\n",
            "   macro avg       0.72      0.78      0.68       680\n",
            "weighted avg       0.84      0.69      0.71       680\n",
            "\n",
            "              precision    recall  f1-score   support\n",
            "\n",
            "           0       0.47      0.96      0.63       185\n",
            "           1       0.98      0.59      0.74       495\n",
            "\n",
            "    accuracy                           0.69       680\n",
            "   macro avg       0.72      0.78      0.68       680\n",
            "weighted avg       0.84      0.69      0.71       680\n",
            "\n",
            "              precision    recall  f1-score   support\n",
            "\n",
            "           0       0.47      0.95      0.63       185\n",
            "           1       0.97      0.60      0.74       495\n",
            "\n",
            "    accuracy                           0.69       680\n",
            "   macro avg       0.72      0.77      0.68       680\n",
            "weighted avg       0.83      0.69      0.71       680\n",
            "\n",
            "              precision    recall  f1-score   support\n",
            "\n",
            "           0       0.47      0.96      0.63       185\n",
            "           1       0.97      0.59      0.74       495\n",
            "\n",
            "    accuracy                           0.69       680\n",
            "   macro avg       0.72      0.78      0.68       680\n",
            "weighted avg       0.84      0.69      0.71       680\n",
            "\n",
            "              precision    recall  f1-score   support\n",
            "\n",
            "           0       0.47      0.96      0.63       185\n",
            "           1       0.97      0.60      0.74       495\n",
            "\n",
            "    accuracy                           0.70       680\n",
            "   macro avg       0.72      0.78      0.69       680\n",
            "weighted avg       0.84      0.70      0.71       680\n",
            "\n",
            "Epoch [61/100], Loss: 0.3110\n",
            "              precision    recall  f1-score   support\n",
            "\n",
            "           0       0.47      0.95      0.63       185\n",
            "           1       0.97      0.60      0.74       495\n",
            "\n",
            "    accuracy                           0.70       680\n",
            "   macro avg       0.72      0.78      0.69       680\n",
            "weighted avg       0.83      0.70      0.71       680\n",
            "\n",
            "              precision    recall  f1-score   support\n",
            "\n",
            "           0       0.47      0.95      0.63       185\n",
            "           1       0.97      0.61      0.75       495\n",
            "\n",
            "    accuracy                           0.70       680\n",
            "   macro avg       0.72      0.78      0.69       680\n",
            "weighted avg       0.83      0.70      0.71       680\n",
            "\n",
            "              precision    recall  f1-score   support\n",
            "\n",
            "           0       0.47      0.95      0.63       185\n",
            "           1       0.97      0.60      0.74       495\n",
            "\n",
            "    accuracy                           0.70       680\n",
            "   macro avg       0.72      0.78      0.69       680\n",
            "weighted avg       0.83      0.70      0.71       680\n",
            "\n",
            "              precision    recall  f1-score   support\n",
            "\n",
            "           0       0.47      0.95      0.63       185\n",
            "           1       0.97      0.60      0.74       495\n",
            "\n",
            "    accuracy                           0.70       680\n",
            "   macro avg       0.72      0.78      0.69       680\n",
            "weighted avg       0.83      0.70      0.71       680\n",
            "\n",
            "              precision    recall  f1-score   support\n",
            "\n",
            "           0       0.47      0.95      0.63       185\n",
            "           1       0.97      0.60      0.74       495\n",
            "\n",
            "    accuracy                           0.70       680\n",
            "   macro avg       0.72      0.78      0.69       680\n",
            "weighted avg       0.83      0.70      0.71       680\n",
            "\n",
            "              precision    recall  f1-score   support\n",
            "\n",
            "           0       0.47      0.95      0.63       185\n",
            "           1       0.97      0.60      0.74       495\n",
            "\n",
            "    accuracy                           0.70       680\n",
            "   macro avg       0.72      0.78      0.69       680\n",
            "weighted avg       0.83      0.70      0.71       680\n",
            "\n",
            "              precision    recall  f1-score   support\n",
            "\n",
            "           0       0.47      0.95      0.63       185\n",
            "           1       0.97      0.60      0.74       495\n",
            "\n",
            "    accuracy                           0.70       680\n",
            "   macro avg       0.72      0.78      0.69       680\n",
            "weighted avg       0.83      0.70      0.71       680\n",
            "\n",
            "              precision    recall  f1-score   support\n",
            "\n",
            "           0       0.47      0.95      0.63       185\n",
            "           1       0.97      0.60      0.74       495\n",
            "\n",
            "    accuracy                           0.70       680\n",
            "   macro avg       0.72      0.78      0.69       680\n",
            "weighted avg       0.83      0.70      0.71       680\n",
            "\n",
            "              precision    recall  f1-score   support\n",
            "\n",
            "           0       0.47      0.96      0.63       185\n",
            "           1       0.97      0.59      0.74       495\n",
            "\n",
            "    accuracy                           0.69       680\n",
            "   macro avg       0.72      0.77      0.68       680\n",
            "weighted avg       0.84      0.69      0.71       680\n",
            "\n",
            "              precision    recall  f1-score   support\n",
            "\n",
            "           0       0.47      0.96      0.63       185\n",
            "           1       0.97      0.60      0.74       495\n",
            "\n",
            "    accuracy                           0.69       680\n",
            "   macro avg       0.72      0.78      0.68       680\n",
            "weighted avg       0.84      0.69      0.71       680\n",
            "\n",
            "Epoch [71/100], Loss: 0.3060\n",
            "              precision    recall  f1-score   support\n",
            "\n",
            "           0       0.47      0.96      0.63       185\n",
            "           1       0.97      0.60      0.74       495\n",
            "\n",
            "    accuracy                           0.69       680\n",
            "   macro avg       0.72      0.78      0.68       680\n",
            "weighted avg       0.84      0.69      0.71       680\n",
            "\n",
            "              precision    recall  f1-score   support\n",
            "\n",
            "           0       0.47      0.96      0.63       185\n",
            "           1       0.97      0.60      0.74       495\n",
            "\n",
            "    accuracy                           0.69       680\n",
            "   macro avg       0.72      0.78      0.68       680\n",
            "weighted avg       0.84      0.69      0.71       680\n",
            "\n",
            "              precision    recall  f1-score   support\n",
            "\n",
            "           0       0.47      0.96      0.63       185\n",
            "           1       0.97      0.59      0.74       495\n",
            "\n",
            "    accuracy                           0.69       680\n",
            "   macro avg       0.72      0.78      0.68       680\n",
            "weighted avg       0.84      0.69      0.71       680\n",
            "\n",
            "              precision    recall  f1-score   support\n",
            "\n",
            "           0       0.47      0.96      0.63       185\n",
            "           1       0.97      0.59      0.74       495\n",
            "\n",
            "    accuracy                           0.69       680\n",
            "   macro avg       0.72      0.77      0.68       680\n",
            "weighted avg       0.84      0.69      0.71       680\n",
            "\n",
            "              precision    recall  f1-score   support\n",
            "\n",
            "           0       0.47      0.96      0.63       185\n",
            "           1       0.97      0.60      0.74       495\n",
            "\n",
            "    accuracy                           0.69       680\n",
            "   macro avg       0.72      0.78      0.68       680\n",
            "weighted avg       0.84      0.69      0.71       680\n",
            "\n",
            "              precision    recall  f1-score   support\n",
            "\n",
            "           0       0.47      0.96      0.63       185\n",
            "           1       0.97      0.60      0.74       495\n",
            "\n",
            "    accuracy                           0.69       680\n",
            "   macro avg       0.72      0.78      0.68       680\n",
            "weighted avg       0.84      0.69      0.71       680\n",
            "\n",
            "              precision    recall  f1-score   support\n",
            "\n",
            "           0       0.47      0.95      0.63       185\n",
            "           1       0.97      0.60      0.74       495\n",
            "\n",
            "    accuracy                           0.69       680\n",
            "   macro avg       0.72      0.77      0.68       680\n",
            "weighted avg       0.83      0.69      0.71       680\n",
            "\n",
            "              precision    recall  f1-score   support\n",
            "\n",
            "           0       0.47      0.95      0.63       185\n",
            "           1       0.97      0.60      0.74       495\n",
            "\n",
            "    accuracy                           0.70       680\n",
            "   macro avg       0.72      0.78      0.69       680\n",
            "weighted avg       0.83      0.70      0.71       680\n",
            "\n",
            "              precision    recall  f1-score   support\n",
            "\n",
            "           0       0.47      0.95      0.63       185\n",
            "           1       0.97      0.60      0.74       495\n",
            "\n",
            "    accuracy                           0.69       680\n",
            "   macro avg       0.72      0.77      0.68       680\n",
            "weighted avg       0.83      0.69      0.71       680\n",
            "\n",
            "              precision    recall  f1-score   support\n",
            "\n",
            "           0       0.47      0.95      0.63       185\n",
            "           1       0.97      0.60      0.74       495\n",
            "\n",
            "    accuracy                           0.69       680\n",
            "   macro avg       0.72      0.77      0.68       680\n",
            "weighted avg       0.83      0.69      0.71       680\n",
            "\n",
            "Epoch [81/100], Loss: 0.3078\n",
            "              precision    recall  f1-score   support\n",
            "\n",
            "           0       0.47      0.96      0.63       185\n",
            "           1       0.97      0.60      0.74       495\n",
            "\n",
            "    accuracy                           0.70       680\n",
            "   macro avg       0.72      0.78      0.69       680\n",
            "weighted avg       0.84      0.70      0.71       680\n",
            "\n",
            "              precision    recall  f1-score   support\n",
            "\n",
            "           0       0.47      0.96      0.63       185\n",
            "           1       0.98      0.59      0.74       495\n",
            "\n",
            "    accuracy                           0.69       680\n",
            "   macro avg       0.72      0.78      0.68       680\n",
            "weighted avg       0.84      0.69      0.71       680\n",
            "\n",
            "              precision    recall  f1-score   support\n",
            "\n",
            "           0       0.47      0.96      0.63       185\n",
            "           1       0.98      0.59      0.74       495\n",
            "\n",
            "    accuracy                           0.69       680\n",
            "   macro avg       0.72      0.78      0.68       680\n",
            "weighted avg       0.84      0.69      0.71       680\n",
            "\n",
            "              precision    recall  f1-score   support\n",
            "\n",
            "           0       0.47      0.96      0.63       185\n",
            "           1       0.98      0.60      0.74       495\n",
            "\n",
            "    accuracy                           0.70       680\n",
            "   macro avg       0.72      0.78      0.69       680\n",
            "weighted avg       0.84      0.70      0.71       680\n",
            "\n",
            "              precision    recall  f1-score   support\n",
            "\n",
            "           0       0.47      0.96      0.63       185\n",
            "           1       0.98      0.60      0.74       495\n",
            "\n",
            "    accuracy                           0.70       680\n",
            "   macro avg       0.72      0.78      0.69       680\n",
            "weighted avg       0.84      0.70      0.71       680\n",
            "\n",
            "              precision    recall  f1-score   support\n",
            "\n",
            "           0       0.47      0.96      0.63       185\n",
            "           1       0.98      0.60      0.74       495\n",
            "\n",
            "    accuracy                           0.70       680\n",
            "   macro avg       0.72      0.78      0.69       680\n",
            "weighted avg       0.84      0.70      0.71       680\n",
            "\n",
            "              precision    recall  f1-score   support\n",
            "\n",
            "           0       0.47      0.96      0.63       185\n",
            "           1       0.98      0.60      0.74       495\n",
            "\n",
            "    accuracy                           0.70       680\n",
            "   macro avg       0.72      0.78      0.69       680\n",
            "weighted avg       0.84      0.70      0.71       680\n",
            "\n",
            "              precision    recall  f1-score   support\n",
            "\n",
            "           0       0.47      0.96      0.63       185\n",
            "           1       0.98      0.59      0.74       495\n",
            "\n",
            "    accuracy                           0.69       680\n",
            "   macro avg       0.72      0.78      0.68       680\n",
            "weighted avg       0.84      0.69      0.71       680\n",
            "\n",
            "              precision    recall  f1-score   support\n",
            "\n",
            "           0       0.47      0.96      0.63       185\n",
            "           1       0.98      0.59      0.74       495\n",
            "\n",
            "    accuracy                           0.69       680\n",
            "   macro avg       0.72      0.78      0.68       680\n",
            "weighted avg       0.84      0.69      0.71       680\n",
            "\n",
            "              precision    recall  f1-score   support\n",
            "\n",
            "           0       0.47      0.96      0.63       185\n",
            "           1       0.98      0.60      0.74       495\n",
            "\n",
            "    accuracy                           0.70       680\n",
            "   macro avg       0.72      0.78      0.69       680\n",
            "weighted avg       0.84      0.70      0.71       680\n",
            "\n",
            "Epoch [91/100], Loss: 0.3005\n",
            "              precision    recall  f1-score   support\n",
            "\n",
            "           0       0.47      0.96      0.63       185\n",
            "           1       0.98      0.59      0.74       495\n",
            "\n",
            "    accuracy                           0.69       680\n",
            "   macro avg       0.72      0.78      0.68       680\n",
            "weighted avg       0.84      0.69      0.71       680\n",
            "\n",
            "              precision    recall  f1-score   support\n",
            "\n",
            "           0       0.47      0.96      0.63       185\n",
            "           1       0.98      0.59      0.74       495\n",
            "\n",
            "    accuracy                           0.69       680\n",
            "   macro avg       0.72      0.78      0.68       680\n",
            "weighted avg       0.84      0.69      0.71       680\n",
            "\n",
            "              precision    recall  f1-score   support\n",
            "\n",
            "           0       0.47      0.96      0.63       185\n",
            "           1       0.98      0.60      0.74       495\n",
            "\n",
            "    accuracy                           0.70       680\n",
            "   macro avg       0.72      0.78      0.69       680\n",
            "weighted avg       0.84      0.70      0.71       680\n",
            "\n",
            "              precision    recall  f1-score   support\n",
            "\n",
            "           0       0.47      0.96      0.63       185\n",
            "           1       0.98      0.60      0.74       495\n",
            "\n",
            "    accuracy                           0.70       680\n",
            "   macro avg       0.72      0.78      0.69       680\n",
            "weighted avg       0.84      0.70      0.71       680\n",
            "\n",
            "              precision    recall  f1-score   support\n",
            "\n",
            "           0       0.47      0.96      0.63       185\n",
            "           1       0.98      0.60      0.74       495\n",
            "\n",
            "    accuracy                           0.70       680\n",
            "   macro avg       0.72      0.78      0.69       680\n",
            "weighted avg       0.84      0.70      0.71       680\n",
            "\n",
            "              precision    recall  f1-score   support\n",
            "\n",
            "           0       0.47      0.96      0.63       185\n",
            "           1       0.97      0.60      0.74       495\n",
            "\n",
            "    accuracy                           0.70       680\n",
            "   macro avg       0.72      0.78      0.69       680\n",
            "weighted avg       0.84      0.70      0.71       680\n",
            "\n",
            "              precision    recall  f1-score   support\n",
            "\n",
            "           0       0.47      0.96      0.63       185\n",
            "           1       0.97      0.60      0.74       495\n",
            "\n",
            "    accuracy                           0.70       680\n",
            "   macro avg       0.72      0.78      0.69       680\n",
            "weighted avg       0.84      0.70      0.71       680\n",
            "\n",
            "              precision    recall  f1-score   support\n",
            "\n",
            "           0       0.47      0.96      0.63       185\n",
            "           1       0.97      0.60      0.74       495\n",
            "\n",
            "    accuracy                           0.70       680\n",
            "   macro avg       0.72      0.78      0.69       680\n",
            "weighted avg       0.84      0.70      0.71       680\n",
            "\n",
            "              precision    recall  f1-score   support\n",
            "\n",
            "           0       0.47      0.96      0.63       185\n",
            "           1       0.97      0.60      0.74       495\n",
            "\n",
            "    accuracy                           0.70       680\n",
            "   macro avg       0.72      0.78      0.69       680\n",
            "weighted avg       0.84      0.70      0.71       680\n",
            "\n"
          ]
        },
        {
          "data": {
            "image/png": "[encoded data removed]",
            "text/plain": [
              "<Figure size 640x480 with 1 Axes>"
            ]
          },
          "metadata": {},
          "output_type": "display_data"
        }
      ],
      "source": [
        "# Tính toán trọng số cho từng lớp\n",
        "class_counts = np.bincount(y_train.numpy())  # Đếm số lượng mẫu của từng lớp\n",
        "class_weights = 1.0 / class_counts           # Trọng số ngược với tần suất\n",
        "device = torch.device(\"cuda\" if torch.cuda.is_available() else \"cpu\") # get the device\n",
        "class_weights = torch.tensor(class_weights, dtype=torch.float32, device=device) # Move class_weights to the device\n",
        "\n",
        "model_pro = LSTMPredictor(input_dim, hidden_dim=85, output_dim=output_dim)\n",
        "criterion = nn.CrossEntropyLoss(weight=class_weights)  # Loss cho bài toán phân loại\n",
        "optimizer = optim.Adam(model_pro.parameters(), lr=5e-4, weight_decay=1e-3)\n",
        "train1(model_pro,train_loader=train_loader,test_loader = test_loader,criterion=criterion,optimizer=optimizer,batch_size=128,num_epochs=100)"
      ]
    },
    {
      "cell_type": "markdown",
      "metadata": {
        "id": "ukLfeMHpY2rb"
      },
      "source": [
        "* Nhận xét: Mô hình hội tụ và không có dấu hiệu overfitting"
      ]
    },
    {
      "cell_type": "code",
      "execution_count": 219,
      "metadata": {
        "colab": {
          "base_uri": "https://localhost:8080/"
        },
        "id": "kPqGf4N8kw43",
        "outputId": "94b695ad-d728-48d9-acdb-e6dba7c502d6"
      },
      "outputs": [
        {
          "name": "stdout",
          "output_type": "stream",
          "text": [
            "              precision    recall  f1-score   support\n",
            "\n",
            "           0       0.47      0.96      0.63       185\n",
            "           1       0.97      0.60      0.74       495\n",
            "\n",
            "    accuracy                           0.70       680\n",
            "   macro avg       0.72      0.78      0.69       680\n",
            "weighted avg       0.84      0.70      0.71       680\n",
            "\n",
            "Test Accuracy: 0.6956\n",
            "Test F1 Score (macro): 0.6860\n",
            "Test Loss: 0.4715\n"
          ]
        }
      ],
      "source": [
        "acc,f1,losses=evaluate_model(model_pro,test_loader)\n",
        "print(f\"Test Accuracy: {acc:.4f}\")\n",
        "print(f\"Test F1 Score (macro): {f1:.4f}\")\n",
        "print(f\"Test Loss: {losses:.4f}\")"
      ]
    },
    {
      "cell_type": "markdown",
      "metadata": {
        "id": "U1QvBQjCNYh7"
      },
      "source": [
        "#### Thử nghiệm batch_size"
      ]
    },
    {
      "cell_type": "code",
      "execution_count": 220,
      "metadata": {
        "colab": {
          "base_uri": "https://localhost:8080/",
          "height": 1000
        },
        "id": "-TgQBmViNoZ-",
        "outputId": "a27bf737-9806-4b57-ebff-6fb8f5a736a3"
      },
      "outputs": [],
      "source": [
        "# batch_sizes = [16, 32, 64, 128, 256]\n",
        "# for batch_size in batch_sizes:\n",
        "#     print(f\"Batch Size: {batch_size}\")\n",
        "#     model_pro = LSTMPredictor(input_dim, hidden_dim=85, output_dim=output_dim)\n",
        "#     criterion = nn.CrossEntropyLoss(weight=class_weights)  # Loss cho bài toán phân loại\n",
        "#     optimizer = optim.Adam(model_pro.parameters(), lr=1e-3, weight_decay=5e-4) # Dùng weight decay để tránh overfitting\n",
        "#     train1(model_pro,train_loader=train_loader,test_loader= test_loader,criterion=criterion,optimizer=optimizer,batch_size=batch_size,num_epochs=100)\n",
        "#     print(\"=\"*100)\n",
        "#     acc,f1,losses=evaluate_model(model_pro,test_loader=test_loader)\n",
        "#     print(f\"Test Accuracy: {acc:.4f}\")\n",
        "#     print(f\"Test F1 Score (macro): {f1:.4f}\")\n",
        "#     print(f\"Test Loss: {losses:.4f}\")\n",
        "#     print(\"=\"*100)"
      ]
    },
    {
      "cell_type": "markdown",
      "metadata": {
        "id": "Wpoq5wtOeaG5"
      },
      "source": [
        "* Training model với các tham số tối ưu"
      ]
    },
    {
      "cell_type": "code",
      "execution_count": 221,
      "metadata": {
        "colab": {
          "base_uri": "https://localhost:8080/",
          "height": 1000
        },
        "id": "qtj0GUrlee74",
        "outputId": "0371b721-a51e-4bf2-a673-abd6884bf1e9"
      },
      "outputs": [
        {
          "name": "stdout",
          "output_type": "stream",
          "text": [
            "              precision    recall  f1-score   support\n",
            "\n",
            "           0       0.33      0.99      0.49       185\n",
            "           1       0.99      0.23      0.38       495\n",
            "\n",
            "    accuracy                           0.44       680\n",
            "   macro avg       0.66      0.61      0.43       680\n",
            "weighted avg       0.81      0.44      0.41       680\n",
            "\n",
            "Epoch [1/100], Loss: 0.6795\n",
            "              precision    recall  f1-score   support\n",
            "\n",
            "           0       0.32      1.00      0.49       185\n",
            "           1       1.00      0.22      0.36       495\n",
            "\n",
            "    accuracy                           0.43       680\n",
            "   macro avg       0.66      0.61      0.42       680\n",
            "weighted avg       0.82      0.43      0.39       680\n",
            "\n",
            "              precision    recall  f1-score   support\n",
            "\n",
            "           0       0.33      1.00      0.49       185\n",
            "           1       1.00      0.23      0.38       495\n",
            "\n",
            "    accuracy                           0.44       680\n",
            "   macro avg       0.66      0.62      0.44       680\n",
            "weighted avg       0.82      0.44      0.41       680\n",
            "\n",
            "              precision    recall  f1-score   support\n",
            "\n",
            "           0       0.34      1.00      0.51       185\n",
            "           1       1.00      0.27      0.43       495\n",
            "\n",
            "    accuracy                           0.47       680\n",
            "   macro avg       0.67      0.64      0.47       680\n",
            "weighted avg       0.82      0.47      0.45       680\n",
            "\n",
            "              precision    recall  f1-score   support\n",
            "\n",
            "           0       0.35      1.00      0.52       185\n",
            "           1       1.00      0.31      0.47       495\n",
            "\n",
            "    accuracy                           0.50       680\n",
            "   macro avg       0.68      0.65      0.50       680\n",
            "weighted avg       0.82      0.50      0.49       680\n",
            "\n",
            "              precision    recall  f1-score   support\n",
            "\n",
            "           0       0.37      1.00      0.54       185\n",
            "           1       1.00      0.35      0.52       495\n",
            "\n",
            "    accuracy                           0.53       680\n",
            "   macro avg       0.68      0.68      0.53       680\n",
            "weighted avg       0.83      0.53      0.52       680\n",
            "\n",
            "              precision    recall  f1-score   support\n",
            "\n",
            "           0       0.39      0.98      0.55       185\n",
            "           1       0.99      0.42      0.59       495\n",
            "\n",
            "    accuracy                           0.57       680\n",
            "   macro avg       0.69      0.70      0.57       680\n",
            "weighted avg       0.82      0.57      0.58       680\n",
            "\n",
            "              precision    recall  f1-score   support\n",
            "\n",
            "           0       0.41      0.98      0.58       185\n",
            "           1       0.98      0.47      0.64       495\n",
            "\n",
            "    accuracy                           0.61       680\n",
            "   macro avg       0.70      0.72      0.61       680\n",
            "weighted avg       0.83      0.61      0.62       680\n",
            "\n",
            "              precision    recall  f1-score   support\n",
            "\n",
            "           0       0.43      0.97      0.60       185\n",
            "           1       0.98      0.52      0.68       495\n",
            "\n",
            "    accuracy                           0.64       680\n",
            "   macro avg       0.70      0.74      0.64       680\n",
            "weighted avg       0.83      0.64      0.65       680\n",
            "\n",
            "              precision    recall  f1-score   support\n",
            "\n",
            "           0       0.44      0.95      0.61       185\n",
            "           1       0.97      0.56      0.71       495\n",
            "\n",
            "    accuracy                           0.66       680\n",
            "   macro avg       0.71      0.75      0.66       680\n",
            "weighted avg       0.83      0.66      0.68       680\n",
            "\n",
            "              precision    recall  f1-score   support\n",
            "\n",
            "           0       0.45      0.93      0.61       185\n",
            "           1       0.96      0.57      0.72       495\n",
            "\n",
            "    accuracy                           0.67       680\n",
            "   macro avg       0.70      0.75      0.66       680\n",
            "weighted avg       0.82      0.67      0.69       680\n",
            "\n",
            "Epoch [11/100], Loss: 0.3528\n",
            "              precision    recall  f1-score   support\n",
            "\n",
            "           0       0.45      0.91      0.60       185\n",
            "           1       0.95      0.58      0.72       495\n",
            "\n",
            "    accuracy                           0.67       680\n",
            "   macro avg       0.70      0.75      0.66       680\n",
            "weighted avg       0.81      0.67      0.69       680\n",
            "\n",
            "              precision    recall  f1-score   support\n",
            "\n",
            "           0       0.45      0.96      0.62       185\n",
            "           1       0.97      0.57      0.72       495\n",
            "\n",
            "    accuracy                           0.68       680\n",
            "   macro avg       0.71      0.76      0.67       680\n",
            "weighted avg       0.83      0.68      0.69       680\n",
            "\n",
            "              precision    recall  f1-score   support\n",
            "\n",
            "           0       0.46      0.96      0.62       185\n",
            "           1       0.97      0.58      0.73       495\n",
            "\n",
            "    accuracy                           0.68       680\n",
            "   macro avg       0.72      0.77      0.68       680\n",
            "weighted avg       0.83      0.68      0.70       680\n",
            "\n",
            "              precision    recall  f1-score   support\n",
            "\n",
            "           0       0.46      0.96      0.62       185\n",
            "           1       0.97      0.58      0.73       495\n",
            "\n",
            "    accuracy                           0.69       680\n",
            "   macro avg       0.72      0.77      0.68       680\n",
            "weighted avg       0.83      0.69      0.70       680\n",
            "\n",
            "              precision    recall  f1-score   support\n",
            "\n",
            "           0       0.46      0.96      0.62       185\n",
            "           1       0.97      0.58      0.73       495\n",
            "\n",
            "    accuracy                           0.68       680\n",
            "   macro avg       0.72      0.77      0.67       680\n",
            "weighted avg       0.83      0.68      0.70       680\n",
            "\n",
            "              precision    recall  f1-score   support\n",
            "\n",
            "           0       0.46      0.96      0.62       185\n",
            "           1       0.97      0.57      0.72       495\n",
            "\n",
            "    accuracy                           0.68       680\n",
            "   macro avg       0.71      0.77      0.67       680\n",
            "weighted avg       0.83      0.68      0.69       680\n",
            "\n",
            "              precision    recall  f1-score   support\n",
            "\n",
            "           0       0.46      0.96      0.62       185\n",
            "           1       0.97      0.58      0.72       495\n",
            "\n",
            "    accuracy                           0.68       680\n",
            "   macro avg       0.72      0.77      0.67       680\n",
            "weighted avg       0.83      0.68      0.70       680\n",
            "\n",
            "              precision    recall  f1-score   support\n",
            "\n",
            "           0       0.47      0.96      0.63       185\n",
            "           1       0.97      0.59      0.74       495\n",
            "\n",
            "    accuracy                           0.69       680\n",
            "   macro avg       0.72      0.77      0.68       680\n",
            "weighted avg       0.84      0.69      0.71       680\n",
            "\n",
            "              precision    recall  f1-score   support\n",
            "\n",
            "           0       0.47      0.94      0.62       185\n",
            "           1       0.96      0.60      0.74       495\n",
            "\n",
            "    accuracy                           0.69       680\n",
            "   macro avg       0.71      0.77      0.68       680\n",
            "weighted avg       0.83      0.69      0.71       680\n",
            "\n",
            "              precision    recall  f1-score   support\n",
            "\n",
            "           0       0.46      0.96      0.63       185\n",
            "           1       0.97      0.59      0.73       495\n",
            "\n",
            "    accuracy                           0.69       680\n",
            "   macro avg       0.72      0.77      0.68       680\n",
            "weighted avg       0.83      0.69      0.70       680\n",
            "\n",
            "Epoch [21/100], Loss: 0.3069\n",
            "              precision    recall  f1-score   support\n",
            "\n",
            "           0       0.46      0.96      0.62       185\n",
            "           1       0.97      0.59      0.73       495\n",
            "\n",
            "    accuracy                           0.69       680\n",
            "   macro avg       0.72      0.77      0.68       680\n",
            "weighted avg       0.83      0.69      0.70       680\n",
            "\n",
            "              precision    recall  f1-score   support\n",
            "\n",
            "           0       0.46      0.95      0.62       185\n",
            "           1       0.97      0.59      0.73       495\n",
            "\n",
            "    accuracy                           0.69       680\n",
            "   macro avg       0.72      0.77      0.68       680\n",
            "weighted avg       0.83      0.69      0.70       680\n",
            "\n",
            "              precision    recall  f1-score   support\n",
            "\n",
            "           0       0.47      0.95      0.63       185\n",
            "           1       0.97      0.60      0.74       495\n",
            "\n",
            "    accuracy                           0.69       680\n",
            "   macro avg       0.72      0.77      0.68       680\n",
            "weighted avg       0.83      0.69      0.71       680\n",
            "\n",
            "              precision    recall  f1-score   support\n",
            "\n",
            "           0       0.46      0.96      0.63       185\n",
            "           1       0.97      0.59      0.73       495\n",
            "\n",
            "    accuracy                           0.69       680\n",
            "   macro avg       0.72      0.77      0.68       680\n",
            "weighted avg       0.83      0.69      0.70       680\n",
            "\n",
            "              precision    recall  f1-score   support\n",
            "\n",
            "           0       0.46      0.96      0.62       185\n",
            "           1       0.97      0.58      0.73       495\n",
            "\n",
            "    accuracy                           0.69       680\n",
            "   macro avg       0.72      0.77      0.68       680\n",
            "weighted avg       0.83      0.69      0.70       680\n",
            "\n",
            "              precision    recall  f1-score   support\n",
            "\n",
            "           0       0.46      0.96      0.62       185\n",
            "           1       0.97      0.59      0.73       495\n",
            "\n",
            "    accuracy                           0.69       680\n",
            "   macro avg       0.72      0.77      0.68       680\n",
            "weighted avg       0.83      0.69      0.70       680\n",
            "\n",
            "              precision    recall  f1-score   support\n",
            "\n",
            "           0       0.46      0.95      0.62       185\n",
            "           1       0.97      0.59      0.73       495\n",
            "\n",
            "    accuracy                           0.69       680\n",
            "   macro avg       0.72      0.77      0.68       680\n",
            "weighted avg       0.83      0.69      0.70       680\n",
            "\n",
            "              precision    recall  f1-score   support\n",
            "\n",
            "           0       0.47      0.95      0.63       185\n",
            "           1       0.97      0.60      0.74       495\n",
            "\n",
            "    accuracy                           0.69       680\n",
            "   macro avg       0.72      0.77      0.68       680\n",
            "weighted avg       0.83      0.69      0.71       680\n",
            "\n",
            "              precision    recall  f1-score   support\n",
            "\n",
            "           0       0.47      0.94      0.62       185\n",
            "           1       0.96      0.60      0.74       495\n",
            "\n",
            "    accuracy                           0.69       680\n",
            "   macro avg       0.72      0.77      0.68       680\n",
            "weighted avg       0.83      0.69      0.71       680\n",
            "\n",
            "              precision    recall  f1-score   support\n",
            "\n",
            "           0       0.46      0.94      0.62       185\n",
            "           1       0.96      0.59      0.73       495\n",
            "\n",
            "    accuracy                           0.69       680\n",
            "   macro avg       0.71      0.77      0.68       680\n",
            "weighted avg       0.83      0.69      0.70       680\n",
            "\n",
            "Epoch [31/100], Loss: 0.3112\n",
            "              precision    recall  f1-score   support\n",
            "\n",
            "           0       0.46      0.95      0.62       185\n",
            "           1       0.97      0.59      0.73       495\n",
            "\n",
            "    accuracy                           0.69       680\n",
            "   macro avg       0.72      0.77      0.68       680\n",
            "weighted avg       0.83      0.69      0.70       680\n",
            "\n",
            "              precision    recall  f1-score   support\n",
            "\n",
            "           0       0.47      0.95      0.63       185\n",
            "           1       0.97      0.59      0.74       495\n",
            "\n",
            "    accuracy                           0.69       680\n",
            "   macro avg       0.72      0.77      0.68       680\n",
            "weighted avg       0.83      0.69      0.71       680\n",
            "\n",
            "              precision    recall  f1-score   support\n",
            "\n",
            "           0       0.47      0.95      0.63       185\n",
            "           1       0.97      0.60      0.74       495\n",
            "\n",
            "    accuracy                           0.69       680\n",
            "   macro avg       0.72      0.77      0.68       680\n",
            "weighted avg       0.83      0.69      0.71       680\n",
            "\n",
            "              precision    recall  f1-score   support\n",
            "\n",
            "           0       0.46      0.96      0.63       185\n",
            "           1       0.98      0.59      0.73       495\n",
            "\n",
            "    accuracy                           0.69       680\n",
            "   macro avg       0.72      0.77      0.68       680\n",
            "weighted avg       0.84      0.69      0.70       680\n",
            "\n",
            "              precision    recall  f1-score   support\n",
            "\n",
            "           0       0.47      0.96      0.63       185\n",
            "           1       0.98      0.59      0.74       495\n",
            "\n",
            "    accuracy                           0.69       680\n",
            "   macro avg       0.72      0.78      0.68       680\n",
            "weighted avg       0.84      0.69      0.71       680\n",
            "\n",
            "              precision    recall  f1-score   support\n",
            "\n",
            "           0       0.47      0.96      0.63       185\n",
            "           1       0.98      0.59      0.73       495\n",
            "\n",
            "    accuracy                           0.69       680\n",
            "   macro avg       0.72      0.78      0.68       680\n",
            "weighted avg       0.84      0.69      0.71       680\n",
            "\n",
            "              precision    recall  f1-score   support\n",
            "\n",
            "           0       0.47      0.96      0.63       185\n",
            "           1       0.97      0.60      0.74       495\n",
            "\n",
            "    accuracy                           0.69       680\n",
            "   macro avg       0.72      0.78      0.68       680\n",
            "weighted avg       0.84      0.69      0.71       680\n",
            "\n",
            "              precision    recall  f1-score   support\n",
            "\n",
            "           0       0.47      0.95      0.63       185\n",
            "           1       0.97      0.60      0.74       495\n",
            "\n",
            "    accuracy                           0.70       680\n",
            "   macro avg       0.72      0.78      0.69       680\n",
            "weighted avg       0.83      0.70      0.71       680\n",
            "\n",
            "              precision    recall  f1-score   support\n",
            "\n",
            "           0       0.47      0.97      0.63       185\n",
            "           1       0.98      0.58      0.73       495\n",
            "\n",
            "    accuracy                           0.69       680\n",
            "   macro avg       0.72      0.78      0.68       680\n",
            "weighted avg       0.84      0.69      0.70       680\n",
            "\n",
            "              precision    recall  f1-score   support\n",
            "\n",
            "           0       0.46      0.97      0.63       185\n",
            "           1       0.98      0.58      0.73       495\n",
            "\n",
            "    accuracy                           0.69       680\n",
            "   macro avg       0.72      0.77      0.68       680\n",
            "weighted avg       0.84      0.69      0.70       680\n",
            "\n",
            "Epoch [41/100], Loss: 0.2950\n",
            "              precision    recall  f1-score   support\n",
            "\n",
            "           0       0.47      0.96      0.63       185\n",
            "           1       0.98      0.59      0.74       495\n",
            "\n",
            "    accuracy                           0.69       680\n",
            "   macro avg       0.72      0.78      0.68       680\n",
            "weighted avg       0.84      0.69      0.71       680\n",
            "\n",
            "              precision    recall  f1-score   support\n",
            "\n",
            "           0       0.47      0.95      0.63       185\n",
            "           1       0.97      0.59      0.74       495\n",
            "\n",
            "    accuracy                           0.69       680\n",
            "   macro avg       0.72      0.77      0.68       680\n",
            "weighted avg       0.83      0.69      0.71       680\n",
            "\n",
            "              precision    recall  f1-score   support\n",
            "\n",
            "           0       0.47      0.95      0.63       185\n",
            "           1       0.97      0.59      0.74       495\n",
            "\n",
            "    accuracy                           0.69       680\n",
            "   macro avg       0.72      0.77      0.68       680\n",
            "weighted avg       0.83      0.69      0.71       680\n",
            "\n",
            "              precision    recall  f1-score   support\n",
            "\n",
            "           0       0.47      0.96      0.63       185\n",
            "           1       0.97      0.59      0.74       495\n",
            "\n",
            "    accuracy                           0.69       680\n",
            "   macro avg       0.72      0.77      0.68       680\n",
            "weighted avg       0.84      0.69      0.71       680\n",
            "\n",
            "              precision    recall  f1-score   support\n",
            "\n",
            "           0       0.47      0.96      0.63       185\n",
            "           1       0.97      0.59      0.74       495\n",
            "\n",
            "    accuracy                           0.69       680\n",
            "   macro avg       0.72      0.78      0.68       680\n",
            "weighted avg       0.84      0.69      0.71       680\n",
            "\n",
            "              precision    recall  f1-score   support\n",
            "\n",
            "           0       0.47      0.95      0.63       185\n",
            "           1       0.97      0.60      0.74       495\n",
            "\n",
            "    accuracy                           0.69       680\n",
            "   macro avg       0.72      0.77      0.68       680\n",
            "weighted avg       0.83      0.69      0.71       680\n",
            "\n",
            "              precision    recall  f1-score   support\n",
            "\n",
            "           0       0.47      0.96      0.63       185\n",
            "           1       0.97      0.59      0.74       495\n",
            "\n",
            "    accuracy                           0.69       680\n",
            "   macro avg       0.72      0.77      0.68       680\n",
            "weighted avg       0.84      0.69      0.71       680\n",
            "\n",
            "              precision    recall  f1-score   support\n",
            "\n",
            "           0       0.47      0.97      0.63       185\n",
            "           1       0.98      0.59      0.74       495\n",
            "\n",
            "    accuracy                           0.69       680\n",
            "   macro avg       0.72      0.78      0.69       680\n",
            "weighted avg       0.84      0.69      0.71       680\n",
            "\n",
            "              precision    recall  f1-score   support\n",
            "\n",
            "           0       0.47      0.96      0.63       185\n",
            "           1       0.98      0.60      0.74       495\n",
            "\n",
            "    accuracy                           0.70       680\n",
            "   macro avg       0.72      0.78      0.69       680\n",
            "weighted avg       0.84      0.70      0.71       680\n",
            "\n",
            "              precision    recall  f1-score   support\n",
            "\n",
            "           0       0.47      0.96      0.63       185\n",
            "           1       0.97      0.59      0.74       495\n",
            "\n",
            "    accuracy                           0.69       680\n",
            "   macro avg       0.72      0.78      0.68       680\n",
            "weighted avg       0.84      0.69      0.71       680\n",
            "\n",
            "Epoch [51/100], Loss: 0.2963\n",
            "              precision    recall  f1-score   support\n",
            "\n",
            "           0       0.47      0.96      0.63       185\n",
            "           1       0.98      0.59      0.74       495\n",
            "\n",
            "    accuracy                           0.69       680\n",
            "   macro avg       0.72      0.78      0.68       680\n",
            "weighted avg       0.84      0.69      0.71       680\n",
            "\n",
            "              precision    recall  f1-score   support\n",
            "\n",
            "           0       0.47      0.95      0.63       185\n",
            "           1       0.97      0.60      0.74       495\n",
            "\n",
            "    accuracy                           0.70       680\n",
            "   macro avg       0.72      0.78      0.69       680\n",
            "weighted avg       0.84      0.70      0.71       680\n",
            "\n",
            "              precision    recall  f1-score   support\n",
            "\n",
            "           0       0.47      0.96      0.63       185\n",
            "           1       0.97      0.60      0.74       495\n",
            "\n",
            "    accuracy                           0.70       680\n",
            "   macro avg       0.72      0.78      0.69       680\n",
            "weighted avg       0.84      0.70      0.71       680\n",
            "\n",
            "              precision    recall  f1-score   support\n",
            "\n",
            "           0       0.47      0.96      0.64       185\n",
            "           1       0.98      0.60      0.74       495\n",
            "\n",
            "    accuracy                           0.70       680\n",
            "   macro avg       0.73      0.78      0.69       680\n",
            "weighted avg       0.84      0.70      0.72       680\n",
            "\n",
            "              precision    recall  f1-score   support\n",
            "\n",
            "           0       0.47      0.96      0.64       185\n",
            "           1       0.98      0.60      0.74       495\n",
            "\n",
            "    accuracy                           0.70       680\n",
            "   macro avg       0.73      0.78      0.69       680\n",
            "weighted avg       0.84      0.70      0.72       680\n",
            "\n",
            "              precision    recall  f1-score   support\n",
            "\n",
            "           0       0.48      0.96      0.64       185\n",
            "           1       0.97      0.61      0.75       495\n",
            "\n",
            "    accuracy                           0.70       680\n",
            "   macro avg       0.73      0.78      0.69       680\n",
            "weighted avg       0.84      0.70      0.72       680\n",
            "\n",
            "              precision    recall  f1-score   support\n",
            "\n",
            "           0       0.48      0.95      0.64       185\n",
            "           1       0.97      0.61      0.75       495\n",
            "\n",
            "    accuracy                           0.70       680\n",
            "   macro avg       0.72      0.78      0.69       680\n",
            "weighted avg       0.84      0.70      0.72       680\n",
            "\n",
            "              precision    recall  f1-score   support\n",
            "\n",
            "           0       0.48      0.94      0.63       185\n",
            "           1       0.96      0.61      0.75       495\n",
            "\n",
            "    accuracy                           0.70       680\n",
            "   macro avg       0.72      0.78      0.69       680\n",
            "weighted avg       0.83      0.70      0.72       680\n",
            "\n",
            "              precision    recall  f1-score   support\n",
            "\n",
            "           0       0.48      0.96      0.64       185\n",
            "           1       0.97      0.61      0.75       495\n",
            "\n",
            "    accuracy                           0.70       680\n",
            "   macro avg       0.73      0.78      0.69       680\n",
            "weighted avg       0.84      0.70      0.72       680\n",
            "\n",
            "              precision    recall  f1-score   support\n",
            "\n",
            "           0       0.48      0.96      0.64       185\n",
            "           1       0.97      0.61      0.75       495\n",
            "\n",
            "    accuracy                           0.70       680\n",
            "   macro avg       0.73      0.78      0.69       680\n",
            "weighted avg       0.84      0.70      0.72       680\n",
            "\n",
            "Epoch [61/100], Loss: 0.3003\n",
            "              precision    recall  f1-score   support\n",
            "\n",
            "           0       0.48      0.97      0.64       185\n",
            "           1       0.98      0.61      0.75       495\n",
            "\n",
            "    accuracy                           0.71       680\n",
            "   macro avg       0.73      0.79      0.70       680\n",
            "weighted avg       0.84      0.71      0.72       680\n",
            "\n",
            "              precision    recall  f1-score   support\n",
            "\n",
            "           0       0.47      0.96      0.63       185\n",
            "           1       0.98      0.60      0.74       495\n",
            "\n",
            "    accuracy                           0.70       680\n",
            "   macro avg       0.73      0.78      0.69       680\n",
            "weighted avg       0.84      0.70      0.71       680\n",
            "\n",
            "              precision    recall  f1-score   support\n",
            "\n",
            "           0       0.48      0.96      0.64       185\n",
            "           1       0.97      0.61      0.75       495\n",
            "\n",
            "    accuracy                           0.70       680\n",
            "   macro avg       0.73      0.78      0.69       680\n",
            "weighted avg       0.84      0.70      0.72       680\n",
            "\n",
            "              precision    recall  f1-score   support\n",
            "\n",
            "           0       0.48      0.96      0.64       185\n",
            "           1       0.97      0.61      0.75       495\n",
            "\n",
            "    accuracy                           0.70       680\n",
            "   macro avg       0.73      0.78      0.69       680\n",
            "weighted avg       0.84      0.70      0.72       680\n",
            "\n",
            "              precision    recall  f1-score   support\n",
            "\n",
            "           0       0.48      0.95      0.63       185\n",
            "           1       0.97      0.61      0.75       495\n",
            "\n",
            "    accuracy                           0.70       680\n",
            "   macro avg       0.72      0.78      0.69       680\n",
            "weighted avg       0.84      0.70      0.72       680\n",
            "\n",
            "              precision    recall  f1-score   support\n",
            "\n",
            "           0       0.48      0.95      0.64       185\n",
            "           1       0.97      0.61      0.75       495\n",
            "\n",
            "    accuracy                           0.70       680\n",
            "   macro avg       0.72      0.78      0.69       680\n",
            "weighted avg       0.84      0.70      0.72       680\n",
            "\n",
            "              precision    recall  f1-score   support\n",
            "\n",
            "           0       0.48      0.95      0.64       185\n",
            "           1       0.97      0.61      0.75       495\n",
            "\n",
            "    accuracy                           0.70       680\n",
            "   macro avg       0.72      0.78      0.69       680\n",
            "weighted avg       0.83      0.70      0.72       680\n",
            "\n",
            "              precision    recall  f1-score   support\n",
            "\n",
            "           0       0.48      0.96      0.64       185\n",
            "           1       0.98      0.61      0.75       495\n",
            "\n",
            "    accuracy                           0.70       680\n",
            "   macro avg       0.73      0.79      0.69       680\n",
            "weighted avg       0.84      0.70      0.72       680\n",
            "\n",
            "              precision    recall  f1-score   support\n",
            "\n",
            "           0       0.48      0.96      0.64       185\n",
            "           1       0.97      0.61      0.75       495\n",
            "\n",
            "    accuracy                           0.71       680\n",
            "   macro avg       0.73      0.78      0.70       680\n",
            "weighted avg       0.84      0.71      0.72       680\n",
            "\n",
            "              precision    recall  f1-score   support\n",
            "\n",
            "           0       0.47      0.95      0.63       185\n",
            "           1       0.97      0.61      0.75       495\n",
            "\n",
            "    accuracy                           0.70       680\n",
            "   macro avg       0.72      0.78      0.69       680\n",
            "weighted avg       0.84      0.70      0.72       680\n",
            "\n",
            "Epoch [71/100], Loss: 0.2866\n",
            "              precision    recall  f1-score   support\n",
            "\n",
            "           0       0.47      0.96      0.63       185\n",
            "           1       0.97      0.60      0.75       495\n",
            "\n",
            "    accuracy                           0.70       680\n",
            "   macro avg       0.72      0.78      0.69       680\n",
            "weighted avg       0.84      0.70      0.72       680\n",
            "\n",
            "              precision    recall  f1-score   support\n",
            "\n",
            "           0       0.48      0.96      0.64       185\n",
            "           1       0.97      0.61      0.75       495\n",
            "\n",
            "    accuracy                           0.70       680\n",
            "   macro avg       0.73      0.78      0.69       680\n",
            "weighted avg       0.84      0.70      0.72       680\n",
            "\n",
            "              precision    recall  f1-score   support\n",
            "\n",
            "           0       0.48      0.96      0.64       185\n",
            "           1       0.97      0.61      0.75       495\n",
            "\n",
            "    accuracy                           0.70       680\n",
            "   macro avg       0.73      0.78      0.69       680\n",
            "weighted avg       0.84      0.70      0.72       680\n",
            "\n",
            "              precision    recall  f1-score   support\n",
            "\n",
            "           0       0.48      0.95      0.64       185\n",
            "           1       0.97      0.61      0.75       495\n",
            "\n",
            "    accuracy                           0.70       680\n",
            "   macro avg       0.72      0.78      0.69       680\n",
            "weighted avg       0.84      0.70      0.72       680\n",
            "\n",
            "              precision    recall  f1-score   support\n",
            "\n",
            "           0       0.48      0.95      0.64       185\n",
            "           1       0.97      0.61      0.75       495\n",
            "\n",
            "    accuracy                           0.70       680\n",
            "   macro avg       0.72      0.78      0.69       680\n",
            "weighted avg       0.84      0.70      0.72       680\n",
            "\n",
            "              precision    recall  f1-score   support\n",
            "\n",
            "           0       0.48      0.96      0.64       185\n",
            "           1       0.97      0.61      0.75       495\n",
            "\n",
            "    accuracy                           0.71       680\n",
            "   macro avg       0.73      0.78      0.70       680\n",
            "weighted avg       0.84      0.71      0.72       680\n",
            "\n",
            "              precision    recall  f1-score   support\n",
            "\n",
            "           0       0.48      0.96      0.64       185\n",
            "           1       0.98      0.61      0.75       495\n",
            "\n",
            "    accuracy                           0.71       680\n",
            "   macro avg       0.73      0.79      0.70       680\n",
            "weighted avg       0.84      0.71      0.72       680\n",
            "\n",
            "              precision    recall  f1-score   support\n",
            "\n",
            "           0       0.48      0.96      0.64       185\n",
            "           1       0.97      0.61      0.75       495\n",
            "\n",
            "    accuracy                           0.71       680\n",
            "   macro avg       0.73      0.78      0.70       680\n",
            "weighted avg       0.84      0.71      0.72       680\n",
            "\n",
            "              precision    recall  f1-score   support\n",
            "\n",
            "           0       0.48      0.96      0.64       185\n",
            "           1       0.97      0.61      0.75       495\n",
            "\n",
            "    accuracy                           0.71       680\n",
            "   macro avg       0.73      0.78      0.70       680\n",
            "weighted avg       0.84      0.71      0.72       680\n",
            "\n",
            "              precision    recall  f1-score   support\n",
            "\n",
            "           0       0.48      0.96      0.64       185\n",
            "           1       0.97      0.61      0.75       495\n",
            "\n",
            "    accuracy                           0.71       680\n",
            "   macro avg       0.73      0.78      0.70       680\n",
            "weighted avg       0.84      0.71      0.72       680\n",
            "\n",
            "Epoch [81/100], Loss: 0.2969\n",
            "              precision    recall  f1-score   support\n",
            "\n",
            "           0       0.48      0.96      0.64       185\n",
            "           1       0.97      0.61      0.75       495\n",
            "\n",
            "    accuracy                           0.71       680\n",
            "   macro avg       0.73      0.78      0.70       680\n",
            "weighted avg       0.84      0.71      0.72       680\n",
            "\n",
            "              precision    recall  f1-score   support\n",
            "\n",
            "           0       0.48      0.96      0.64       185\n",
            "           1       0.97      0.61      0.75       495\n",
            "\n",
            "    accuracy                           0.71       680\n",
            "   macro avg       0.73      0.78      0.70       680\n",
            "weighted avg       0.84      0.71      0.72       680\n",
            "\n",
            "              precision    recall  f1-score   support\n",
            "\n",
            "           0       0.48      0.96      0.64       185\n",
            "           1       0.97      0.61      0.75       495\n",
            "\n",
            "    accuracy                           0.71       680\n",
            "   macro avg       0.73      0.78      0.70       680\n",
            "weighted avg       0.84      0.71      0.72       680\n",
            "\n",
            "              precision    recall  f1-score   support\n",
            "\n",
            "           0       0.48      0.96      0.64       185\n",
            "           1       0.97      0.61      0.75       495\n",
            "\n",
            "    accuracy                           0.70       680\n",
            "   macro avg       0.73      0.78      0.69       680\n",
            "weighted avg       0.84      0.70      0.72       680\n",
            "\n",
            "              precision    recall  f1-score   support\n",
            "\n",
            "           0       0.48      0.96      0.64       185\n",
            "           1       0.97      0.61      0.75       495\n",
            "\n",
            "    accuracy                           0.70       680\n",
            "   macro avg       0.73      0.78      0.69       680\n",
            "weighted avg       0.84      0.70      0.72       680\n",
            "\n",
            "              precision    recall  f1-score   support\n",
            "\n",
            "           0       0.48      0.96      0.64       185\n",
            "           1       0.97      0.61      0.75       495\n",
            "\n",
            "    accuracy                           0.70       680\n",
            "   macro avg       0.73      0.78      0.69       680\n",
            "weighted avg       0.84      0.70      0.72       680\n",
            "\n",
            "              precision    recall  f1-score   support\n",
            "\n",
            "           0       0.48      0.96      0.64       185\n",
            "           1       0.97      0.61      0.75       495\n",
            "\n",
            "    accuracy                           0.70       680\n",
            "   macro avg       0.73      0.78      0.69       680\n",
            "weighted avg       0.84      0.70      0.72       680\n",
            "\n",
            "              precision    recall  f1-score   support\n",
            "\n",
            "           0       0.48      0.96      0.64       185\n",
            "           1       0.98      0.61      0.75       495\n",
            "\n",
            "    accuracy                           0.70       680\n",
            "   macro avg       0.73      0.79      0.69       680\n",
            "weighted avg       0.84      0.70      0.72       680\n",
            "\n",
            "              precision    recall  f1-score   support\n",
            "\n",
            "           0       0.48      0.96      0.64       185\n",
            "           1       0.97      0.61      0.75       495\n",
            "\n",
            "    accuracy                           0.70       680\n",
            "   macro avg       0.73      0.78      0.69       680\n",
            "weighted avg       0.84      0.70      0.72       680\n",
            "\n",
            "              precision    recall  f1-score   support\n",
            "\n",
            "           0       0.48      0.96      0.64       185\n",
            "           1       0.98      0.61      0.75       495\n",
            "\n",
            "    accuracy                           0.70       680\n",
            "   macro avg       0.73      0.79      0.69       680\n",
            "weighted avg       0.84      0.70      0.72       680\n",
            "\n",
            "Epoch [91/100], Loss: 0.2865\n",
            "              precision    recall  f1-score   support\n",
            "\n",
            "           0       0.48      0.96      0.64       185\n",
            "           1       0.98      0.61      0.75       495\n",
            "\n",
            "    accuracy                           0.70       680\n",
            "   macro avg       0.73      0.79      0.69       680\n",
            "weighted avg       0.84      0.70      0.72       680\n",
            "\n",
            "              precision    recall  f1-score   support\n",
            "\n",
            "           0       0.48      0.96      0.64       185\n",
            "           1       0.98      0.61      0.75       495\n",
            "\n",
            "    accuracy                           0.70       680\n",
            "   macro avg       0.73      0.79      0.69       680\n",
            "weighted avg       0.84      0.70      0.72       680\n",
            "\n",
            "              precision    recall  f1-score   support\n",
            "\n",
            "           0       0.48      0.96      0.64       185\n",
            "           1       0.98      0.61      0.75       495\n",
            "\n",
            "    accuracy                           0.70       680\n",
            "   macro avg       0.73      0.79      0.69       680\n",
            "weighted avg       0.84      0.70      0.72       680\n",
            "\n",
            "              precision    recall  f1-score   support\n",
            "\n",
            "           0       0.48      0.96      0.64       185\n",
            "           1       0.98      0.61      0.75       495\n",
            "\n",
            "    accuracy                           0.70       680\n",
            "   macro avg       0.73      0.79      0.69       680\n",
            "weighted avg       0.84      0.70      0.72       680\n",
            "\n",
            "              precision    recall  f1-score   support\n",
            "\n",
            "           0       0.48      0.96      0.64       185\n",
            "           1       0.97      0.61      0.75       495\n",
            "\n",
            "    accuracy                           0.70       680\n",
            "   macro avg       0.73      0.78      0.69       680\n",
            "weighted avg       0.84      0.70      0.72       680\n",
            "\n",
            "              precision    recall  f1-score   support\n",
            "\n",
            "           0       0.48      0.96      0.64       185\n",
            "           1       0.97      0.61      0.75       495\n",
            "\n",
            "    accuracy                           0.70       680\n",
            "   macro avg       0.73      0.78      0.69       680\n",
            "weighted avg       0.84      0.70      0.72       680\n",
            "\n",
            "              precision    recall  f1-score   support\n",
            "\n",
            "           0       0.48      0.96      0.64       185\n",
            "           1       0.97      0.61      0.75       495\n",
            "\n",
            "    accuracy                           0.70       680\n",
            "   macro avg       0.73      0.78      0.69       680\n",
            "weighted avg       0.84      0.70      0.72       680\n",
            "\n",
            "              precision    recall  f1-score   support\n",
            "\n",
            "           0       0.48      0.96      0.64       185\n",
            "           1       0.97      0.61      0.75       495\n",
            "\n",
            "    accuracy                           0.70       680\n",
            "   macro avg       0.73      0.78      0.69       680\n",
            "weighted avg       0.84      0.70      0.72       680\n",
            "\n",
            "              precision    recall  f1-score   support\n",
            "\n",
            "           0       0.48      0.96      0.64       185\n",
            "           1       0.97      0.61      0.75       495\n",
            "\n",
            "    accuracy                           0.70       680\n",
            "   macro avg       0.73      0.78      0.69       680\n",
            "weighted avg       0.84      0.70      0.72       680\n",
            "\n"
          ]
        },
        {
          "data": {
            "image/png": "[encoded data removed]",
            "text/plain": [
              "<Figure size 640x480 with 1 Axes>"
            ]
          },
          "metadata": {},
          "output_type": "display_data"
        },
        {
          "name": "stdout",
          "output_type": "stream",
          "text": [
            "              precision    recall  f1-score   support\n",
            "\n",
            "           0       0.48      0.96      0.64       185\n",
            "           1       0.97      0.61      0.75       495\n",
            "\n",
            "    accuracy                           0.70       680\n",
            "   macro avg       0.73      0.78      0.69       680\n",
            "weighted avg       0.84      0.70      0.72       680\n",
            "\n",
            "Test Accuracy: 0.7029\n",
            "Test F1 Score (macro): 0.6927\n",
            "Test Loss: 0.4667\n",
            "====================================================================================================\n"
          ]
        }
      ],
      "source": [
        "# Tính toán trọng số cho từng lớp\n",
        "class_counts = np.bincount(y_train.numpy())  # Đếm số lượng mẫu của từng lớp\n",
        "class_weights = 1.0 / class_counts           # Trọng số ngược với tần suất\n",
        "device = torch.device(\"cuda\" if torch.cuda.is_available() else \"cpu\") # get the device\n",
        "class_weights = torch.tensor(class_weights, dtype=torch.float32, device=device) # Move class_weights to the device\n",
        "\n",
        "model_pro = LSTMPredictor(input_dim, hidden_dim=85, output_dim=output_dim)\n",
        "criterion = nn.CrossEntropyLoss(weight=class_weights)  # Loss cho bài toán phân loại\n",
        "optimizer = optim.Adam(model_pro.parameters(), lr=8e-4, weight_decay=5e-4)\n",
        "train1(model_pro,train_loader=train_loader,test_loader=test_loader,criterion=criterion,optimizer=optimizer,batch_size=256,num_epochs=100)\n",
        "acc,f1,losses=evaluate_model(model_pro,test_loader= test_loader)\n",
        "print(f\"Test Accuracy: {acc:.4f}\")\n",
        "print(f\"Test F1 Score (macro): {f1:.4f}\")\n",
        "print(f\"Test Loss: {losses:.4f}\")\n",
        "print(\"=\"*100)"
      ]
    },
    {
      "cell_type": "markdown",
      "metadata": {
        "id": "33CDsjQ0NV2U"
      },
      "source": [
        "###"
      ]
    },
    {
      "cell_type": "markdown",
      "metadata": {
        "id": "Hddv2TXhNWqb"
      },
      "source": [
        "### Neural network for ROT prediction"
      ]
    },
    {
      "cell_type": "markdown",
      "metadata": {
        "id": "k2fkcRewc_zW"
      },
      "source": [
        "#### ROT MEAN"
      ]
    },
    {
      "cell_type": "code",
      "execution_count": 222,
      "metadata": {
        "colab": {
          "base_uri": "https://localhost:8080/"
        },
        "id": "vaHy4AiSaadj",
        "outputId": "ae2e07ca-cf72-454b-94b9-8c9a7d005e1e"
      },
      "outputs": [
        {
          "name": "stdout",
          "output_type": "stream",
          "text": [
            "Số lượng mẫu sau khi cân bằng:\n",
            "Exit-label\n",
            "1    2527\n",
            "0    2527\n",
            "Name: count, dtype: int64\n"
          ]
        }
      ],
      "source": [
        "import pandas as pd\n",
        "\n",
        "# Tính số lượng mẫu của từng lớp\n",
        "class_counts = df['Exit-label'].value_counts()\n",
        "max_count = class_counts.max()\n",
        "\n",
        "# Tạo một DataFrame mới để lưu dữ liệu đã cân bằng\n",
        "balanced_df = pd.DataFrame()\n",
        "\n",
        "# Lặp qua từng lớp và nhân bản mẫu để đạt số lượng bằng max_count\n",
        "for cls, count in class_counts.items():\n",
        "    cls_data = df[df['Exit-label'] == cls]\n",
        "    cls_oversampled = cls_data.sample(n=max_count, replace=True, random_state=42)  # Oversampling\n",
        "    balanced_df = pd.concat([balanced_df, cls_oversampled])\n",
        "\n",
        "# Shuffle lại dữ liệu sau khi cân bằng\n",
        "balanced_df = balanced_df.sample(frac=1, random_state=42).reset_index(drop=True)\n",
        "\n",
        "# Kết quả\n",
        "print(\"Số lượng mẫu sau khi cân bằng:\")\n",
        "print(balanced_df['Exit-label'].value_counts())"
      ]
    },
    {
      "cell_type": "code",
      "execution_count": 223,
      "metadata": {
        "id": "reNrAc2u22-z"
      },
      "outputs": [],
      "source": [
        "X,y=balanced_df.drop(['ROT','Exit-label'],axis=1),balanced_df['ROT']\n",
        "features = ['Exit-location','Exit-angle','Final-approach','Aircraft-type','Temperature','Time','Windspeed','Visibility']\n",
        "X = X[features]"
      ]
    },
    {
      "cell_type": "code",
      "execution_count": 224,
      "metadata": {
        "colab": {
          "base_uri": "https://localhost:8080/",
          "height": 424
        },
        "id": "GzYNGq4R6KJ9",
        "outputId": "baf90080-71c1-44be-9dad-be2b1841884c"
      },
      "outputs": [
        {
          "data": {
            "text/html": [
              "<div>\n",
              "<style scoped>\n",
              "    .dataframe tbody tr th:only-of-type {\n",
              "        vertical-align: middle;\n",
              "    }\n",
              "\n",
              "    .dataframe tbody tr th {\n",
              "        vertical-align: top;\n",
              "    }\n",
              "\n",
              "    .dataframe thead th {\n",
              "        text-align: right;\n",
              "    }\n",
              "</style>\n",
              "<table border=\"1\" class=\"dataframe\">\n",
              "  <thead>\n",
              "    <tr style=\"text-align: right;\">\n",
              "      <th></th>\n",
              "      <th>Exit-location</th>\n",
              "      <th>Exit-angle</th>\n",
              "      <th>Final-approach</th>\n",
              "      <th>Aircraft-type</th>\n",
              "      <th>Temperature</th>\n",
              "      <th>Time</th>\n",
              "      <th>Windspeed</th>\n",
              "      <th>Visibility</th>\n",
              "    </tr>\n",
              "  </thead>\n",
              "  <tbody>\n",
              "    <tr>\n",
              "      <th>0</th>\n",
              "      <td>2086.35</td>\n",
              "      <td>30</td>\n",
              "      <td>146</td>\n",
              "      <td>2</td>\n",
              "      <td>29</td>\n",
              "      <td>0</td>\n",
              "      <td>-2</td>\n",
              "      <td>7.0</td>\n",
              "    </tr>\n",
              "    <tr>\n",
              "      <th>1</th>\n",
              "      <td>2086.35</td>\n",
              "      <td>30</td>\n",
              "      <td>137</td>\n",
              "      <td>2</td>\n",
              "      <td>31</td>\n",
              "      <td>0</td>\n",
              "      <td>-15</td>\n",
              "      <td>10.0</td>\n",
              "    </tr>\n",
              "    <tr>\n",
              "      <th>2</th>\n",
              "      <td>2086.35</td>\n",
              "      <td>30</td>\n",
              "      <td>139</td>\n",
              "      <td>0</td>\n",
              "      <td>31</td>\n",
              "      <td>0</td>\n",
              "      <td>5</td>\n",
              "      <td>8.0</td>\n",
              "    </tr>\n",
              "    <tr>\n",
              "      <th>3</th>\n",
              "      <td>2086.35</td>\n",
              "      <td>30</td>\n",
              "      <td>135</td>\n",
              "      <td>2</td>\n",
              "      <td>30</td>\n",
              "      <td>1</td>\n",
              "      <td>9</td>\n",
              "      <td>8.0</td>\n",
              "    </tr>\n",
              "    <tr>\n",
              "      <th>4</th>\n",
              "      <td>2086.35</td>\n",
              "      <td>30</td>\n",
              "      <td>146</td>\n",
              "      <td>0</td>\n",
              "      <td>25</td>\n",
              "      <td>0</td>\n",
              "      <td>1</td>\n",
              "      <td>10.0</td>\n",
              "    </tr>\n",
              "    <tr>\n",
              "      <th>...</th>\n",
              "      <td>...</td>\n",
              "      <td>...</td>\n",
              "      <td>...</td>\n",
              "      <td>...</td>\n",
              "      <td>...</td>\n",
              "      <td>...</td>\n",
              "      <td>...</td>\n",
              "      <td>...</td>\n",
              "    </tr>\n",
              "    <tr>\n",
              "      <th>5049</th>\n",
              "      <td>1750.00</td>\n",
              "      <td>30</td>\n",
              "      <td>144</td>\n",
              "      <td>2</td>\n",
              "      <td>27</td>\n",
              "      <td>0</td>\n",
              "      <td>-6</td>\n",
              "      <td>8.0</td>\n",
              "    </tr>\n",
              "    <tr>\n",
              "      <th>5050</th>\n",
              "      <td>2086.35</td>\n",
              "      <td>30</td>\n",
              "      <td>141</td>\n",
              "      <td>0</td>\n",
              "      <td>34</td>\n",
              "      <td>1</td>\n",
              "      <td>3</td>\n",
              "      <td>7.0</td>\n",
              "    </tr>\n",
              "    <tr>\n",
              "      <th>5051</th>\n",
              "      <td>1750.00</td>\n",
              "      <td>30</td>\n",
              "      <td>142</td>\n",
              "      <td>2</td>\n",
              "      <td>26</td>\n",
              "      <td>1</td>\n",
              "      <td>-4</td>\n",
              "      <td>9.0</td>\n",
              "    </tr>\n",
              "    <tr>\n",
              "      <th>5052</th>\n",
              "      <td>1750.00</td>\n",
              "      <td>30</td>\n",
              "      <td>134</td>\n",
              "      <td>2</td>\n",
              "      <td>29</td>\n",
              "      <td>0</td>\n",
              "      <td>-2</td>\n",
              "      <td>9.0</td>\n",
              "    </tr>\n",
              "    <tr>\n",
              "      <th>5053</th>\n",
              "      <td>2086.35</td>\n",
              "      <td>30</td>\n",
              "      <td>143</td>\n",
              "      <td>2</td>\n",
              "      <td>31</td>\n",
              "      <td>0</td>\n",
              "      <td>5</td>\n",
              "      <td>6.0</td>\n",
              "    </tr>\n",
              "  </tbody>\n",
              "</table>\n",
              "<p>5054 rows × 8 columns</p>\n",
              "</div>"
            ],
            "text/plain": [
              "      Exit-location  Exit-angle  Final-approach  Aircraft-type  Temperature  \\\n",
              "0           2086.35          30             146              2           29   \n",
              "1           2086.35          30             137              2           31   \n",
              "2           2086.35          30             139              0           31   \n",
              "3           2086.35          30             135              2           30   \n",
              "4           2086.35          30             146              0           25   \n",
              "...             ...         ...             ...            ...          ...   \n",
              "5049        1750.00          30             144              2           27   \n",
              "5050        2086.35          30             141              0           34   \n",
              "5051        1750.00          30             142              2           26   \n",
              "5052        1750.00          30             134              2           29   \n",
              "5053        2086.35          30             143              2           31   \n",
              "\n",
              "      Time  Windspeed  Visibility  \n",
              "0        0         -2         7.0  \n",
              "1        0        -15        10.0  \n",
              "2        0          5         8.0  \n",
              "3        1          9         8.0  \n",
              "4        0          1        10.0  \n",
              "...    ...        ...         ...  \n",
              "5049     0         -6         8.0  \n",
              "5050     1          3         7.0  \n",
              "5051     1         -4         9.0  \n",
              "5052     0         -2         9.0  \n",
              "5053     0          5         6.0  \n",
              "\n",
              "[5054 rows x 8 columns]"
            ]
          },
          "execution_count": 224,
          "metadata": {},
          "output_type": "execute_result"
        }
      ],
      "source": [
        "X"
      ]
    },
    {
      "cell_type": "code",
      "execution_count": 225,
      "metadata": {
        "id": "T_EU73zeOMRr"
      },
      "outputs": [],
      "source": [
        "# chuẩn hóa dữ liệu\n",
        "from sklearn.preprocessing import StandardScaler\n",
        "# Chuẩn hóa dữ liệu\n",
        "scaler_rot = StandardScaler()\n",
        "data_normalized = scaler_rot.fit_transform(X)\n",
        "\n",
        "num_samples = data_normalized.shape[0]  # Số lượng mẫu dữ liệu\n",
        "\n",
        "input_dim = data_normalized.shape[1]\n",
        "\n",
        "X_tensor = torch.tensor(data_normalized,dtype=torch.float32)\n",
        "y_tensor = torch.tensor(y, dtype=torch.float32)\n",
        "\n",
        "# Chia tập train/test\n",
        "train_size = int(0.8 * num_samples)\n",
        "X_train, X_test = X_tensor[:train_size], X_tensor[train_size:]\n",
        "y_train, y_test = y_tensor[:train_size], y_tensor[train_size:]\n"
      ]
    },
    {
      "cell_type": "code",
      "execution_count": 226,
      "metadata": {
        "id": "gSWhH8FYPtsh"
      },
      "outputs": [],
      "source": [
        "# 1. Định nghĩa mô hình neural network\n",
        "class NeuralNetwork(nn.Module):\n",
        "    def __init__(self, input_size, hidden_units):\n",
        "        super(NeuralNetwork, self).__init__()\n",
        "        self.fc1 = nn.Linear(input_size, hidden_units)\n",
        "        self.gelu = nn.GELU()  # Activation function\n",
        "        self.fc2 = nn.Linear(hidden_units, hidden_units)  # Output layer for regression\n",
        "        self.fc3 = nn.Linear(hidden_units, 1)  # Output layer for regression\n",
        "\n",
        "    def forward(self, x):\n",
        "        x = self.fc1(x)\n",
        "        x = self.gelu(x)\n",
        "        x = self.fc2(x)\n",
        "        x = self.gelu(x)\n",
        "        x = self.fc3(x)\n",
        "        return x\n",
        "\n",
        "# 2. Hàm bootstrap sampling\n",
        "def bootstrap_sample(X, y, sample_size):\n",
        "    indices = np.random.choice(len(X), size=sample_size, replace=True)\n",
        "    return X[indices], y[indices]\n",
        "\n",
        "# 3. Huấn luyện từng mô hình con\n",
        "def train_single_model(X_train, y_train, input_size, hidden_units, epochs=50, batch_size=32, lr=0.002):\n",
        "    # Dataloader\n",
        "    dataset = TensorDataset(torch.tensor(X_train, dtype=torch.float32), torch.tensor(y_train, dtype=torch.float32))\n",
        "    dataloader = DataLoader(dataset, batch_size=batch_size, shuffle=True)\n",
        "    device=torch.device(\"cuda\" if torch.cuda.is_available() else \"cpu\")\n",
        "    # Khởi tạo mô hình\n",
        "    model = NeuralNetwork(input_size, hidden_units)\n",
        "    model.train()\n",
        "    model.to(device)\n",
        "    criterion = nn.MSELoss()\n",
        "    optimizer = optim.Adam(model.parameters(), lr=lr,weight_decay=1e-4)\n",
        "    scheduler = optim.lr_scheduler.CosineAnnealingLR(optimizer, T_max=epochs*len(dataloader), eta_min=1e-5)\n",
        "    # Huấn luyện\n",
        "    for epoch in range(epochs):\n",
        "        for X_batch, y_batch in dataloader:\n",
        "            X_batch, y_batch = X_batch.to(device), y_batch.to(device)\n",
        "            optimizer.zero_grad()\n",
        "            predictions = model(X_batch).squeeze()\n",
        "            loss = criterion(predictions, y_batch)\n",
        "            loss.backward()\n",
        "            optimizer.step()\n",
        "            scheduler.step()\n",
        "\n",
        "    return model\n"
      ]
    },
    {
      "cell_type": "code",
      "execution_count": 435,
      "metadata": {},
      "outputs": [
        {
          "data": {
            "text/plain": [
              "8"
            ]
          },
          "execution_count": 435,
          "metadata": {},
          "output_type": "execute_result"
        }
      ],
      "source": [
        "n_features"
      ]
    },
    {
      "cell_type": "code",
      "execution_count": null,
      "metadata": {
        "colab": {
          "base_uri": "https://localhost:8080/"
        },
        "id": "_S9Swlg3P6Wp",
        "outputId": "0a917aa7-b844-45ba-a818-05ea9fe5e6be"
      },
      "outputs": [
        {
          "name": "stdout",
          "output_type": "stream",
          "text": [
            "✅ Saved ensemble checkpoint to ensemble_checkpoint.pth\n"
          ]
        }
      ],
      "source": [
        "checkpoint_dir= \"D:/Runway-Training-main/BE/checkpoint/\"\n",
        "n_samples = X_tensor.shape[0]\n",
        "n_features = X_tensor.shape[1]\n",
        "# 5. Tạo và huấn luyện 100 mô hình con\n",
        "num_models = 70\n",
        "models = []\n",
        "input_size = n_features\n",
        "hidden_units_list = []\n",
        "for i in range(num_models):\n",
        "    # Bootstrap sample\n",
        "    X_sample, y_sample = bootstrap_sample(X_train, y_train, sample_size=n_samples)\n",
        "    # Số lượng hidden units ngẫu nhiên từ 50 đến 700\n",
        "    hidden_units = np.random.randint(100, 500)\n",
        "    hidden_units_list.append(hidden_units)\n",
        "    print(f\"Training model {i+1}/{num_models} with {hidden_units} hidden units...\")\n",
        "    # Huấn luyện mô hình\n",
        "    model = train_single_model(X_sample, y_sample, input_size, hidden_units,epochs=50,batch_size = 128, lr= 2e-3)\n",
        "    models.append(model)\n",
        "checkpoint = {\n",
        "    \"num_models\": num_models,\n",
        "    \"model_states\": [model.state_dict() for model in models],  # trạng thái từng model\n",
        "    \"hidden_units\": hidden_units_list,\n",
        "    \"input_size\": input_size,\n",
        "    \"scaler\":scaler_rot\n",
        "}\n",
        "torch.save(checkpoint, checkpoint_dir+\"ensemble_checkpoint.pth\")\n",
        "print(\"✅ Saved ensemble checkpoint to ensemble_checkpoint.pth\")\n",
        "# 6. Dự đoán với ensemble models\n",
        "def predict_ensemble(models, X_test):\n",
        "    X_test_tensor = torch.tensor(X_test, dtype=torch.float32)\n",
        "    X_test_tensor = X_test_tensor.to(device)\n",
        "    predictions = []\n",
        "    with torch.no_grad():\n",
        "        for model in models:\n",
        "            predictions.append(model(X_test_tensor).cpu().numpy())\n",
        "    # Trung bình kết quả từ tất cả các mô hình con\n",
        "    return np.mean(predictions, axis=0),np.var(np.array(predictions),axis=0,ddof=1)\n"
      ]
    },
    {
      "cell_type": "code",
      "execution_count": 228,
      "metadata": {},
      "outputs": [
        {
          "name": "stdout",
          "output_type": "stream",
          "text": [
            "✅ Loaded ensemble with 70 models\n"
          ]
        }
      ],
      "source": [
        "# Load checkpoint\n",
        "checkpoint = torch.load(\"D:/Runway-Training-main/BE/checkpoint/ensemble_checkpoint.pth\", map_location=device)\n",
        "\n",
        "num_models = checkpoint[\"num_models\"]\n",
        "hidden_units_list = checkpoint[\"hidden_units\"]\n",
        "input_size = checkpoint[\"input_size\"]\n",
        "\n",
        "# Khởi tạo lại mô hình giống như lúc train và load weight\n",
        "loaded_models = []\n",
        "for i in range(num_models):\n",
        "    model = NeuralNetwork(input_size=input_size, hidden_units=hidden_units_list[i]).to(device)  # định nghĩa lớp MLP giống y chang lúc train\n",
        "    model.load_state_dict(checkpoint[\"model_states\"][i])\n",
        "    model.eval()\n",
        "    loaded_models.append(model)\n",
        "\n",
        "print(f\"✅ Loaded ensemble with {len(loaded_models)} models\")"
      ]
    },
    {
      "cell_type": "code",
      "execution_count": 229,
      "metadata": {
        "colab": {
          "base_uri": "https://localhost:8080/"
        },
        "id": "lI1AIyb1R7zA",
        "outputId": "d16c777c-406e-4b89-9405-c05c02c58ea1"
      },
      "outputs": [
        {
          "name": "stdout",
          "output_type": "stream",
          "text": [
            "15.423661231994629\n",
            "3.0649526119232178\n"
          ]
        }
      ],
      "source": [
        "from sklearn.metrics import mean_squared_error,mean_absolute_error\n",
        "y_pred,_ = predict_ensemble(loaded_models,X_test)\n",
        "print(mean_squared_error(y_test,y_pred))\n",
        "print(mean_absolute_error(y_test,y_pred))"
      ]
    },
    {
      "cell_type": "markdown",
      "metadata": {
        "id": "x9i9pMeqdE1t"
      },
      "source": [
        "#### ROT VARIANCE"
      ]
    },
    {
      "cell_type": "markdown",
      "metadata": {
        "id": "Cmny3AV2u7V9"
      },
      "source": [
        "##### Predict error variance"
      ]
    },
    {
      "cell_type": "code",
      "execution_count": 230,
      "metadata": {
        "id": "oTMJwOTwb7AN"
      },
      "outputs": [],
      "source": [
        "class CustomLikelihoodLoss(nn.Module):\n",
        "    def __init__(self):\n",
        "        super(CustomLikelihoodLoss, self).__init__()\n",
        "\n",
        "    def forward(self, y_truth, mean_ROT, variance_ROT, predicted_variance_err):\n",
        "        # Đảm bảo các tensor được đồng bộ hóa\n",
        "        mean_ROT = torch.tensor(mean_ROT, device=y_truth.device, dtype=y_truth.dtype)\n",
        "        predicted_variance_err = torch.nn.functional.softplus(predicted_variance_err)  # Đảm bảo dương\n",
        "\n",
        "        # Tính residuals bình phương\n",
        "        r_2 = (mean_ROT - y_truth) ** 2\n",
        "\n",
        "        # Log của phương sai\n",
        "        log_variances = torch.log(predicted_variance_err + 1e-6)  # Thêm epsilon\n",
        "\n",
        "        # Tính loss\n",
        "        loss = 0.5 * (log_variances + r_2 / (predicted_variance_err + 1e-6))\n",
        "\n",
        "        # Giá trị trung bình trên batch\n",
        "        return torch.mean(loss)\n",
        "\n",
        "class NeuralNetwork(nn.Module):\n",
        "    def __init__(self, input_size, hidden_units):\n",
        "        super(NeuralNetwork, self).__init__()\n",
        "        self.fc1 = nn.Linear(input_size, hidden_units)\n",
        "        self.tanh = nn.Tanh()  # Activation function\n",
        "        self.relu = nn.ReLU()\n",
        "        self.fc2 = nn.Linear(hidden_units,1)   # Output layer for regression\n",
        "\n",
        "    def forward(self, x):\n",
        "        x = self.fc1(x)\n",
        "        x = self.tanh(x)\n",
        "        x = self.fc2(x)\n",
        "        x = self.relu(x)\n",
        "        return x"
      ]
    },
    {
      "cell_type": "code",
      "execution_count": 231,
      "metadata": {
        "colab": {
          "base_uri": "https://localhost:8080/"
        },
        "id": "Kk4cjtbDhENK",
        "outputId": "e420807c-e0c1-45af-e07a-518807960613"
      },
      "outputs": [
        {
          "name": "stdout",
          "output_type": "stream",
          "text": [
            "Epoch [50/50], Loss: 2.5995\n"
          ]
        }
      ],
      "source": [
        "epochs=50\n",
        "lr=1e-3\n",
        "hidden_units = 150\n",
        "np.random.seed(42)\n",
        "batch_size=32\n",
        "\n",
        "dataset = TensorDataset(torch.tensor(X_train, dtype=torch.float32), torch.tensor(y_train, dtype=torch.float32))\n",
        "dataloader = DataLoader(dataset, batch_size=batch_size, shuffle=True)\n",
        "\n",
        "# Khởi tạo mô hình\n",
        "model_err = NeuralNetwork(input_size, hidden_units)\n",
        "model_err.train()\n",
        "model_err.to(device)\n",
        "criterion = CustomLikelihoodLoss()\n",
        "optimizer = optim.Adam(model_err.parameters(), lr=lr,weight_decay=1e-3)\n",
        "losses=[]\n",
        "# Huấn luyện\n",
        "for epoch in range(epochs):\n",
        "    for X_batch, y_batch in dataloader:\n",
        "        X_batch, y_batch = X_batch.to(device), y_batch.to(device)\n",
        "        optimizer.zero_grad()\n",
        "\n",
        "        predictions = model_err(X_batch).squeeze()\n",
        "        mean_ROT,variance_ROT=predict_ensemble(models,X_batch)\n",
        "\n",
        "        loss = criterion(y_batch,mean_ROT,variance_ROT,predictions)\n",
        "        loss.backward()\n",
        "        optimizer.step()\n",
        "        losses.append(loss.item())\n",
        "print(f\"Epoch [{epoch+1}/{epochs}], Loss: {np.mean(losses):.4f}\")\n"
      ]
    },
    {
      "cell_type": "markdown",
      "metadata": {
        "id": "DPFZzf4JeMMV"
      },
      "source": [
        "##### Predict on regional data"
      ]
    },
    {
      "cell_type": "code",
      "execution_count": 232,
      "metadata": {
        "id": "Lm74TDD9efyP"
      },
      "outputs": [],
      "source": [
        "X,y=df.drop(['ROT','Exit-label'],axis=1),df['ROT']\n",
        "features = ['Exit-location','Exit-angle','Final-approach','Aircraft-type','Temperature','Time','Windspeed','Visibility']\n",
        "X = X[features]"
      ]
    },
    {
      "cell_type": "code",
      "execution_count": 233,
      "metadata": {
        "colab": {
          "base_uri": "https://localhost:8080/",
          "height": 424
        },
        "id": "ITcG10eXix8s",
        "outputId": "21d10646-c8e2-4cee-e490-8ecb794e4ea9"
      },
      "outputs": [
        {
          "data": {
            "text/html": [
              "<div>\n",
              "<style scoped>\n",
              "    .dataframe tbody tr th:only-of-type {\n",
              "        vertical-align: middle;\n",
              "    }\n",
              "\n",
              "    .dataframe tbody tr th {\n",
              "        vertical-align: top;\n",
              "    }\n",
              "\n",
              "    .dataframe thead th {\n",
              "        text-align: right;\n",
              "    }\n",
              "</style>\n",
              "<table border=\"1\" class=\"dataframe\">\n",
              "  <thead>\n",
              "    <tr style=\"text-align: right;\">\n",
              "      <th></th>\n",
              "      <th>Exit-location</th>\n",
              "      <th>Aircraft-type</th>\n",
              "      <th>Final-approach</th>\n",
              "      <th>Exit-angle</th>\n",
              "      <th>Temperature</th>\n",
              "      <th>Time</th>\n",
              "      <th>Windspeed</th>\n",
              "      <th>Visibility</th>\n",
              "      <th>ROT</th>\n",
              "      <th>Exit-label</th>\n",
              "    </tr>\n",
              "  </thead>\n",
              "  <tbody>\n",
              "    <tr>\n",
              "      <th>0</th>\n",
              "      <td>1750.00</td>\n",
              "      <td>2</td>\n",
              "      <td>147</td>\n",
              "      <td>30</td>\n",
              "      <td>24</td>\n",
              "      <td>0</td>\n",
              "      <td>-3</td>\n",
              "      <td>7.0</td>\n",
              "      <td>54.0</td>\n",
              "      <td>0</td>\n",
              "    </tr>\n",
              "    <tr>\n",
              "      <th>1</th>\n",
              "      <td>2086.35</td>\n",
              "      <td>2</td>\n",
              "      <td>134</td>\n",
              "      <td>30</td>\n",
              "      <td>30</td>\n",
              "      <td>0</td>\n",
              "      <td>-4</td>\n",
              "      <td>8.0</td>\n",
              "      <td>57.0</td>\n",
              "      <td>1</td>\n",
              "    </tr>\n",
              "    <tr>\n",
              "      <th>2</th>\n",
              "      <td>2086.35</td>\n",
              "      <td>0</td>\n",
              "      <td>150</td>\n",
              "      <td>30</td>\n",
              "      <td>24</td>\n",
              "      <td>0</td>\n",
              "      <td>3</td>\n",
              "      <td>8.0</td>\n",
              "      <td>58.0</td>\n",
              "      <td>1</td>\n",
              "    </tr>\n",
              "    <tr>\n",
              "      <th>3</th>\n",
              "      <td>2086.35</td>\n",
              "      <td>0</td>\n",
              "      <td>158</td>\n",
              "      <td>30</td>\n",
              "      <td>31</td>\n",
              "      <td>1</td>\n",
              "      <td>6</td>\n",
              "      <td>8.0</td>\n",
              "      <td>59.0</td>\n",
              "      <td>1</td>\n",
              "    </tr>\n",
              "    <tr>\n",
              "      <th>4</th>\n",
              "      <td>2086.35</td>\n",
              "      <td>2</td>\n",
              "      <td>137</td>\n",
              "      <td>30</td>\n",
              "      <td>29</td>\n",
              "      <td>0</td>\n",
              "      <td>5</td>\n",
              "      <td>8.0</td>\n",
              "      <td>58.0</td>\n",
              "      <td>1</td>\n",
              "    </tr>\n",
              "    <tr>\n",
              "      <th>...</th>\n",
              "      <td>...</td>\n",
              "      <td>...</td>\n",
              "      <td>...</td>\n",
              "      <td>...</td>\n",
              "      <td>...</td>\n",
              "      <td>...</td>\n",
              "      <td>...</td>\n",
              "      <td>...</td>\n",
              "      <td>...</td>\n",
              "      <td>...</td>\n",
              "    </tr>\n",
              "    <tr>\n",
              "      <th>3394</th>\n",
              "      <td>2086.35</td>\n",
              "      <td>0</td>\n",
              "      <td>160</td>\n",
              "      <td>30</td>\n",
              "      <td>31</td>\n",
              "      <td>0</td>\n",
              "      <td>9</td>\n",
              "      <td>7.0</td>\n",
              "      <td>64.0</td>\n",
              "      <td>1</td>\n",
              "    </tr>\n",
              "    <tr>\n",
              "      <th>3395</th>\n",
              "      <td>2086.35</td>\n",
              "      <td>0</td>\n",
              "      <td>147</td>\n",
              "      <td>30</td>\n",
              "      <td>23</td>\n",
              "      <td>0</td>\n",
              "      <td>8</td>\n",
              "      <td>9.0</td>\n",
              "      <td>64.0</td>\n",
              "      <td>1</td>\n",
              "    </tr>\n",
              "    <tr>\n",
              "      <th>3396</th>\n",
              "      <td>2086.35</td>\n",
              "      <td>0</td>\n",
              "      <td>146</td>\n",
              "      <td>30</td>\n",
              "      <td>27</td>\n",
              "      <td>0</td>\n",
              "      <td>4</td>\n",
              "      <td>8.0</td>\n",
              "      <td>56.0</td>\n",
              "      <td>1</td>\n",
              "    </tr>\n",
              "    <tr>\n",
              "      <th>3397</th>\n",
              "      <td>2086.35</td>\n",
              "      <td>0</td>\n",
              "      <td>160</td>\n",
              "      <td>30</td>\n",
              "      <td>23</td>\n",
              "      <td>0</td>\n",
              "      <td>-3</td>\n",
              "      <td>6.0</td>\n",
              "      <td>47.0</td>\n",
              "      <td>1</td>\n",
              "    </tr>\n",
              "    <tr>\n",
              "      <th>3398</th>\n",
              "      <td>2086.35</td>\n",
              "      <td>0</td>\n",
              "      <td>141</td>\n",
              "      <td>30</td>\n",
              "      <td>33</td>\n",
              "      <td>0</td>\n",
              "      <td>5</td>\n",
              "      <td>9.0</td>\n",
              "      <td>59.0</td>\n",
              "      <td>1</td>\n",
              "    </tr>\n",
              "  </tbody>\n",
              "</table>\n",
              "<p>3399 rows × 10 columns</p>\n",
              "</div>"
            ],
            "text/plain": [
              "      Exit-location  Aircraft-type  Final-approach  Exit-angle  Temperature  \\\n",
              "0           1750.00              2             147          30           24   \n",
              "1           2086.35              2             134          30           30   \n",
              "2           2086.35              0             150          30           24   \n",
              "3           2086.35              0             158          30           31   \n",
              "4           2086.35              2             137          30           29   \n",
              "...             ...            ...             ...         ...          ...   \n",
              "3394        2086.35              0             160          30           31   \n",
              "3395        2086.35              0             147          30           23   \n",
              "3396        2086.35              0             146          30           27   \n",
              "3397        2086.35              0             160          30           23   \n",
              "3398        2086.35              0             141          30           33   \n",
              "\n",
              "      Time  Windspeed  Visibility   ROT  Exit-label  \n",
              "0        0         -3         7.0  54.0           0  \n",
              "1        0         -4         8.0  57.0           1  \n",
              "2        0          3         8.0  58.0           1  \n",
              "3        1          6         8.0  59.0           1  \n",
              "4        0          5         8.0  58.0           1  \n",
              "...    ...        ...         ...   ...         ...  \n",
              "3394     0          9         7.0  64.0           1  \n",
              "3395     0          8         9.0  64.0           1  \n",
              "3396     0          4         8.0  56.0           1  \n",
              "3397     0         -3         6.0  47.0           1  \n",
              "3398     0          5         9.0  59.0           1  \n",
              "\n",
              "[3399 rows x 10 columns]"
            ]
          },
          "execution_count": 233,
          "metadata": {},
          "output_type": "execute_result"
        }
      ],
      "source": [
        "df"
      ]
    },
    {
      "cell_type": "code",
      "execution_count": 234,
      "metadata": {
        "id": "8j7hC1rYefyQ"
      },
      "outputs": [],
      "source": [
        "# Chuẩn hóa dữ liệu\n",
        "data_normalized = scaler_rot.transform(X)\n",
        "num_samples = data_normalized.shape[0]  # Số lượng mẫu dữ liệu\n",
        "\n",
        "input_dim = data_normalized.shape[1]\n",
        "\n",
        "X_tensor = torch.tensor(data_normalized,dtype=torch.float32)\n",
        "y_tensor = torch.tensor(y, dtype=torch.float32)"
      ]
    },
    {
      "cell_type": "code",
      "execution_count": 235,
      "metadata": {
        "colab": {
          "base_uri": "https://localhost:8080/"
        },
        "id": "iZdzNO3oekXE",
        "outputId": "7c392b3c-9cb7-409e-c127-bbd8b81ec413"
      },
      "outputs": [],
      "source": [
        "rot_pred,_ = predict_ensemble(models,X_tensor)"
      ]
    },
    {
      "cell_type": "code",
      "execution_count": 236,
      "metadata": {
        "colab": {
          "base_uri": "https://localhost:8080/"
        },
        "id": "rX804cqR4E7t",
        "outputId": "9ea0f459-a39e-4ea1-dafd-72e6a1a5b47a"
      },
      "outputs": [
        {
          "data": {
            "text/plain": [
              "(3399, 1)"
            ]
          },
          "execution_count": 236,
          "metadata": {},
          "output_type": "execute_result"
        }
      ],
      "source": [
        "rot_pred.shape"
      ]
    },
    {
      "cell_type": "code",
      "execution_count": 237,
      "metadata": {
        "colab": {
          "base_uri": "https://localhost:8080/"
        },
        "id": "Jx70rQ7E7L4t",
        "outputId": "a19fb24b-e674-47b5-a14f-66df1c1ac64e"
      },
      "outputs": [
        {
          "data": {
            "text/plain": [
              "15.155638694763184"
            ]
          },
          "execution_count": 237,
          "metadata": {},
          "output_type": "execute_result"
        }
      ],
      "source": [
        "mean_squared_error(y_tensor,rot_pred)"
      ]
    },
    {
      "cell_type": "code",
      "execution_count": 238,
      "metadata": {
        "id": "fb5SKL98jRp1"
      },
      "outputs": [],
      "source": [
        "df['ROT_pred']=rot_pred"
      ]
    },
    {
      "cell_type": "markdown",
      "metadata": {
        "id": "HvM_HREPKiae"
      },
      "source": [
        "#### Kullback Leibler Divergence"
      ]
    },
    {
      "cell_type": "markdown",
      "metadata": {
        "id": "AKwjaV2tuDa1"
      },
      "source": [
        "##### create dataset"
      ]
    },
    {
      "cell_type": "code",
      "execution_count": 438,
      "metadata": {
        "id": "VxslAfsvYgwn"
      },
      "outputs": [],
      "source": [
        "# Tạo dữ liệu\n",
        "aircraft_features=['Final-approach','Aircraft-type','Temperature','Time','Windspeed','Visibility']\n",
        "runway_feautures=['Exit-location','Exit-angle']\n",
        "aircraft_df=df[aircraft_features]\n",
        "runway_df=df[runway_feautures]"
      ]
    },
    {
      "cell_type": "code",
      "execution_count": 439,
      "metadata": {
        "colab": {
          "base_uri": "https://localhost:8080/"
        },
        "id": "vSTjhRX9Ygwo",
        "outputId": "4f6c564c-e1cc-4275-c142-ad65f1b305db"
      },
      "outputs": [
        {
          "name": "stderr",
          "output_type": "stream",
          "text": [
            "C:\\Users\\ADMIN\\AppData\\Local\\Temp\\ipykernel_20488\\3970589878.py:1: SettingWithCopyWarning: \n",
            "A value is trying to be set on a copy of a slice from a DataFrame\n",
            "\n",
            "See the caveats in the documentation: https://pandas.pydata.org/pandas-docs/stable/user_guide/indexing.html#returning-a-view-versus-a-copy\n",
            "  runway_df.drop_duplicates(inplace=True)\n",
            "C:\\Users\\ADMIN\\AppData\\Local\\Temp\\ipykernel_20488\\3970589878.py:3: SettingWithCopyWarning: \n",
            "A value is trying to be set on a copy of a slice from a DataFrame\n",
            "\n",
            "See the caveats in the documentation: https://pandas.pydata.org/pandas-docs/stable/user_guide/indexing.html#returning-a-view-versus-a-copy\n",
            "  runway_df.sort_values(by='Exit-location',inplace=True)\n"
          ]
        }
      ],
      "source": [
        "runway_df.drop_duplicates(inplace=True)\n",
        "# sắp xếp lại theo giá trị của exit location\n",
        "runway_df.sort_values(by='Exit-location',inplace=True)"
      ]
    },
    {
      "cell_type": "code",
      "execution_count": 440,
      "metadata": {
        "colab": {
          "base_uri": "https://localhost:8080/",
          "height": 125
        },
        "id": "7z7h6PdCYgwo",
        "outputId": "d8ee183c-a9b2-4f6b-cd73-893a195dfcbf"
      },
      "outputs": [
        {
          "data": {
            "text/html": [
              "<div>\n",
              "<style scoped>\n",
              "    .dataframe tbody tr th:only-of-type {\n",
              "        vertical-align: middle;\n",
              "    }\n",
              "\n",
              "    .dataframe tbody tr th {\n",
              "        vertical-align: top;\n",
              "    }\n",
              "\n",
              "    .dataframe thead th {\n",
              "        text-align: right;\n",
              "    }\n",
              "</style>\n",
              "<table border=\"1\" class=\"dataframe\">\n",
              "  <thead>\n",
              "    <tr style=\"text-align: right;\">\n",
              "      <th></th>\n",
              "      <th>Exit-location</th>\n",
              "      <th>Exit-angle</th>\n",
              "    </tr>\n",
              "  </thead>\n",
              "  <tbody>\n",
              "    <tr>\n",
              "      <th>0</th>\n",
              "      <td>1750.00</td>\n",
              "      <td>30</td>\n",
              "    </tr>\n",
              "    <tr>\n",
              "      <th>1</th>\n",
              "      <td>2086.35</td>\n",
              "      <td>30</td>\n",
              "    </tr>\n",
              "  </tbody>\n",
              "</table>\n",
              "</div>"
            ],
            "text/plain": [
              "   Exit-location  Exit-angle\n",
              "0        1750.00          30\n",
              "1        2086.35          30"
            ]
          },
          "execution_count": 440,
          "metadata": {},
          "output_type": "execute_result"
        }
      ],
      "source": [
        "runway_df"
      ]
    },
    {
      "cell_type": "code",
      "execution_count": 441,
      "metadata": {
        "colab": {
          "base_uri": "https://localhost:8080/"
        },
        "id": "5-LWJAVdYgwo",
        "outputId": "706879e7-09ff-4097-8e6c-47b85d601e3f"
      },
      "outputs": [
        {
          "name": "stdout",
          "output_type": "stream",
          "text": [
            "Kích thước mảng: (3399, 2, 8)\n",
            "[[[1750.     30.    147.   ...    0.     -3.      7.  ]\n",
            "  [2086.35   30.    147.   ...    0.     -3.      7.  ]]\n",
            "\n",
            " [[1750.     30.    134.   ...    0.     -4.      8.  ]\n",
            "  [2086.35   30.    134.   ...    0.     -4.      8.  ]]\n",
            "\n",
            " [[1750.     30.    150.   ...    0.      3.      8.  ]\n",
            "  [2086.35   30.    150.   ...    0.      3.      8.  ]]\n",
            "\n",
            " ...\n",
            "\n",
            " [[1750.     30.    146.   ...    0.      4.      8.  ]\n",
            "  [2086.35   30.    146.   ...    0.      4.      8.  ]]\n",
            "\n",
            " [[1750.     30.    160.   ...    0.     -3.      6.  ]\n",
            "  [2086.35   30.    160.   ...    0.     -3.      6.  ]]\n",
            "\n",
            " [[1750.     30.    141.   ...    0.      5.      9.  ]\n",
            "  [2086.35   30.    141.   ...    0.      5.      9.  ]]]\n"
          ]
        }
      ],
      "source": [
        "aircraft_df.reset_index(drop=True,inplace=True)\n",
        "runway_df.reset_index(drop=True,inplace=True)\n",
        "# Số đặc trưng\n",
        "n = runway_df.shape[1]\n",
        "m = aircraft_df.shape[1]\n",
        "\n",
        "# Khởi tạo mảng 3 chiều\n",
        "array_3d = np.zeros((len(aircraft_df), len(runway_df), n + m))\n",
        "\n",
        "# Điền giá trị vào mảng\n",
        "for i, plane in aircraft_df.iterrows():\n",
        "    for j, runway in runway_df.iterrows():\n",
        "\n",
        "        plane_features = plane[:].values\n",
        "        # Lấy đặc trưng runway\n",
        "        runway_features = runway[:].values\n",
        "        # Ghép đặc trưng\n",
        "        combined_features = np.concatenate((runway_features, plane_features))\n",
        "        # Điền vào mảng\n",
        "        array_3d[i, j, :] = combined_features\n",
        "\n",
        "# Kết quả\n",
        "print(\"Kích thước mảng:\", array_3d.shape)\n",
        "print(array_3d)"
      ]
    },
    {
      "cell_type": "markdown",
      "metadata": {
        "id": "nPg-tnA6yzQA"
      },
      "source": [
        "##### evaluate for a landing aircraft"
      ]
    },
    {
      "cell_type": "code",
      "execution_count": 442,
      "metadata": {
        "colab": {
          "base_uri": "https://localhost:8080/",
          "height": 398
        },
        "id": "0IsFxpXz74-b",
        "outputId": "1aa2007e-df49-4c87-c26c-539142b4157b"
      },
      "outputs": [
        {
          "data": {
            "text/plain": [
              "Exit-location     1750.0\n",
              "Aircraft-type     Medium\n",
              "Final-approach       151\n",
              "Exit-angle            30\n",
              "Temperature           27\n",
              "Time                 Day\n",
              "Windspeed              3\n",
              "Visibility           8.0\n",
              "ROT                 44.0\n",
              "Exit-label             A\n",
              "Name: 22, dtype: object"
            ]
          },
          "execution_count": 442,
          "metadata": {},
          "output_type": "execute_result"
        }
      ],
      "source": [
        "idx_random=np.random.randint(0,len(df))\n",
        "df_original.loc[idx_random]"
      ]
    },
    {
      "cell_type": "code",
      "execution_count": 443,
      "metadata": {
        "colab": {
          "base_uri": "https://localhost:8080/"
        },
        "id": "wQJ-NuSdzIdO",
        "outputId": "9d205f41-dd8b-43fc-d704-80e03c3e7aa3"
      },
      "outputs": [],
      "source": [
        "X_sample = array_3d[idx_random]\n",
        "\n",
        "X_normalized_pro = scaler_pro.transform(X_sample)\n",
        "X_normalized_rot = scaler_rot.transform(X_sample)\n",
        "\n",
        "X_normalized_pro = torch.tensor(X_normalized_pro,dtype=torch.float32)\n",
        "X_normalized_pro=X_normalized_pro.to(device)\n",
        "\n",
        "X_normalized_rot = torch.tensor(X_normalized_rot,dtype=torch.float32)\n",
        "X_normalized_rot=X_normalized_rot.to(device)\n",
        "\n",
        "means,variances=predict_ensemble(models,X_normalized_rot)\n",
        "variances_err=model_err(X_normalized_rot).squeeze()\n",
        "variances_err=variances_err.cpu().detach().numpy()\n",
        "\n",
        "\n",
        "X_normalized_pro=X_normalized_pro.unsqueeze(0)\n",
        "_,probabilities = model_pro(X_normalized_pro)\n",
        "probabilities=probabilities.cpu().detach().numpy()\n",
        "means=means.squeeze()"
      ]
    },
    {
      "cell_type": "code",
      "execution_count": 444,
      "metadata": {
        "colab": {
          "base_uri": "https://localhost:8080/"
        },
        "id": "b29HU_bE9vTl",
        "outputId": "407e8924-1625-4268-81b2-53c3023dc026"
      },
      "outputs": [
        {
          "name": "stdout",
          "output_type": "stream",
          "text": [
            "Probability of random landing aircraft:  [[0.8867108  0.11328918]]\n",
            "Mean ROT of random landing aircraft:  [52.208992 58.332714]\n",
            "Variance ROT of random landing aircraft:  [[0.37602276]\n",
            " [0.95403135]]\n",
            "Error variance of random landing aircraft:  [30.474129 27.39125 ]\n"
          ]
        }
      ],
      "source": [
        "print(\"Probability of random landing aircraft: \",probabilities)\n",
        "print(\"Mean ROT of random landing aircraft: \",means)\n",
        "print(\"Variance ROT of random landing aircraft: \",variances)\n",
        "print(\"Error variance of random landing aircraft: \",variances_err)"
      ]
    },
    {
      "cell_type": "markdown",
      "metadata": {
        "id": "cPA1Ym9ozJwu"
      },
      "source": [
        "##### evaluate for Runway"
      ]
    },
    {
      "cell_type": "code",
      "execution_count": 445,
      "metadata": {
        "colab": {
          "base_uri": "https://localhost:8080/"
        },
        "id": "iK6VUYGHZCgs",
        "outputId": "25685e37-818f-479b-a92c-e5c987d68262"
      },
      "outputs": [],
      "source": [
        "N,seq_len,M=array_3d.shape\n",
        "\n",
        "data_reshaped = array_3d.reshape(-1, M)  # Chuyển thành mảng 2D (N*3, M)\n",
        "\n",
        "data_normalized_pro=scaler_pro.transform(data_reshaped)\n",
        "data_normalized_rot = scaler_rot.transform(data_reshaped)\n",
        "\n",
        "# Chuyển đổi lại thành mảng 3D Nx3xM\n",
        "data_normalized_3d_pro = data_normalized_pro.reshape(N, seq_len, M)\n",
        "data_normalized_3d_rot = data_normalized_rot.reshape(N, seq_len, M)"
      ]
    },
    {
      "cell_type": "code",
      "execution_count": 446,
      "metadata": {
        "id": "I7mf6BSdYll8"
      },
      "outputs": [],
      "source": [
        "import torch\n",
        "import torch.nn as nn\n",
        "import torch.optim as optim\n",
        "from torch.utils.data import DataLoader, TensorDataset\n",
        "\n",
        "X_tensor_pro = torch.tensor(data_normalized_3d_pro,dtype=torch.float32)\n",
        "X_tensor_pro=X_tensor_pro.to(device)\n",
        "X_tensor_rot = torch.tensor(data_normalized_3d_rot,dtype=torch.float32)\n",
        "X_tensor_rot=X_tensor_rot.to(device)\n",
        "y_tensor_exit = torch.tensor(df['Exit-label'], dtype=torch.long)  # Cần dtype=torch.long cho CrossEntropyLoss\n",
        "y_tensor_rot = torch.tensor(df['ROT'], dtype=torch.float32)"
      ]
    },
    {
      "cell_type": "code",
      "execution_count": 447,
      "metadata": {
        "colab": {
          "base_uri": "https://localhost:8080/"
        },
        "id": "k00zGHbO0JA7",
        "outputId": "53ffeb98-928b-4c10-80e6-15a925ce1666"
      },
      "outputs": [
        {
          "data": {
            "text/plain": [
              "(3399, 2, 8)"
            ]
          },
          "execution_count": 447,
          "metadata": {},
          "output_type": "execute_result"
        }
      ],
      "source": [
        "array_3d.shape"
      ]
    },
    {
      "cell_type": "code",
      "execution_count": 448,
      "metadata": {
        "colab": {
          "base_uri": "https://localhost:8080/"
        },
        "id": "OCleQliiiv5d",
        "outputId": "1c6b6881-01bc-4125-a85f-db44bd9c439a"
      },
      "outputs": [
        {
          "name": "stdout",
          "output_type": "stream",
          "text": [
            "(3399, 2)\n",
            "(3399, 2)\n",
            "(3399, 2)\n"
          ]
        }
      ],
      "source": [
        "means,variances=predict_ensemble(models,X_tensor_rot)\n",
        "variances_err=model_err(X_tensor_rot).squeeze()\n",
        "variances_err=variances_err.cpu().detach().numpy()\n",
        "variances=variances.squeeze()\n",
        "variances = variances + variances_err\n",
        "_,probabilities = model_pro(X_tensor_pro)\n",
        "probabilities=probabilities.cpu().detach().numpy()\n",
        "means=means.squeeze()\n",
        "print(probabilities.shape)\n",
        "print(variances.shape)\n",
        "print(means.shape)"
      ]
    },
    {
      "cell_type": "code",
      "execution_count": 449,
      "metadata": {
        "colab": {
          "base_uri": "https://localhost:8080/"
        },
        "id": "E_U1Bq4Jtnsd",
        "outputId": "357bc637-ea12-4b60-ea82-7a85057ba7c7"
      },
      "outputs": [
        {
          "data": {
            "text/plain": [
              "(3399, 2)"
            ]
          },
          "execution_count": 449,
          "metadata": {},
          "output_type": "execute_result"
        }
      ],
      "source": [
        "k=variances.squeeze()\n",
        "k.shape"
      ]
    },
    {
      "cell_type": "code",
      "execution_count": 450,
      "metadata": {
        "colab": {
          "base_uri": "https://localhost:8080/"
        },
        "id": "NumqMNw7X0XE",
        "outputId": "5aaf0547-9174-4752-db98-0deb5f4061c4"
      },
      "outputs": [
        {
          "name": "stdout",
          "output_type": "stream",
          "text": [
            "(3399, 2)\n",
            "(3399, 2)\n",
            "(3399, 2)\n"
          ]
        }
      ],
      "source": [
        "print(probabilities.shape)\n",
        "print(variances.shape)\n",
        "print(means.shape)"
      ]
    },
    {
      "cell_type": "code",
      "execution_count": 451,
      "metadata": {
        "id": "vo_haOlxf2Ha"
      },
      "outputs": [],
      "source": [
        "mean_ROT = torch.mean(y_tensor_rot).detach().numpy()\n",
        "std_ROT = torch.std(y_tensor_rot).detach().numpy()"
      ]
    },
    {
      "cell_type": "code",
      "execution_count": 452,
      "metadata": {
        "colab": {
          "base_uri": "https://localhost:8080/"
        },
        "id": "ln97YA21Smy3",
        "outputId": "ecdc4e5a-a593-43b9-85e3-ff0aae790a3e"
      },
      "outputs": [
        {
          "name": "stdout",
          "output_type": "stream",
          "text": [
            "Overall Mean: 57.259193420410156\n",
            "Overall Variance: 6.354362964630127\n",
            "KL Divergence: 0.016227032503347602\n"
          ]
        }
      ],
      "source": [
        "import numpy as np\n",
        "from scipy.stats import norm\n",
        "from scipy.integrate import quad\n",
        "import builtins\n",
        "\n",
        "def overall_distribution(mean, var, prob):\n",
        "    \"\"\"\n",
        "    Tính mean và var tổng thể của ROT cho toàn bộ sân bay.\n",
        "\n",
        "    Args:\n",
        "        mean: numpy array kích thước (N, 3)\n",
        "        var:  numpy array kích thước (N, 3)\n",
        "        prob: numpy array kích thước (N, 3)\n",
        "\n",
        "    Returns:\n",
        "        overall_mean: float, mean tổng thể\n",
        "        overall_var: float, var tổng thể\n",
        "    \"\"\"\n",
        "    N = mean.shape[0]  # số lượng máy bay\n",
        "    # Vì mỗi hàng prob có tổng = 1 nên tổng các trọng số trên toàn bộ dữ liệu là N.\n",
        "    overall_mean = np.sum(prob * mean) / N\n",
        "    overall_second_moment = np.sum(prob * (var + mean**2)) / N\n",
        "    overall_var = overall_second_moment - overall_mean**2\n",
        "    return overall_mean, np.sqrt(overall_var)\n",
        "\n",
        "def P_norm(x, mean, std):\n",
        "    \"\"\"Calculates the probability density for real ROT.\"\"\"\n",
        "    return norm.pdf(x, loc=mean, scale=std)\n",
        "\n",
        "def kl_divergence_continuous(p_func, y_rot,mean_real,std_real,mean_pred,std_pred):\n",
        "    \"\"\"\n",
        "    Tính KL Divergence giữa hai hàm phân phối P(x) và Q(x) sử dụng numpy.\n",
        "\n",
        "    Args:\n",
        "        p_func (function): Hàm phân phối thực P(x).\n",
        "        q_func (function): Hàm phân phối dự đoán Q(x).\n",
        "        x_range (tuple): Miền giá trị của x, ví dụ: (a, b).\n",
        "        num_samples (int): Số mẫu để lấy x trong khoảng [a, b].\n",
        "\n",
        "    Returns:\n",
        "        float: Giá trị KL Divergence.\n",
        "    \"\"\"\n",
        "    # Lấy mẫu x đều trong khoảng x_range\n",
        "\n",
        "\n",
        "    # Tính giá trị P(x) và Q(x)\n",
        "    p = p_func(y_rot,mean_real,std_real)\n",
        "    q = p_func(y_rot,mean_pred,std_pred)\n",
        "\n",
        "    # Đảm bảo P(x) và Q(x) là xác suất hợp lệ (tổng tích phân ~ 1)\n",
        "    p = p / np.sum(p)\n",
        "    q = q / np.sum(q)\n",
        "\n",
        "    # Thêm epsilon để tránh log(0) hoặc chia cho 0\n",
        "    epsilon = 1e-10\n",
        "    p = p + epsilon\n",
        "    q = q + epsilon\n",
        "\n",
        "    # Tính KL Divergence: sum(P(x) * log(P(x) / Q(x)))\n",
        "    kl = np.sum(p * np.log(p / q))\n",
        "    return kl\n",
        "overall_mean, overall_std = overall_distribution(means, variances, probabilities)\n",
        "print(f\"Overall Mean: {overall_mean}\")\n",
        "print(f\"Overall Variance: {overall_std}\")\n",
        "kl_value=kl_divergence_continuous(P_norm, df['ROT'],mean_ROT, std_ROT,overall_mean,overall_std)\n",
        "print(f\"KL Divergence: {kl_value}\")"
      ]
    },
    {
      "cell_type": "code",
      "execution_count": 453,
      "metadata": {
        "colab": {
          "base_uri": "https://localhost:8080/",
          "height": 472
        },
        "id": "_hdNruZ7UuK-",
        "outputId": "5ab8f64c-cd77-4341-e748-43954609ddcb"
      },
      "outputs": [
        {
          "data": {
            "image/png": "[encoded data removed]",
            "text/plain": [
              "<Figure size 640x480 with 1 Axes>"
            ]
          },
          "metadata": {},
          "output_type": "display_data"
        }
      ],
      "source": [
        "def plot_two_distributions(p_func,mean_real,std_real,mean_pred,std_pred,x_range, num_points=1000):\n",
        "    \"\"\"\n",
        "    Vẽ hai đường phân phối P(x) và Q(x).\n",
        "\n",
        "    Args:\n",
        "        p_func (function): Hàm phân phối P(x).\n",
        "        q_func (function): Hàm phân phối Q(x).\n",
        "        x_range (tuple): Miền giá trị x để vẽ các đường phân phối.\n",
        "        num_points (int): Số điểm để tính giá trị của P(x) và Q(x).\n",
        "    \"\"\"\n",
        "    # Tạo miền giá trị x\n",
        "    x = np.linspace(x_range[0], x_range[1], num_points)\n",
        "\n",
        "\n",
        "    # Tính giá trị của P(x) và Q(x)\n",
        "    p_values = p_func(x,mean_real,std_real)\n",
        "    q_values = p_func(x,mean_pred,std_pred)\n",
        "\n",
        "    # Đảm bảo P(x) và Q(x) là xác suất hợp lệ (tổng tích phân ~ 1)\n",
        "    p_values = p_values / np.sum(p_values)\n",
        "    q_values = q_values / np.sum(q_values)\n",
        "\n",
        "    # Vẽ đường phân phối P(x)\n",
        "    plt.plot(x, p_values, label=\"P(x) - Real Distribution\", color=\"blue\", linewidth=2)\n",
        "\n",
        "    # Vẽ đường phân phối Q(x)\n",
        "    plt.plot(x, q_values, label=\"Q(x) - Predicted Distribution\", color=\"red\", linestyle=\"--\", linewidth=2)\n",
        "\n",
        "    # Thêm nhãn và tiêu đề\n",
        "    plt.xlabel(\"x\")\n",
        "    plt.ylabel(\"Density\")\n",
        "    plt.title(\"Comparison of P(x) and Q(x)\")\n",
        "    plt.legend()\n",
        "    plt.grid(True)\n",
        "    plt.show()\n",
        "x_range=[20,80]\n",
        "plot_two_distributions(P_norm,mean_ROT, std_ROT,overall_mean,overall_std,x_range, num_points=1000)\n"
      ]
    },
    {
      "cell_type": "code",
      "execution_count": 454,
      "metadata": {
        "colab": {
          "base_uri": "https://localhost:8080/",
          "height": 472
        },
        "id": "WCVxMItnaf5-",
        "outputId": "6585fd51-b997-498c-f1a4-cafd3a944e1b"
      },
      "outputs": [
        {
          "data": {
            "image/png": "[encoded data removed]",
            "text/plain": [
              "<Figure size 640x480 with 1 Axes>"
            ]
          },
          "metadata": {},
          "output_type": "display_data"
        }
      ],
      "source": [
        "def plot_distribution(y_rot, f_func, x_range,mean_pred,std_pred, num_points=1000, bins=30):\n",
        "    \"\"\"\n",
        "    Vẽ phân phối thực tế từ mẫu y_rot và đường phân phối dự đoán từ f(x).\n",
        "\n",
        "    Args:\n",
        "        y_rot (array-like): Mẫu thực tế.\n",
        "        f_func (function): Hàm phân phối dự đoán f(x).\n",
        "        x_range (tuple): Miền giá trị x để vẽ đường dự đoán.\n",
        "        num_points (int): Số điểm để tính giá trị của f(x).\n",
        "        bins (int): Số lượng bins trong histogram.\n",
        "    \"\"\"\n",
        "    # tạo miền giá trị x\n",
        "    x = np.linspace(x_range[0], x_range[1], num_points)\n",
        "    # Tính giá trị của hàm phân phối dự đoán f(x)\n",
        "    f_values = f_func(x,mean_pred,std_pred)\n",
        "    f_values /= (np.sum(f_values) * np.diff(x[:2]))\n",
        "\n",
        "    # Vẽ histogram của y_rot (mẫu thực tế)\n",
        "    plt.hist(y_rot, bins=bins, density=True, alpha=0.5, label=\"Real Samples (y_rot)\")\n",
        "\n",
        "    # Vẽ đường phân phối dự đoán f(x)\n",
        "    plt.plot(x, f_values, label=\"Predicted Distribution (f(x))\", color=\"red\", linewidth=2)\n",
        "\n",
        "    # Thêm nhãn và tiêu đề\n",
        "    plt.xlabel(\"x\")\n",
        "    plt.ylabel(\"Density\")\n",
        "    plt.title(\"Real vs Predicted Distribution\")\n",
        "    plt.legend()\n",
        "    plt.grid(True)\n",
        "    plt.show()\n",
        "\n",
        "x_range=[30,80]\n",
        "plot_distribution(df['ROT'], P_norm, x_range,overall_mean,overall_std, num_points=1000, bins=30)"
      ]
    },
    {
      "cell_type": "markdown",
      "metadata": {
        "id": "D8ETeKjMPRq1"
      },
      "source": [
        "### RECOMMENDATION"
      ]
    },
    {
      "cell_type": "markdown",
      "metadata": {
        "id": "ikoGiJ9lcUbD"
      },
      "source": [
        "#### Data Preparing"
      ]
    },
    {
      "cell_type": "code",
      "execution_count": 455,
      "metadata": {
        "id": "zk5XVwq0NIgD"
      },
      "outputs": [],
      "source": [
        "def aggregate_rot_statistics(mean, var, prob):\n",
        "    \"\"\"\n",
        "    Tính mean và var tổng hợp của ROT cho từng lối thoát.\n",
        "\n",
        "    Args:\n",
        "        mean: numpy array kích thước (N, 3), chứa mean ROT của N máy bay cho 3 lối thoát.\n",
        "        var:  numpy array kích thước (N, 3), chứa phương sai ROT của N máy bay cho 3 lối thoát.\n",
        "        prob: numpy array kích thước (N, 3), chứa xác suất sử dụng 3 lối thoát của N máy bay.\n",
        "\n",
        "    Returns:\n",
        "        aggregated_mean: numpy array kích thước (3,), mean tổng hợp cho từng lối thoát.\n",
        "        aggregated_var:  numpy array kích thước (3,), var tổng hợp cho từng lối thoát.\n",
        "    \"\"\"\n",
        "    num_exits = mean.shape[1]\n",
        "\n",
        "    aggregated_mean = np.zeros(num_exits)\n",
        "    aggregated_var = np.zeros(num_exits)\n",
        "\n",
        "    for j in range(num_exits):\n",
        "        # Lấy trọng số (xác suất) cho lối thoát j của tất cả máy bay\n",
        "        weights = prob[:, j]\n",
        "        total_weight = np.sum(weights)\n",
        "\n",
        "        # Tính mean tổng hợp cho lối thoát j (trung bình trọng số)\n",
        "        mu_j = np.sum(weights * mean[:, j]) / total_weight\n",
        "        aggregated_mean[j] = mu_j\n",
        "\n",
        "        # Tính second moment của hỗn hợp:\n",
        "        second_moment = np.sum(weights * (var[:, j] + mean[:, j]**2)) / total_weight\n",
        "\n",
        "        # Phương sai tổng hợp: E[X^2] - (E[X])^2\n",
        "        aggregated_var[j] = second_moment - mu_j**2\n",
        "\n",
        "    return aggregated_mean, aggregated_var"
      ]
    },
    {
      "cell_type": "code",
      "execution_count": 456,
      "metadata": {
        "colab": {
          "base_uri": "https://localhost:8080/"
        },
        "id": "6s_aEPCHNaMD",
        "outputId": "70b011c3-ebac-443d-93ac-bb61bf06f103"
      },
      "outputs": [
        {
          "name": "stdout",
          "output_type": "stream",
          "text": [
            "Exit Mean: [55.12718964 59.33992004]\n",
            "Exit Std: [6.06092924 5.93034108]\n"
          ]
        }
      ],
      "source": [
        "exit_mean, exit_var = aggregate_rot_statistics(means, variances, probabilities)\n",
        "print(f\"Exit Mean: {exit_mean}\")\n",
        "print(f\"Exit Std: {np.sqrt(exit_var)}\")"
      ]
    },
    {
      "cell_type": "code",
      "execution_count": 457,
      "metadata": {
        "colab": {
          "base_uri": "https://localhost:8080/"
        },
        "id": "GqC3nzy2IlJg",
        "outputId": "01a93704-eb5d-4e74-d72d-c9a9da2a714a"
      },
      "outputs": [
        {
          "name": "stdout",
          "output_type": "stream",
          "text": [
            "Predicted:\n",
            "Exit use:  [0.49391323 0.5060867 ]\n",
            "ROT Means:  [55.12718964 59.33992004]\n"
          ]
        }
      ],
      "source": [
        "print(\"Predicted:\")\n",
        "print(\"Exit use: \",np.mean(probabilities,axis=0).T)\n",
        "print(\"ROT Means: \",exit_mean)"
      ]
    },
    {
      "cell_type": "code",
      "execution_count": 458,
      "metadata": {
        "colab": {
          "base_uri": "https://localhost:8080/"
        },
        "id": "Gwohme_xhwZ8",
        "outputId": "01c4ff8d-e537-45ab-deb8-d04a11c4b90e"
      },
      "outputs": [
        {
          "name": "stdout",
          "output_type": "stream",
          "text": [
            "Range of Values: [array([54.80491559, 59.02458969]), array([55.44946368, 59.6552504 ])]\n"
          ]
        }
      ],
      "source": [
        "# Gỉa sử các phân phối của từng lối thoát là phân phối chuẩn\n",
        "# Lấy khoảng tin cậy là 99,5% thì alpha= 2.575\n",
        "alpha = 3.1\n",
        "n = len(df)\n",
        "range_lower = exit_mean - alpha * np.sqrt(exit_var/n)\n",
        "range_upper = exit_mean + alpha * np.sqrt(exit_var/n)\n",
        "range_value= [range_lower,range_upper]\n",
        "print(f\"Range of Values: {range_value}\")"
      ]
    },
    {
      "cell_type": "code",
      "execution_count": 459,
      "metadata": {
        "colab": {
          "base_uri": "https://localhost:8080/"
        },
        "id": "-AeQnuLUi-k2",
        "outputId": "befa8dd3-0667-4273-e196-5520835f6f87"
      },
      "outputs": [
        {
          "name": "stderr",
          "output_type": "stream",
          "text": [
            "C:\\Users\\ADMIN\\AppData\\Local\\Temp\\ipykernel_20488\\943946870.py:5: SettingWithCopyWarning: \n",
            "A value is trying to be set on a copy of a slice from a DataFrame.\n",
            "Try using .loc[row_indexer,col_indexer] = value instead\n",
            "\n",
            "See the caveats in the documentation: https://pandas.pydata.org/pandas-docs/stable/user_guide/indexing.html#returning-a-view-versus-a-copy\n",
            "  df_B['Exit-label']=2\n",
            "C:\\Users\\ADMIN\\AppData\\Local\\Temp\\ipykernel_20488\\943946870.py:11: SettingWithCopyWarning: \n",
            "A value is trying to be set on a copy of a slice from a DataFrame\n",
            "\n",
            "See the caveats in the documentation: https://pandas.pydata.org/pandas-docs/stable/user_guide/indexing.html#returning-a-view-versus-a-copy\n",
            "  df_B.drop(out_B.index,inplace=True)\n"
          ]
        }
      ],
      "source": [
        "# tạo dataframe riêng cho từng lối thoát\n",
        "df_A=df[df['Exit-label']==0]\n",
        "df_B=df[df['Exit-label']==1]\n",
        "\n",
        "df_B['Exit-label']=2\n",
        "\n",
        "# Lọc ra những mẫu có ROT lớn hơn range_value ở B, xóa những dòng đó\n",
        "out_B=df_B[(df_B['ROT']>range_value[1][1])]\n",
        "# Xóa những giá trị đó có trong df\n",
        "#df_A.drop(out_A.index,inplace=True)\n",
        "df_B.drop(out_B.index,inplace=True)\n",
        "df_A.reset_index(drop=True,inplace=True)\n",
        "df_B.reset_index(drop=True,inplace=True)"
      ]
    },
    {
      "cell_type": "code",
      "execution_count": 460,
      "metadata": {
        "colab": {
          "base_uri": "https://localhost:8080/"
        },
        "id": "ovGXtr6W1fJj",
        "outputId": "35ae31ef-199f-4ffe-c818-2583abe09665"
      },
      "outputs": [
        {
          "data": {
            "text/plain": [
              "1192"
            ]
          },
          "execution_count": 460,
          "metadata": {},
          "output_type": "execute_result"
        }
      ],
      "source": [
        "len(out_B) "
      ]
    },
    {
      "cell_type": "code",
      "execution_count": 461,
      "metadata": {
        "colab": {
          "base_uri": "https://localhost:8080/"
        },
        "id": "Jg0IWChdVJNq",
        "outputId": "23ee14a4-a9b0-4efe-d197-7b152b79868e"
      },
      "outputs": [
        {
          "name": "stderr",
          "output_type": "stream",
          "text": [
            "C:\\Users\\ADMIN\\AppData\\Local\\Temp\\ipykernel_20488\\3545154655.py:3: SettingWithCopyWarning: \n",
            "A value is trying to be set on a copy of a slice from a DataFrame.\n",
            "Try using .loc[row_indexer,col_indexer] = value instead\n",
            "\n",
            "See the caveats in the documentation: https://pandas.pydata.org/pandas-docs/stable/user_guide/indexing.html#returning-a-view-versus-a-copy\n",
            "  new_df['Exit-angle']=30\n",
            "C:\\Users\\ADMIN\\AppData\\Local\\Temp\\ipykernel_20488\\3545154655.py:4: SettingWithCopyWarning: \n",
            "A value is trying to be set on a copy of a slice from a DataFrame.\n",
            "Try using .loc[row_indexer,col_indexer] = value instead\n",
            "\n",
            "See the caveats in the documentation: https://pandas.pydata.org/pandas-docs/stable/user_guide/indexing.html#returning-a-view-versus-a-copy\n",
            "  new_df['Exit-location']=1950    # thay số vd: 1800, 1850, 1900, 1950, 2000\n",
            "C:\\Users\\ADMIN\\AppData\\Local\\Temp\\ipykernel_20488\\3545154655.py:5: SettingWithCopyWarning: \n",
            "A value is trying to be set on a copy of a slice from a DataFrame.\n",
            "Try using .loc[row_indexer,col_indexer] = value instead\n",
            "\n",
            "See the caveats in the documentation: https://pandas.pydata.org/pandas-docs/stable/user_guide/indexing.html#returning-a-view-versus-a-copy\n",
            "  new_df['Exit-label']=1\n"
          ]
        }
      ],
      "source": [
        "#new_df=pd.concat([out_A,out_B])\n",
        "new_df=out_B\n",
        "new_df['Exit-angle']=30\n",
        "new_df['Exit-location']=1950    # thay số vd: 1800, 1850, 1900, 1950, 2000\n",
        "new_df['Exit-label']=1\n",
        "new_df.reset_index(drop=True,inplace=True)"
      ]
    },
    {
      "cell_type": "code",
      "execution_count": 462,
      "metadata": {
        "id": "SQX6wCRHWizr"
      },
      "outputs": [],
      "source": [
        "new_df=pd.concat([df_A,df_B,new_df])\n",
        "new_df.reset_index(drop=True,inplace=True)"
      ]
    },
    {
      "cell_type": "code",
      "execution_count": 463,
      "metadata": {
        "colab": {
          "base_uri": "https://localhost:8080/",
          "height": 210
        },
        "id": "mTwNpeMgWkx6",
        "outputId": "8a25f01b-0e42-4ef3-c39f-8e1f7bb1b7ad"
      },
      "outputs": [
        {
          "data": {
            "text/plain": [
              "Exit-label\n",
              "2    1335\n",
              "1    1192\n",
              "0     872\n",
              "Name: count, dtype: int64"
            ]
          },
          "execution_count": 463,
          "metadata": {},
          "output_type": "execute_result"
        }
      ],
      "source": [
        "new_df['Exit-label'].value_counts()"
      ]
    },
    {
      "cell_type": "markdown",
      "metadata": {
        "id": "-tgATfYsWy0x"
      },
      "source": [
        "#### RETRAIN RECURRENT NEURAL NETWORK for exit use"
      ]
    },
    {
      "cell_type": "code",
      "execution_count": 464,
      "metadata": {
        "id": "T0WuzHefWy0y"
      },
      "outputs": [],
      "source": [
        "# Tạo dữ liệu\n",
        "new_df = new_df.sample(frac=1).reset_index(drop=True)\n",
        "aircraft_features=['Final-approach','Aircraft-type','Temperature','Time','Windspeed','Visibility']\n",
        "runway_feautures=['Exit-location','Exit-angle']\n",
        "aircraft_df=new_df[aircraft_features]\n",
        "runway_df=new_df[runway_feautures]"
      ]
    },
    {
      "cell_type": "code",
      "execution_count": 465,
      "metadata": {
        "colab": {
          "base_uri": "https://localhost:8080/"
        },
        "id": "paU_yBzcWy0y",
        "outputId": "c0776490-9302-41e8-b591-1b279700a3d2"
      },
      "outputs": [
        {
          "name": "stderr",
          "output_type": "stream",
          "text": [
            "C:\\Users\\ADMIN\\AppData\\Local\\Temp\\ipykernel_20488\\3970589878.py:1: SettingWithCopyWarning: \n",
            "A value is trying to be set on a copy of a slice from a DataFrame\n",
            "\n",
            "See the caveats in the documentation: https://pandas.pydata.org/pandas-docs/stable/user_guide/indexing.html#returning-a-view-versus-a-copy\n",
            "  runway_df.drop_duplicates(inplace=True)\n",
            "C:\\Users\\ADMIN\\AppData\\Local\\Temp\\ipykernel_20488\\3970589878.py:3: SettingWithCopyWarning: \n",
            "A value is trying to be set on a copy of a slice from a DataFrame\n",
            "\n",
            "See the caveats in the documentation: https://pandas.pydata.org/pandas-docs/stable/user_guide/indexing.html#returning-a-view-versus-a-copy\n",
            "  runway_df.sort_values(by='Exit-location',inplace=True)\n"
          ]
        }
      ],
      "source": [
        "runway_df.drop_duplicates(inplace=True)\n",
        "# sắp xếp lại theo giá trị của exit location\n",
        "runway_df.sort_values(by='Exit-location',inplace=True)"
      ]
    },
    {
      "cell_type": "code",
      "execution_count": 466,
      "metadata": {
        "colab": {
          "base_uri": "https://localhost:8080/",
          "height": 143
        },
        "id": "IfgUEKVOWy0y",
        "outputId": "63460781-e226-480b-ad5f-c8c5450f010e"
      },
      "outputs": [
        {
          "data": {
            "text/html": [
              "<div>\n",
              "<style scoped>\n",
              "    .dataframe tbody tr th:only-of-type {\n",
              "        vertical-align: middle;\n",
              "    }\n",
              "\n",
              "    .dataframe tbody tr th {\n",
              "        vertical-align: top;\n",
              "    }\n",
              "\n",
              "    .dataframe thead th {\n",
              "        text-align: right;\n",
              "    }\n",
              "</style>\n",
              "<table border=\"1\" class=\"dataframe\">\n",
              "  <thead>\n",
              "    <tr style=\"text-align: right;\">\n",
              "      <th></th>\n",
              "      <th>Exit-location</th>\n",
              "      <th>Exit-angle</th>\n",
              "    </tr>\n",
              "  </thead>\n",
              "  <tbody>\n",
              "    <tr>\n",
              "      <th>1</th>\n",
              "      <td>1750.00</td>\n",
              "      <td>30</td>\n",
              "    </tr>\n",
              "    <tr>\n",
              "      <th>5</th>\n",
              "      <td>1950.00</td>\n",
              "      <td>30</td>\n",
              "    </tr>\n",
              "    <tr>\n",
              "      <th>0</th>\n",
              "      <td>2086.35</td>\n",
              "      <td>30</td>\n",
              "    </tr>\n",
              "  </tbody>\n",
              "</table>\n",
              "</div>"
            ],
            "text/plain": [
              "   Exit-location  Exit-angle\n",
              "1        1750.00          30\n",
              "5        1950.00          30\n",
              "0        2086.35          30"
            ]
          },
          "execution_count": 466,
          "metadata": {},
          "output_type": "execute_result"
        }
      ],
      "source": [
        "runway_df"
      ]
    },
    {
      "cell_type": "code",
      "execution_count": 467,
      "metadata": {
        "colab": {
          "base_uri": "https://localhost:8080/"
        },
        "id": "WA9JGFizWy0y",
        "outputId": "9e2b0a69-41ee-43f7-9ce6-1e586d20e75b"
      },
      "outputs": [
        {
          "name": "stdout",
          "output_type": "stream",
          "text": [
            "Kích thước mảng: (3399, 3, 8)\n",
            "[[[ 1.75000e+03  3.00000e+01  1.38000e+02 ...  0.00000e+00 -1.00000e+00\n",
            "    8.00000e+00]\n",
            "  [ 1.95000e+03  3.00000e+01  1.38000e+02 ...  0.00000e+00 -1.00000e+00\n",
            "    8.00000e+00]\n",
            "  [ 2.08635e+03  3.00000e+01  1.38000e+02 ...  0.00000e+00 -1.00000e+00\n",
            "    8.00000e+00]]\n",
            "\n",
            " [[ 1.75000e+03  3.00000e+01  1.35000e+02 ...  0.00000e+00 -3.00000e+00\n",
            "    6.00000e+00]\n",
            "  [ 1.95000e+03  3.00000e+01  1.35000e+02 ...  0.00000e+00 -3.00000e+00\n",
            "    6.00000e+00]\n",
            "  [ 2.08635e+03  3.00000e+01  1.35000e+02 ...  0.00000e+00 -3.00000e+00\n",
            "    6.00000e+00]]\n",
            "\n",
            " [[ 1.75000e+03  3.00000e+01  1.49000e+02 ...  0.00000e+00  7.00000e+00\n",
            "    7.00000e+00]\n",
            "  [ 1.95000e+03  3.00000e+01  1.49000e+02 ...  0.00000e+00  7.00000e+00\n",
            "    7.00000e+00]\n",
            "  [ 2.08635e+03  3.00000e+01  1.49000e+02 ...  0.00000e+00  7.00000e+00\n",
            "    7.00000e+00]]\n",
            "\n",
            " ...\n",
            "\n",
            " [[ 1.75000e+03  3.00000e+01  1.40000e+02 ...  0.00000e+00  0.00000e+00\n",
            "    6.00000e+00]\n",
            "  [ 1.95000e+03  3.00000e+01  1.40000e+02 ...  0.00000e+00  0.00000e+00\n",
            "    6.00000e+00]\n",
            "  [ 2.08635e+03  3.00000e+01  1.40000e+02 ...  0.00000e+00  0.00000e+00\n",
            "    6.00000e+00]]\n",
            "\n",
            " [[ 1.75000e+03  3.00000e+01  1.43000e+02 ...  0.00000e+00  3.00000e+00\n",
            "    5.00000e+00]\n",
            "  [ 1.95000e+03  3.00000e+01  1.43000e+02 ...  0.00000e+00  3.00000e+00\n",
            "    5.00000e+00]\n",
            "  [ 2.08635e+03  3.00000e+01  1.43000e+02 ...  0.00000e+00  3.00000e+00\n",
            "    5.00000e+00]]\n",
            "\n",
            " [[ 1.75000e+03  3.00000e+01  1.35000e+02 ...  0.00000e+00  2.00000e+00\n",
            "    1.00000e+01]\n",
            "  [ 1.95000e+03  3.00000e+01  1.35000e+02 ...  0.00000e+00  2.00000e+00\n",
            "    1.00000e+01]\n",
            "  [ 2.08635e+03  3.00000e+01  1.35000e+02 ...  0.00000e+00  2.00000e+00\n",
            "    1.00000e+01]]]\n"
          ]
        }
      ],
      "source": [
        "aircraft_df.reset_index(drop=True,inplace=True)\n",
        "runway_df.reset_index(drop=True,inplace=True)\n",
        "# Số đặc trưng\n",
        "n = runway_df.shape[1]\n",
        "m = aircraft_df.shape[1]\n",
        "\n",
        "# Khởi tạo mảng 3 chiều\n",
        "array_3d = np.zeros((len(aircraft_df), len(runway_df), n + m))\n",
        "\n",
        "# Điền giá trị vào mảng\n",
        "for i, plane in aircraft_df.iterrows():\n",
        "    for j, runway in runway_df.iterrows():\n",
        "\n",
        "        plane_features = plane[:].values\n",
        "        # Lấy đặc trưng runway\n",
        "        runway_features = runway[:].values\n",
        "        # Ghép đặc trưng\n",
        "        combined_features = np.concatenate((runway_features, plane_features))\n",
        "        # Điền vào mảng\n",
        "        array_3d[i, j, :] = combined_features\n",
        "\n",
        "# Kết quả\n",
        "print(\"Kích thước mảng:\", array_3d.shape)\n",
        "print(array_3d)"
      ]
    },
    {
      "cell_type": "code",
      "execution_count": 468,
      "metadata": {
        "id": "UnWSVHhcWy0z"
      },
      "outputs": [],
      "source": [
        "# chuẩn hóa dữ liệu\n",
        "from sklearn.preprocessing import StandardScaler\n",
        "N,seq_len,M=array_3d.shape\n",
        "data_reshaped = array_3d.reshape(-1, M)  # Chuyển thành mảng 2D (N*3, M)\n",
        "scaler_pro= StandardScaler()\n",
        "# Chuẩn hóa dữ liệu\n",
        "data_normalized = scaler_pro.fit_transform(data_reshaped)\n",
        "\n",
        "# Chuyển đổi lại thành mảng 3D Nx3xM\n",
        "data_normalized_3d = data_normalized.reshape(N, seq_len, M)\n"
      ]
    },
    {
      "cell_type": "code",
      "execution_count": 469,
      "metadata": {
        "id": "SYKy-9olWy0z"
      },
      "outputs": [],
      "source": [
        "import torch\n",
        "import torch.nn as nn\n",
        "import torch.optim as optim\n",
        "from torch.utils.data import DataLoader, TensorDataset\n",
        "\n",
        "\n",
        "num_samples = N  # Số lượng mẫu dữ liệu\n",
        "seq_len = data_normalized_3d.shape[1]  # Độ dài chuỗi\n",
        "input_dim = data_normalized_3d.shape[2]  # Số đặc trưng mỗi bước\n",
        "output_dim = data_normalized_3d.shape[1]  # Số lớp cần phân loại\n",
        "batch_size = 32  # Kích thước batch\n",
        "\n",
        "X_tensor = torch.tensor(data_normalized_3d,dtype=torch.float32)\n",
        "y_tensor = torch.tensor(new_df['Exit-label'].values, dtype=torch.long)  # Cần dtype=torch.long cho CrossEntropyLoss\n",
        "\n",
        "# Chia tập train/test\n",
        "train_size = int(0.8 * num_samples)\n",
        "X_train, X_test = X_tensor[:train_size], X_tensor[train_size:]\n",
        "y_train, y_test = y_tensor[:train_size], y_tensor[train_size:]\n",
        "\n",
        "# Tạo DataLoader\n",
        "train_dataset = TensorDataset(X_train, y_train)\n",
        "test_dataset = TensorDataset(X_test, y_test)\n",
        "\n",
        "class_counts = np.bincount(y_train.numpy())\n",
        "class_weights = 1.0 / class_counts\n",
        "weights = class_weights[y_train.numpy()]\n",
        "\n",
        "# Tạo sampler\n",
        "sampler = torch.utils.data.WeightedRandomSampler(weights, num_samples=len(weights), replacement=True)\n",
        "\n",
        "# Tạo DataLoader với sampler\n",
        "train_loader = DataLoader(train_dataset, batch_size=batch_size,sampler=sampler)\n",
        "\n",
        "test_loader = DataLoader(test_dataset, batch_size=batch_size, shuffle=False)"
      ]
    },
    {
      "cell_type": "code",
      "execution_count": 470,
      "metadata": {
        "colab": {
          "base_uri": "https://localhost:8080/"
        },
        "id": "d6AlTnLgCvaq",
        "outputId": "c29e6f38-9f64-4131-aa64-832e5d739367"
      },
      "outputs": [
        {
          "data": {
            "text/plain": [
              "(3399, 3, 8)"
            ]
          },
          "execution_count": 470,
          "metadata": {},
          "output_type": "execute_result"
        }
      ],
      "source": [
        "data_normalized_3d.shape"
      ]
    },
    {
      "cell_type": "code",
      "execution_count": 499,
      "metadata": {
        "colab": {
          "base_uri": "https://localhost:8080/",
          "height": 1000
        },
        "id": "bRlpivI3yMR1",
        "outputId": "5938073b-3b97-461e-f9ae-8993340a5eee"
      },
      "outputs": [
        {
          "name": "stdout",
          "output_type": "stream",
          "text": [
            "              precision    recall  f1-score   support\n",
            "\n",
            "           0       0.41      0.98      0.58       163\n",
            "           1       0.60      0.66      0.62       251\n",
            "           2       0.72      0.05      0.09       266\n",
            "\n",
            "    accuracy                           0.50       680\n",
            "   macro avg       0.58      0.56      0.43       680\n",
            "weighted avg       0.60      0.50      0.41       680\n",
            "\n",
            "Epoch [1/50], Loss: 1.0079\n",
            "              precision    recall  f1-score   support\n",
            "\n",
            "           0       0.52      0.91      0.66       163\n",
            "           1       0.67      0.63      0.65       251\n",
            "           2       0.67      0.39      0.49       266\n",
            "\n",
            "    accuracy                           0.60       680\n",
            "   macro avg       0.62      0.64      0.60       680\n",
            "weighted avg       0.63      0.60      0.59       680\n",
            "\n",
            "              precision    recall  f1-score   support\n",
            "\n",
            "           0       0.50      0.93      0.65       163\n",
            "           1       0.67      0.62      0.64       251\n",
            "           2       0.66      0.35      0.46       266\n",
            "\n",
            "    accuracy                           0.59       680\n",
            "   macro avg       0.61      0.63      0.58       680\n",
            "weighted avg       0.62      0.59      0.57       680\n",
            "\n",
            "              precision    recall  f1-score   support\n",
            "\n",
            "           0       0.51      0.93      0.66       163\n",
            "           1       0.63      0.67      0.65       251\n",
            "           2       0.71      0.31      0.43       266\n",
            "\n",
            "    accuracy                           0.59       680\n",
            "   macro avg       0.62      0.64      0.58       680\n",
            "weighted avg       0.63      0.59      0.57       680\n",
            "\n",
            "              precision    recall  f1-score   support\n",
            "\n",
            "           0       0.51      0.93      0.66       163\n",
            "           1       0.62      0.69      0.65       251\n",
            "           2       0.70      0.27      0.39       266\n",
            "\n",
            "    accuracy                           0.58       680\n",
            "   macro avg       0.61      0.63      0.57       680\n",
            "weighted avg       0.63      0.58      0.55       680\n",
            "\n",
            "              precision    recall  f1-score   support\n",
            "\n",
            "           0       0.52      0.94      0.67       163\n",
            "           1       0.65      0.60      0.62       251\n",
            "           2       0.64      0.38      0.48       266\n",
            "\n",
            "    accuracy                           0.59       680\n",
            "   macro avg       0.61      0.64      0.59       680\n",
            "weighted avg       0.62      0.59      0.58       680\n",
            "\n",
            "              precision    recall  f1-score   support\n",
            "\n",
            "           0       0.50      0.94      0.65       163\n",
            "           1       0.68      0.62      0.65       251\n",
            "           2       0.68      0.36      0.47       266\n",
            "\n",
            "    accuracy                           0.60       680\n",
            "   macro avg       0.62      0.64      0.59       680\n",
            "weighted avg       0.64      0.60      0.58       680\n",
            "\n",
            "              precision    recall  f1-score   support\n",
            "\n",
            "           0       0.54      0.93      0.68       163\n",
            "           1       0.64      0.69      0.67       251\n",
            "           2       0.70      0.34      0.46       266\n",
            "\n",
            "    accuracy                           0.61       680\n",
            "   macro avg       0.63      0.65      0.60       680\n",
            "weighted avg       0.64      0.61      0.59       680\n",
            "\n",
            "              precision    recall  f1-score   support\n",
            "\n",
            "           0       0.51      0.96      0.66       163\n",
            "           1       0.68      0.64      0.66       251\n",
            "           2       0.70      0.36      0.47       266\n",
            "\n",
            "    accuracy                           0.60       680\n",
            "   macro avg       0.63      0.65      0.60       680\n",
            "weighted avg       0.65      0.60      0.59       680\n",
            "\n",
            "              precision    recall  f1-score   support\n",
            "\n",
            "           0       0.51      0.94      0.66       163\n",
            "           1       0.66      0.64      0.65       251\n",
            "           2       0.70      0.35      0.47       266\n",
            "\n",
            "    accuracy                           0.60       680\n",
            "   macro avg       0.62      0.65      0.59       680\n",
            "weighted avg       0.64      0.60      0.58       680\n",
            "\n",
            "              precision    recall  f1-score   support\n",
            "\n",
            "           0       0.55      0.92      0.69       163\n",
            "           1       0.63      0.67      0.65       251\n",
            "           2       0.65      0.35      0.46       266\n",
            "\n",
            "    accuracy                           0.60       680\n",
            "   macro avg       0.61      0.65      0.60       680\n",
            "weighted avg       0.62      0.60      0.58       680\n",
            "\n",
            "Epoch [11/50], Loss: 0.7790\n",
            "              precision    recall  f1-score   support\n",
            "\n",
            "           0       0.51      0.95      0.66       163\n",
            "           1       0.66      0.63      0.65       251\n",
            "           2       0.68      0.34      0.46       266\n",
            "\n",
            "    accuracy                           0.60       680\n",
            "   macro avg       0.62      0.64      0.59       680\n",
            "weighted avg       0.63      0.60      0.58       680\n",
            "\n",
            "              precision    recall  f1-score   support\n",
            "\n",
            "           0       0.51      0.95      0.67       163\n",
            "           1       0.64      0.64      0.64       251\n",
            "           2       0.67      0.32      0.43       266\n",
            "\n",
            "    accuracy                           0.59       680\n",
            "   macro avg       0.61      0.64      0.58       680\n",
            "weighted avg       0.62      0.59      0.56       680\n",
            "\n",
            "              precision    recall  f1-score   support\n",
            "\n",
            "           0       0.53      0.93      0.68       163\n",
            "           1       0.65      0.65      0.65       251\n",
            "           2       0.66      0.35      0.46       266\n",
            "\n",
            "    accuracy                           0.60       680\n",
            "   macro avg       0.61      0.65      0.60       680\n",
            "weighted avg       0.63      0.60      0.58       680\n",
            "\n",
            "              precision    recall  f1-score   support\n",
            "\n",
            "           0       0.54      0.94      0.69       163\n",
            "           1       0.65      0.64      0.65       251\n",
            "           2       0.65      0.36      0.47       266\n",
            "\n",
            "    accuracy                           0.61       680\n",
            "   macro avg       0.61      0.65      0.60       680\n",
            "weighted avg       0.62      0.61      0.59       680\n",
            "\n",
            "              precision    recall  f1-score   support\n",
            "\n",
            "           0       0.51      0.96      0.67       163\n",
            "           1       0.66      0.61      0.63       251\n",
            "           2       0.66      0.35      0.45       266\n",
            "\n",
            "    accuracy                           0.59       680\n",
            "   macro avg       0.61      0.64      0.58       680\n",
            "weighted avg       0.62      0.59      0.57       680\n",
            "\n",
            "              precision    recall  f1-score   support\n",
            "\n",
            "           0       0.54      0.93      0.69       163\n",
            "           1       0.65      0.64      0.65       251\n",
            "           2       0.66      0.38      0.48       266\n",
            "\n",
            "    accuracy                           0.61       680\n",
            "   macro avg       0.62      0.65      0.60       680\n",
            "weighted avg       0.63      0.61      0.59       680\n",
            "\n",
            "              precision    recall  f1-score   support\n",
            "\n",
            "           0       0.51      0.94      0.67       163\n",
            "           1       0.66      0.57      0.61       251\n",
            "           2       0.62      0.38      0.47       266\n",
            "\n",
            "    accuracy                           0.59       680\n",
            "   macro avg       0.60      0.63      0.58       680\n",
            "weighted avg       0.61      0.59      0.57       680\n",
            "\n",
            "              precision    recall  f1-score   support\n",
            "\n",
            "           0       0.54      0.94      0.69       163\n",
            "           1       0.64      0.63      0.63       251\n",
            "           2       0.63      0.35      0.45       266\n",
            "\n",
            "    accuracy                           0.60       680\n",
            "   macro avg       0.60      0.64      0.59       680\n",
            "weighted avg       0.61      0.60      0.58       680\n",
            "\n",
            "              precision    recall  f1-score   support\n",
            "\n",
            "           0       0.55      0.94      0.69       163\n",
            "           1       0.65      0.62      0.64       251\n",
            "           2       0.64      0.38      0.48       266\n",
            "\n",
            "    accuracy                           0.60       680\n",
            "   macro avg       0.61      0.65      0.60       680\n",
            "weighted avg       0.62      0.60      0.59       680\n",
            "\n",
            "              precision    recall  f1-score   support\n",
            "\n",
            "           0       0.53      0.94      0.68       163\n",
            "           1       0.64      0.66      0.65       251\n",
            "           2       0.67      0.33      0.44       266\n",
            "\n",
            "    accuracy                           0.60       680\n",
            "   macro avg       0.61      0.64      0.59       680\n",
            "weighted avg       0.62      0.60      0.57       680\n",
            "\n",
            "Epoch [21/50], Loss: 0.7274\n",
            "              precision    recall  f1-score   support\n",
            "\n",
            "           0       0.54      0.93      0.69       163\n",
            "           1       0.65      0.60      0.63       251\n",
            "           2       0.64      0.41      0.50       266\n",
            "\n",
            "    accuracy                           0.60       680\n",
            "   macro avg       0.61      0.65      0.60       680\n",
            "weighted avg       0.62      0.60      0.59       680\n",
            "\n",
            "              precision    recall  f1-score   support\n",
            "\n",
            "           0       0.53      0.96      0.68       163\n",
            "           1       0.62      0.64      0.63       251\n",
            "           2       0.64      0.30      0.41       266\n",
            "\n",
            "    accuracy                           0.58       680\n",
            "   macro avg       0.60      0.63      0.57       680\n",
            "weighted avg       0.61      0.58      0.55       680\n",
            "\n",
            "              precision    recall  f1-score   support\n",
            "\n",
            "           0       0.54      0.94      0.69       163\n",
            "           1       0.67      0.59      0.63       251\n",
            "           2       0.63      0.42      0.51       266\n",
            "\n",
            "    accuracy                           0.61       680\n",
            "   macro avg       0.62      0.65      0.61       680\n",
            "weighted avg       0.62      0.61      0.59       680\n",
            "\n",
            "              precision    recall  f1-score   support\n",
            "\n",
            "           0       0.53      0.94      0.68       163\n",
            "           1       0.65      0.63      0.64       251\n",
            "           2       0.66      0.36      0.47       266\n",
            "\n",
            "    accuracy                           0.60       680\n",
            "   macro avg       0.61      0.65      0.60       680\n",
            "weighted avg       0.63      0.60      0.58       680\n",
            "\n",
            "              precision    recall  f1-score   support\n",
            "\n",
            "           0       0.53      0.93      0.68       163\n",
            "           1       0.67      0.57      0.62       251\n",
            "           2       0.63      0.44      0.52       266\n",
            "\n",
            "    accuracy                           0.60       680\n",
            "   macro avg       0.61      0.65      0.60       680\n",
            "weighted avg       0.62      0.60      0.59       680\n",
            "\n",
            "              precision    recall  f1-score   support\n",
            "\n",
            "           0       0.54      0.93      0.68       163\n",
            "           1       0.63      0.63      0.63       251\n",
            "           2       0.64      0.36      0.46       266\n",
            "\n",
            "    accuracy                           0.60       680\n",
            "   macro avg       0.60      0.64      0.59       680\n",
            "weighted avg       0.61      0.60      0.58       680\n",
            "\n",
            "              precision    recall  f1-score   support\n",
            "\n",
            "           0       0.54      0.93      0.68       163\n",
            "           1       0.64      0.62      0.63       251\n",
            "           2       0.65      0.38      0.48       266\n",
            "\n",
            "    accuracy                           0.60       680\n",
            "   macro avg       0.61      0.64      0.60       680\n",
            "weighted avg       0.62      0.60      0.58       680\n",
            "\n",
            "              precision    recall  f1-score   support\n",
            "\n",
            "           0       0.54      0.92      0.68       163\n",
            "           1       0.65      0.64      0.64       251\n",
            "           2       0.65      0.38      0.48       266\n",
            "\n",
            "    accuracy                           0.60       680\n",
            "   macro avg       0.61      0.65      0.60       680\n",
            "weighted avg       0.62      0.60      0.59       680\n",
            "\n",
            "              precision    recall  f1-score   support\n",
            "\n",
            "           0       0.54      0.93      0.68       163\n",
            "           1       0.63      0.65      0.64       251\n",
            "           2       0.64      0.35      0.45       266\n",
            "\n",
            "    accuracy                           0.60       680\n",
            "   macro avg       0.61      0.64      0.59       680\n",
            "weighted avg       0.61      0.60      0.58       680\n",
            "\n",
            "              precision    recall  f1-score   support\n",
            "\n",
            "           0       0.54      0.93      0.68       163\n",
            "           1       0.66      0.63      0.64       251\n",
            "           2       0.66      0.40      0.50       266\n",
            "\n",
            "    accuracy                           0.61       680\n",
            "   macro avg       0.62      0.65      0.61       680\n",
            "weighted avg       0.63      0.61      0.60       680\n",
            "\n",
            "Epoch [31/50], Loss: 0.7139\n",
            "              precision    recall  f1-score   support\n",
            "\n",
            "           0       0.55      0.93      0.69       163\n",
            "           1       0.64      0.63      0.64       251\n",
            "           2       0.65      0.38      0.48       266\n",
            "\n",
            "    accuracy                           0.60       680\n",
            "   macro avg       0.61      0.65      0.60       680\n",
            "weighted avg       0.62      0.60      0.59       680\n",
            "\n",
            "              precision    recall  f1-score   support\n",
            "\n",
            "           0       0.55      0.92      0.69       163\n",
            "           1       0.64      0.63      0.64       251\n",
            "           2       0.64      0.38      0.48       266\n",
            "\n",
            "    accuracy                           0.60       680\n",
            "   macro avg       0.61      0.65      0.60       680\n",
            "weighted avg       0.62      0.60      0.59       680\n",
            "\n",
            "              precision    recall  f1-score   support\n",
            "\n",
            "           0       0.53      0.94      0.68       163\n",
            "           1       0.66      0.60      0.62       251\n",
            "           2       0.63      0.39      0.48       266\n",
            "\n",
            "    accuracy                           0.60       680\n",
            "   macro avg       0.61      0.64      0.59       680\n",
            "weighted avg       0.62      0.60      0.58       680\n",
            "\n",
            "              precision    recall  f1-score   support\n",
            "\n",
            "           0       0.53      0.94      0.68       163\n",
            "           1       0.67      0.60      0.64       251\n",
            "           2       0.65      0.41      0.50       266\n",
            "\n",
            "    accuracy                           0.61       680\n",
            "   macro avg       0.62      0.65      0.61       680\n",
            "weighted avg       0.63      0.61      0.59       680\n",
            "\n",
            "              precision    recall  f1-score   support\n",
            "\n",
            "           0       0.56      0.91      0.69       163\n",
            "           1       0.62      0.64      0.63       251\n",
            "           2       0.63      0.37      0.47       266\n",
            "\n",
            "    accuracy                           0.60       680\n",
            "   macro avg       0.60      0.64      0.59       680\n",
            "weighted avg       0.61      0.60      0.58       680\n",
            "\n",
            "              precision    recall  f1-score   support\n",
            "\n",
            "           0       0.55      0.92      0.69       163\n",
            "           1       0.64      0.64      0.64       251\n",
            "           2       0.65      0.38      0.48       266\n",
            "\n",
            "    accuracy                           0.60       680\n",
            "   macro avg       0.61      0.65      0.60       680\n",
            "weighted avg       0.62      0.60      0.59       680\n",
            "\n",
            "              precision    recall  f1-score   support\n",
            "\n",
            "           0       0.54      0.93      0.68       163\n",
            "           1       0.65      0.64      0.64       251\n",
            "           2       0.65      0.37      0.47       266\n",
            "\n",
            "    accuracy                           0.60       680\n",
            "   macro avg       0.61      0.65      0.60       680\n",
            "weighted avg       0.62      0.60      0.59       680\n",
            "\n",
            "              precision    recall  f1-score   support\n",
            "\n",
            "           0       0.54      0.94      0.69       163\n",
            "           1       0.65      0.63      0.64       251\n",
            "           2       0.63      0.36      0.46       266\n",
            "\n",
            "    accuracy                           0.60       680\n",
            "   macro avg       0.61      0.65      0.60       680\n",
            "weighted avg       0.62      0.60      0.58       680\n",
            "\n",
            "              precision    recall  f1-score   support\n",
            "\n",
            "           0       0.56      0.94      0.70       163\n",
            "           1       0.65      0.62      0.64       251\n",
            "           2       0.64      0.40      0.49       266\n",
            "\n",
            "    accuracy                           0.61       680\n",
            "   macro avg       0.62      0.65      0.61       680\n",
            "weighted avg       0.62      0.61      0.59       680\n",
            "\n",
            "              precision    recall  f1-score   support\n",
            "\n",
            "           0       0.56      0.94      0.70       163\n",
            "           1       0.66      0.60      0.63       251\n",
            "           2       0.63      0.42      0.50       266\n",
            "\n",
            "    accuracy                           0.61       680\n",
            "   macro avg       0.62      0.65      0.61       680\n",
            "weighted avg       0.62      0.61      0.60       680\n",
            "\n",
            "Epoch [41/50], Loss: 0.7073\n",
            "              precision    recall  f1-score   support\n",
            "\n",
            "           0       0.55      0.94      0.70       163\n",
            "           1       0.67      0.61      0.64       251\n",
            "           2       0.63      0.41      0.50       266\n",
            "\n",
            "    accuracy                           0.61       680\n",
            "   macro avg       0.62      0.65      0.61       680\n",
            "weighted avg       0.63      0.61      0.60       680\n",
            "\n",
            "              precision    recall  f1-score   support\n",
            "\n",
            "           0       0.55      0.94      0.70       163\n",
            "           1       0.65      0.63      0.64       251\n",
            "           2       0.64      0.39      0.48       266\n",
            "\n",
            "    accuracy                           0.61       680\n",
            "   macro avg       0.62      0.65      0.61       680\n",
            "weighted avg       0.63      0.61      0.59       680\n",
            "\n",
            "              precision    recall  f1-score   support\n",
            "\n",
            "           0       0.55      0.94      0.70       163\n",
            "           1       0.65      0.63      0.64       251\n",
            "           2       0.64      0.38      0.47       266\n",
            "\n",
            "    accuracy                           0.61       680\n",
            "   macro avg       0.61      0.65      0.60       680\n",
            "weighted avg       0.62      0.61      0.59       680\n",
            "\n",
            "              precision    recall  f1-score   support\n",
            "\n",
            "           0       0.56      0.94      0.70       163\n",
            "           1       0.65      0.64      0.64       251\n",
            "           2       0.65      0.38      0.48       266\n",
            "\n",
            "    accuracy                           0.61       680\n",
            "   macro avg       0.62      0.65      0.61       680\n",
            "weighted avg       0.62      0.61      0.59       680\n",
            "\n",
            "              precision    recall  f1-score   support\n",
            "\n",
            "           0       0.56      0.94      0.70       163\n",
            "           1       0.64      0.64      0.64       251\n",
            "           2       0.65      0.38      0.48       266\n",
            "\n",
            "    accuracy                           0.61       680\n",
            "   macro avg       0.62      0.65      0.61       680\n",
            "weighted avg       0.62      0.61      0.59       680\n",
            "\n",
            "              precision    recall  f1-score   support\n",
            "\n",
            "           0       0.56      0.94      0.70       163\n",
            "           1       0.64      0.64      0.64       251\n",
            "           2       0.65      0.38      0.48       266\n",
            "\n",
            "    accuracy                           0.61       680\n",
            "   macro avg       0.62      0.65      0.61       680\n",
            "weighted avg       0.62      0.61      0.59       680\n",
            "\n",
            "              precision    recall  f1-score   support\n",
            "\n",
            "           0       0.56      0.94      0.70       163\n",
            "           1       0.64      0.64      0.64       251\n",
            "           2       0.65      0.38      0.48       266\n",
            "\n",
            "    accuracy                           0.61       680\n",
            "   macro avg       0.62      0.65      0.61       680\n",
            "weighted avg       0.62      0.61      0.59       680\n",
            "\n",
            "              precision    recall  f1-score   support\n",
            "\n",
            "           0       0.56      0.94      0.70       163\n",
            "           1       0.64      0.64      0.64       251\n",
            "           2       0.65      0.38      0.48       266\n",
            "\n",
            "    accuracy                           0.61       680\n",
            "   macro avg       0.62      0.65      0.61       680\n",
            "weighted avg       0.62      0.61      0.59       680\n",
            "\n",
            "              precision    recall  f1-score   support\n",
            "\n",
            "           0       0.56      0.94      0.70       163\n",
            "           1       0.64      0.64      0.64       251\n",
            "           2       0.65      0.38      0.48       266\n",
            "\n",
            "    accuracy                           0.61       680\n",
            "   macro avg       0.62      0.65      0.61       680\n",
            "weighted avg       0.62      0.61      0.59       680\n",
            "\n"
          ]
        },
        {
          "data": {
            "image/png": "[encoded data removed]",
            "text/plain": [
              "<Figure size 640x480 with 1 Axes>"
            ]
          },
          "metadata": {},
          "output_type": "display_data"
        }
      ],
      "source": [
        "# Tính toán trọng số cho từng lớp\n",
        "class_counts = np.bincount(y_train.numpy())  # Đếm số lượng mẫu của từng lớp\n",
        "class_weights = 1.0 / class_counts           # Trọng số ngược với tần suất\n",
        "device = torch.device(\"cuda\" if torch.cuda.is_available() else \"cpu\") # get the device\n",
        "class_weights = torch.tensor(class_weights, dtype=torch.float32, device=device) # Move class_weights to the device\n",
        "\n",
        "new_model_pro = LSTMPredictor(input_dim, hidden_dim=85, output_dim=output_dim)\n",
        "criterion = nn.CrossEntropyLoss(weight = class_weights)  # Loss cho bài toán phân loại\n",
        "optimizer = optim.Adam(new_model_pro.parameters(), lr=5e-3,weight_decay=5e-4)\n",
        "train1(new_model_pro,train_loader=train_loader,test_loader=test_loader,criterion=criterion,optimizer=optimizer,batch_size=256,num_epochs=50)\n",
        "\n",
        "checkpoint = {\n",
        "    \"model_states\": new_model_pro.state_dict(),  # trạng thái từng model\n",
        "    \"hidden_dim\": 85,\n",
        "    \"input_dim\": input_dim,\n",
        "    \"scaler\" : scaler_pro\n",
        "}\n",
        "torch.save(checkpoint, \"D:/Runway-Training-main/BE/checkpoint/RNN_checkpoint.pth\")"
      ]
    },
    {
      "cell_type": "code",
      "execution_count": 500,
      "metadata": {},
      "outputs": [
        {
          "data": {
            "text/plain": [
              "LSTMPredictor(\n",
              "  (lstm): LSTM(8, 85, batch_first=True)\n",
              "  (fc): Linear(in_features=85, out_features=3, bias=True)\n",
              "  (softmax): Softmax(dim=-1)\n",
              ")"
            ]
          },
          "execution_count": 500,
          "metadata": {},
          "output_type": "execute_result"
        }
      ],
      "source": [
        "checkpoint = torch.load(\"D:/Runway-Training-main/BE/checkpoint/RNN_checkpoint.pth\", map_location=torch.device('cpu'),weights_only=False)\n",
        "L = LSTMPredictor(input_dim= checkpoint['input_dim'],hidden_dim=checkpoint['hidden_dim'],output_dim=3)\n",
        "L.load_state_dict(checkpoint[\"model_states\"])\n",
        "scaler_pro = checkpoint[\"scaler\"]\n",
        "L.eval()"
      ]
    },
    {
      "cell_type": "code",
      "execution_count": 473,
      "metadata": {},
      "outputs": [],
      "source": [
        "checkpoint = torch.load(\"D:/Runway-Training-main/BE/checkpoint/RNN_checkpoint.pth\", map_location=torch.device('cpu'),weights_only=False)"
      ]
    },
    {
      "cell_type": "code",
      "execution_count": 474,
      "metadata": {},
      "outputs": [
        {
          "data": {
            "text/plain": [
              "{'model_states': OrderedDict([('lstm.weight_ih_l0',\n",
              "               tensor([[ 4.2537e-02,  2.9021e-21,  9.6903e-03,  ..., -5.1985e-03,\n",
              "                         1.0178e-03,  1.3716e-01],\n",
              "                       [ 1.9389e-02, -2.7504e-25, -5.9630e-02,  ...,  2.6678e-02,\n",
              "                        -8.4167e-02,  3.5243e-02],\n",
              "                       [ 6.9916e-02,  2.8334e-08, -6.3521e-02,  ..., -8.7253e-02,\n",
              "                         5.3972e-02,  9.8881e-02],\n",
              "                       ...,\n",
              "                       [ 6.0220e-02, -1.0045e-21, -1.6903e-01,  ...,  1.6251e-01,\n",
              "                        -1.0416e-02, -9.2416e-02],\n",
              "                       [ 9.7237e-02, -2.5741e-19, -6.3838e-02,  ..., -1.4835e-01,\n",
              "                        -2.1047e-01,  1.6421e-01],\n",
              "                       [ 5.5413e-02,  3.8981e-19, -8.1978e-02,  ...,  1.3372e-01,\n",
              "                         7.2006e-02,  1.3714e-01]])),\n",
              "              ('lstm.weight_hh_l0',\n",
              "               tensor([[ 0.0158,  0.0016,  0.0205,  ..., -0.0132, -0.0227,  0.0106],\n",
              "                       [ 0.0082,  0.0004,  0.0103,  ..., -0.0011, -0.0107,  0.0073],\n",
              "                       [ 0.0220,  0.0058,  0.0211,  ..., -0.0208, -0.0298,  0.0095],\n",
              "                       ...,\n",
              "                       [ 0.0229,  0.0102, -0.0064,  ...,  0.0669, -0.0328,  0.0342],\n",
              "                       [ 0.0230, -0.0057,  0.0293,  ..., -0.0182,  0.0333,  0.0195],\n",
              "                       [-0.0023, -0.0034, -0.0037,  ...,  0.0235, -0.0195,  0.0179]])),\n",
              "              ('lstm.bias_ih_l0',\n",
              "               tensor([ 2.2588e-01,  6.8057e-02,  1.1715e-01,  1.3047e-01,  7.7959e-02,\n",
              "                        7.8514e-02,  1.4726e-01,  9.4611e-02,  1.7889e-01,  2.0146e-01,\n",
              "                        5.6984e-02,  2.8212e-02,  1.7971e-01,  1.0046e-01,  1.3025e-01,\n",
              "                        1.5137e-01,  8.1928e-02,  3.2374e-02,  3.8212e-02,  8.3791e-02,\n",
              "                        9.2094e-02,  9.0106e-02,  8.3112e-02,  8.7123e-02,  1.5538e-01,\n",
              "                        2.3233e-01,  2.0335e-01,  1.1422e-01,  1.9784e-01,  8.0514e-02,\n",
              "                        1.1844e-01,  4.8361e-02,  2.4298e-01,  5.5398e-02,  1.0094e-01,\n",
              "                        9.0926e-02,  1.6505e-01,  1.4743e-01,  1.2089e-01,  1.6358e-01,\n",
              "                        8.8954e-02,  6.9102e-02,  1.3727e-01,  1.7178e-01,  1.1574e-01,\n",
              "                        1.6231e-01,  8.1008e-02,  1.3794e-01,  4.3404e-02,  2.1483e-01,\n",
              "                        7.7889e-02,  2.6746e-02,  1.5451e-01,  2.0146e-01,  1.8295e-01,\n",
              "                        1.5737e-01,  3.4484e-02,  1.5286e-01,  7.5672e-02,  1.3259e-01,\n",
              "                        7.0418e-02,  1.1173e-03,  1.7325e-01,  1.0487e-01,  9.8307e-02,\n",
              "                        5.1229e-02,  6.0235e-02,  8.3158e-02,  1.4885e-01,  2.2705e-02,\n",
              "                        7.8569e-02,  6.2158e-02,  1.2920e-01,  1.3890e-02,  7.7639e-02,\n",
              "                        1.0908e-01,  2.5391e-01,  7.6344e-02,  6.8019e-02,  1.4812e-01,\n",
              "                        1.1707e-01,  1.2619e-01,  1.6208e-01,  1.4622e-01,  9.3152e-02,\n",
              "                        5.1673e-02,  1.1335e-02,  1.4078e-02,  3.5808e-02,  5.0159e-02,\n",
              "                        1.3058e-02,  8.2217e-02,  2.4139e-02,  6.3467e-02,  4.0894e-02,\n",
              "                        3.6321e-02,  2.8286e-02,  7.4281e-02,  8.3803e-02,  1.2093e-02,\n",
              "                        5.7250e-03,  1.2747e-02,  3.8261e-02,  1.1466e-02,  2.1542e-02,\n",
              "                        4.5396e-02,  2.5443e-02,  4.8562e-03,  8.0106e-03,  3.9376e-02,\n",
              "                        1.2009e-01,  5.5794e-02,  5.1524e-02,  1.0505e-01,  2.6383e-02,\n",
              "                        4.5182e-02,  2.2694e-03,  9.0155e-02,  1.3535e-02,  3.1212e-02,\n",
              "                        2.6363e-02,  1.2170e-02,  4.8642e-02,  3.3684e-02,  1.6522e-02,\n",
              "                        3.9050e-02,  1.4650e-02,  2.7864e-02,  6.1152e-02,  1.5817e-02,\n",
              "                        5.1350e-02,  5.0531e-02,  4.9780e-02,  1.1650e-03,  8.0669e-02,\n",
              "                        4.0107e-02, -5.4777e-04,  7.2588e-02,  3.6538e-02,  6.8503e-02,\n",
              "                        4.7040e-02,  3.3582e-02,  4.1680e-02,  1.9416e-02,  4.4921e-02,\n",
              "                        1.4274e-02, -2.4367e-04,  6.4278e-02,  6.2924e-02,  6.2647e-03,\n",
              "                        1.2333e-04,  2.3274e-03,  2.3132e-02,  9.4839e-02,  2.6970e-02,\n",
              "                        2.5989e-02,  3.2032e-02,  2.8787e-02,  4.7711e-04,  4.7446e-02,\n",
              "                        1.4159e-02,  9.1064e-02,  4.3384e-02,  1.2389e-02,  4.3062e-02,\n",
              "                        4.3883e-02,  3.0540e-02,  1.1117e-01,  7.5468e-02,  1.5869e-02,\n",
              "                       -1.0791e-02,  5.7705e-02,  6.9067e-02,  1.3195e-01, -4.0924e-03,\n",
              "                        1.4166e-01,  2.8245e-02,  6.6468e-02,  7.9612e-02,  1.2000e-01,\n",
              "                       -1.8683e-02,  1.1077e-01,  1.3294e-01,  1.3738e-01,  7.0770e-02,\n",
              "                        2.5059e-02,  4.6981e-02, -3.5043e-02,  3.3083e-02, -5.5342e-02,\n",
              "                       -4.8664e-02,  1.7065e-01,  8.6422e-02,  1.5255e-01,  9.2326e-02,\n",
              "                        1.3659e-01,  1.0749e-02,  1.7070e-01,  1.6690e-01,  8.8558e-02,\n",
              "                        9.2666e-02, -5.6393e-02,  1.3430e-01,  4.1864e-02,  6.1570e-02,\n",
              "                        8.1730e-02,  2.2718e-02,  9.5843e-02,  9.3975e-02,  1.4873e-01,\n",
              "                        5.1560e-02,  1.2526e-01,  6.9336e-02,  1.3926e-01,  1.3069e-01,\n",
              "                       -7.2973e-02,  7.6141e-02, -4.2799e-02, -1.0456e-01,  1.0238e-01,\n",
              "                        2.6598e-02,  1.0820e-01,  1.7308e-01,  1.6280e-01, -6.7728e-03,\n",
              "                        1.2896e-01,  8.7321e-02,  1.7609e-01,  3.7136e-02, -5.5536e-02,\n",
              "                        2.4657e-02,  8.4531e-02, -5.2946e-02, -5.1248e-02,  1.5462e-01,\n",
              "                        9.1081e-02,  8.0787e-02,  6.5460e-02,  4.3467e-02,  8.6980e-02,\n",
              "                        7.4659e-02,  1.2430e-01,  7.5972e-02, -1.4310e-01,  1.9446e-01,\n",
              "                        6.7011e-02, -3.3112e-02,  3.3275e-02,  4.9704e-02,  1.6992e-01,\n",
              "                        1.6077e-01,  5.8989e-03, -1.3150e-01, -4.3228e-02,  4.5429e-02,\n",
              "                        1.3373e-01,  6.9338e-02,  6.0655e-02,  1.2211e-01,  1.4289e-01,\n",
              "                        1.2315e-01,  7.8414e-02,  1.0281e-01,  1.1223e-01,  1.0281e-01,\n",
              "                        1.4249e-01,  3.3795e-02,  2.3635e-01,  1.2164e-01,  5.8737e-02,\n",
              "                        5.2026e-02,  8.3613e-02,  3.5832e-02,  3.8494e-02,  4.9148e-02,\n",
              "                        9.6706e-02,  7.7755e-02,  5.5767e-02,  4.8190e-02,  1.3163e-01,\n",
              "                        1.4353e-01,  1.9092e-01,  1.2847e-01,  2.4057e-01,  8.3560e-02,\n",
              "                        1.0938e-01,  5.1714e-02,  2.0715e-01,  6.7388e-02,  8.1342e-02,\n",
              "                        1.1596e-01,  1.1417e-01,  2.1226e-01,  7.8125e-02,  1.4749e-01,\n",
              "                        2.0995e-01,  2.6981e-02,  1.2904e-01,  6.4330e-02,  8.5615e-02,\n",
              "                        1.6789e-01,  7.5229e-02,  1.4655e-01,  5.6486e-02,  1.9526e-01,\n",
              "                        1.0220e-01,  4.2616e-02,  2.2026e-01,  1.8724e-01,  1.7730e-01,\n",
              "                        4.7810e-02,  9.4654e-02,  4.5856e-02,  8.4598e-02,  9.5940e-02,\n",
              "                        6.2847e-02,  1.9023e-02,  1.7123e-01,  1.2227e-01,  9.7158e-02,\n",
              "                        8.5577e-02,  1.2028e-01,  8.7756e-02,  2.3037e-01, -2.7259e-04,\n",
              "                        5.4148e-02,  1.1506e-01,  3.9453e-02,  1.4907e-02,  2.2837e-01,\n",
              "                        1.1341e-01,  2.3806e-01,  8.9662e-02,  4.0769e-02,  9.5033e-02,\n",
              "                        1.0929e-01,  1.4216e-01,  2.5773e-01,  1.5875e-01,  4.2851e-02])),\n",
              "              ('lstm.bias_hh_l0',\n",
              "               tensor([ 6.9121e-02,  6.1366e-02,  9.3559e-02,  7.0731e-02,  5.8021e-02,\n",
              "                        7.2092e-02,  1.9453e-01,  9.0934e-02,  2.3175e-01,  1.0970e-01,\n",
              "                        9.8526e-02,  1.6562e-01,  2.1595e-01,  1.7354e-01,  6.0132e-02,\n",
              "                        4.6447e-02,  8.1774e-02,  1.2766e-01,  5.2233e-02,  1.5074e-01,\n",
              "                        9.2103e-02,  8.1560e-02,  6.6087e-02,  1.1707e-01,  2.1291e-01,\n",
              "                        1.5917e-01,  2.0592e-01,  1.2795e-01,  2.1707e-01,  1.0065e-01,\n",
              "                        8.9007e-02,  5.9943e-02,  2.5681e-01,  7.9948e-02,  8.8590e-02,\n",
              "                        9.6489e-02,  1.2747e-01,  2.4210e-01,  8.3848e-02,  1.0077e-01,\n",
              "                        1.7911e-01,  2.0080e-02,  1.8065e-01,  7.2598e-02,  4.1483e-02,\n",
              "                        1.5822e-01,  1.1006e-01,  1.3910e-01,  2.4697e-02,  1.8124e-01,\n",
              "                        1.5471e-01,  5.0578e-02,  2.1920e-01,  1.0150e-01,  1.9019e-01,\n",
              "                        4.4035e-02,  9.0995e-02,  7.2070e-02,  9.9023e-02,  9.2136e-02,\n",
              "                        9.3147e-02,  2.4907e-02,  1.3054e-01,  1.0322e-01,  5.6768e-02,\n",
              "                        1.9760e-02,  3.4402e-02,  8.5489e-02,  1.6293e-01,  4.1590e-02,\n",
              "                        6.6942e-02,  1.0733e-01,  8.5584e-02,  2.2880e-02,  1.4426e-01,\n",
              "                        6.1235e-02,  1.7352e-01,  1.3299e-01,  1.1053e-01,  1.5070e-01,\n",
              "                        1.5335e-01,  9.2095e-02,  1.9268e-01,  1.5247e-01,  1.0697e-02,\n",
              "                        6.4943e-02,  1.2112e-02,  3.3287e-02,  1.7457e-02,  5.9886e-02,\n",
              "                        3.4526e-02,  7.0400e-02,  2.9076e-02,  6.3461e-02,  6.7810e-02,\n",
              "                        3.5282e-02,  2.9689e-02,  8.6896e-02,  7.1115e-02,  2.4497e-02,\n",
              "                        3.1265e-02,  1.3025e-02,  3.9781e-02,  1.1396e-02,  2.1542e-02,\n",
              "                        4.4331e-02,  2.5438e-02,  2.4555e-03,  1.1811e-02,  6.0176e-02,\n",
              "                        1.1852e-01,  5.0781e-02,  9.5530e-02,  9.5610e-02,  2.5358e-02,\n",
              "                        4.5512e-02,  2.0312e-03,  9.3924e-02,  1.9246e-02,  3.5186e-02,\n",
              "                        2.7982e-02,  1.2236e-02,  4.7524e-02,  3.2700e-02,  2.0866e-02,\n",
              "                        2.9008e-02,  2.5628e-02,  4.2567e-02,  4.7213e-02,  1.6663e-02,\n",
              "                        5.1326e-02,  2.7720e-02,  4.9875e-02,  1.4615e-03,  7.4248e-02,\n",
              "                        2.5168e-02, -3.6249e-04,  8.5907e-02,  6.6720e-02,  6.7112e-02,\n",
              "                        1.6660e-03,  3.3565e-02,  4.9634e-02,  1.9426e-02,  4.4792e-02,\n",
              "                        2.4333e-02, -3.9253e-04,  5.7976e-02,  6.0719e-02,  4.3312e-02,\n",
              "                        1.0251e-04,  2.3270e-03,  2.3019e-02,  1.0448e-01, -2.0657e-02,\n",
              "                        2.2961e-02,  2.8319e-02,  6.0658e-02,  2.4353e-04,  5.3855e-02,\n",
              "                        1.3975e-02,  8.7146e-02,  4.1086e-02,  3.0018e-02,  5.2255e-02,\n",
              "                        5.0383e-02,  3.0696e-02,  1.1226e-01,  7.6484e-02,  2.4445e-02,\n",
              "                        1.6251e-01,  6.2468e-02,  1.2906e-01,  1.0324e-01,  1.1680e-01,\n",
              "                        1.3025e-01,  3.8229e-02,  6.7897e-04,  1.2254e-01,  1.4221e-01,\n",
              "                        1.5202e-01,  5.9640e-03,  1.2797e-01,  1.0191e-01,  1.5201e-01,\n",
              "                        1.3780e-01, -1.3438e-02,  6.3905e-03,  8.7519e-02, -5.8626e-02,\n",
              "                       -7.4135e-02,  8.6857e-02,  6.2884e-02,  6.2561e-02,  2.4419e-01,\n",
              "                        7.2850e-02, -1.1349e-01,  2.3496e-02,  2.9539e-02,  7.0415e-02,\n",
              "                        3.8863e-02, -2.8744e-02,  3.3655e-02,  1.3470e-01,  1.1727e-01,\n",
              "                       -1.4089e-03,  3.3994e-02,  2.5698e-02,  1.8147e-02, -4.5055e-02,\n",
              "                        1.3668e-01,  7.0370e-02,  1.2818e-01,  4.5446e-02, -2.4794e-02,\n",
              "                        1.4596e-02,  9.2549e-02,  2.8194e-02, -1.5004e-01,  2.7447e-02,\n",
              "                        1.1699e-01,  1.1286e-01,  4.2337e-02,  1.3748e-01, -4.1985e-02,\n",
              "                        3.9361e-02,  6.3967e-02,  4.6105e-02,  2.9024e-02, -1.0109e-01,\n",
              "                        1.3358e-01,  6.1295e-02, -3.7099e-02, -1.1351e-02, -1.9044e-02,\n",
              "                        4.3954e-02,  1.1226e-02,  1.0311e-01,  5.6710e-02,  5.3242e-02,\n",
              "                       -1.8429e-02,  6.8343e-02, -3.7100e-02, -1.3847e-01,  3.8274e-02,\n",
              "                        1.1404e-04,  1.0599e-01, -3.9658e-02,  1.7344e-01,  7.4952e-02,\n",
              "                        4.5012e-02, -7.3511e-03, -4.2411e-02, -1.6389e-02,  6.9265e-02,\n",
              "                        1.4537e-01,  1.3727e-01,  2.6705e-02,  1.1348e-01,  8.1457e-02,\n",
              "                        1.5807e-01,  1.5961e-01,  6.6562e-02,  1.0818e-01,  2.4187e-01,\n",
              "                        1.2041e-01,  1.9130e-01,  2.0682e-01,  1.0309e-01,  6.5669e-02,\n",
              "                        2.1956e-02,  6.0588e-02,  7.5771e-02,  4.6387e-02,  1.1727e-01,\n",
              "                        9.6338e-02,  9.1595e-02,  1.9242e-02,  1.7776e-02,  2.1251e-01,\n",
              "                        1.9875e-01,  2.0400e-01,  7.7165e-02,  2.3778e-01,  9.2518e-02,\n",
              "                        1.0929e-01,  6.3834e-02,  1.2904e-01,  1.0569e-01,  8.4402e-02,\n",
              "                        1.0670e-01,  1.2513e-01,  1.8168e-01,  1.3242e-01,  3.8567e-02,\n",
              "                        7.8172e-02,  8.3496e-02,  1.4199e-01,  1.7859e-01,  3.6926e-02,\n",
              "                        1.6826e-01,  1.4590e-01,  1.1411e-01,  4.7136e-02,  2.2313e-01,\n",
              "                        2.6825e-02,  4.1616e-02,  1.2585e-01,  1.2530e-01,  1.4540e-01,\n",
              "                        7.0795e-02,  1.3317e-01,  8.9857e-02,  8.6933e-02,  9.6971e-02,\n",
              "                        1.0839e-01,  7.5096e-03,  1.8244e-01,  1.1238e-01,  6.7222e-02,\n",
              "                        9.1060e-03,  1.0274e-01,  8.8713e-02,  1.7759e-01,  2.1855e-02,\n",
              "                        1.5290e-01,  7.0207e-02,  1.1937e-01,  1.3436e-02,  2.1612e-01,\n",
              "                        1.3442e-01,  2.3606e-01,  1.0822e-01,  7.4737e-02,  1.1029e-01,\n",
              "                        1.1270e-01,  1.4591e-01,  2.1013e-01,  1.4673e-01,  1.0366e-01])),\n",
              "              ('fc.weight',\n",
              "               tensor([[ 0.2251,  0.0564,  0.2130,  0.0674,  0.1440,  0.1347,  0.1485, -0.1692,\n",
              "                        -0.2086, -0.2655,  0.1892,  0.2182, -0.1670, -0.1796,  0.1288,  0.1836,\n",
              "                        -0.0667,  0.0816,  0.0748, -0.0943, -0.2052,  0.0466, -0.0878,  0.1869,\n",
              "                        -0.2001, -0.2697, -0.2967,  0.1328, -0.1832, -0.1225,  0.1962, -0.0157,\n",
              "                        -0.3150, -0.1289,  0.1433,  0.0758,  0.2038,  0.2168, -0.1791,  0.1441,\n",
              "                        -0.2772,  0.1767, -0.1475,  0.1039,  0.1583, -0.2503,  0.2057, -0.2454,\n",
              "                        -0.0994, -0.2312,  0.2203,  0.0242, -0.3079, -0.2256, -0.3283,  0.0595,\n",
              "                         0.1669,  0.0899, -0.1841, -0.1839,  0.0913, -0.0051,  0.2875,  0.1334,\n",
              "                         0.0861,  0.1654,  0.1163, -0.0473, -0.2796, -0.1231,  0.0737, -0.1808,\n",
              "                         0.2120,  0.0515, -0.2538,  0.1116, -0.1715,  0.1790,  0.1306, -0.2284,\n",
              "                        -0.2470, -0.1159,  0.3049, -0.1979,  0.0949],\n",
              "                       [-0.1749, -0.2176, -0.2186, -0.1118, -0.1785, -0.0799, -0.1975,  0.1161,\n",
              "                         0.2166,  0.1008, -0.0222, -0.2068,  0.2619,  0.2606, -0.1296, -0.1935,\n",
              "                         0.1712, -0.2189, -0.0508,  0.2291,  0.2166, -0.1671,  0.1153, -0.2002,\n",
              "                         0.1637,  0.2345,  0.2746, -0.1810,  0.2866,  0.1234, -0.1222,  0.0562,\n",
              "                         0.2476,  0.1549, -0.1433, -0.1819, -0.1329, -0.0826,  0.1870, -0.1678,\n",
              "                         0.1121, -0.0921,  0.2396, -0.1881, -0.1033,  0.2119, -0.0718,  0.1872,\n",
              "                         0.1103,  0.3271, -0.1586,  0.0605,  0.1527,  0.1779,  0.2881, -0.1820,\n",
              "                        -0.1891, -0.1789,  0.1453,  0.2463, -0.2009, -0.0048, -0.2264, -0.2457,\n",
              "                        -0.2153, -0.1240, -0.1338,  0.2009,  0.2915,  0.1386, -0.1977,  0.2220,\n",
              "                        -0.0968,  0.0329,  0.2250, -0.0870,  0.3520, -0.2114, -0.0908,  0.2164,\n",
              "                         0.1634,  0.2619, -0.2944,  0.3048, -0.1712]])),\n",
              "              ('fc.bias', tensor([ 0.0729, -0.0018]))]),\n",
              " 'hidden_dim': 85,\n",
              " 'input_dim': 8,\n",
              " 'scaler': StandardScaler()}"
            ]
          },
          "execution_count": 474,
          "metadata": {},
          "output_type": "execute_result"
        }
      ],
      "source": [
        "checkpoint"
      ]
    },
    {
      "cell_type": "code",
      "execution_count": 475,
      "metadata": {
        "colab": {
          "base_uri": "https://localhost:8080/"
        },
        "id": "plLpoITaWy0z",
        "outputId": "ebe33546-c4df-4039-cc85-d72f3a3503e7"
      },
      "outputs": [
        {
          "name": "stdout",
          "output_type": "stream",
          "text": [
            "              precision    recall  f1-score   support\n",
            "\n",
            "           0       0.54      0.93      0.68       163\n",
            "           1       0.64      0.61      0.63       251\n",
            "           2       0.63      0.36      0.46       266\n",
            "\n",
            "    accuracy                           0.59       680\n",
            "   macro avg       0.60      0.64      0.59       680\n",
            "weighted avg       0.61      0.59      0.57       680\n",
            "\n",
            "Accuracy: 0.5926470588235294\n",
            "F1-score: 0.5889711155237778\n",
            "Loss: 0.7635962719267065\n"
          ]
        }
      ],
      "source": [
        "acc,f1,losses=evaluate_model(new_model_pro,test_loader)\n",
        "print(f\"Accuracy: {acc}\")\n",
        "print(f\"F1-score: {f1}\")\n",
        "print(f\"Loss: {losses}\")"
      ]
    },
    {
      "cell_type": "markdown",
      "metadata": {
        "id": "USeVSX8Ya7qj"
      },
      "source": [
        "#### Evaluation"
      ]
    },
    {
      "cell_type": "code",
      "execution_count": 476,
      "metadata": {
        "id": "rQVOCF5yYO7A"
      },
      "outputs": [],
      "source": [
        "# Tạo dữ liệu\n",
        "aircraft_features=['Final-approach','Aircraft-type','Temperature','Time','Windspeed','Visibility']\n",
        "runway_feautures=['Exit-location','Exit-angle']\n",
        "aircraft_df=new_df[aircraft_features]\n",
        "runway_df=new_df[runway_feautures]"
      ]
    },
    {
      "cell_type": "code",
      "execution_count": 477,
      "metadata": {
        "colab": {
          "base_uri": "https://localhost:8080/"
        },
        "id": "NASaWr_HYO7A",
        "outputId": "3b6016cf-310f-449d-dec8-c92c3cd890e2"
      },
      "outputs": [
        {
          "name": "stderr",
          "output_type": "stream",
          "text": [
            "C:\\Users\\ADMIN\\AppData\\Local\\Temp\\ipykernel_20488\\3970589878.py:1: SettingWithCopyWarning: \n",
            "A value is trying to be set on a copy of a slice from a DataFrame\n",
            "\n",
            "See the caveats in the documentation: https://pandas.pydata.org/pandas-docs/stable/user_guide/indexing.html#returning-a-view-versus-a-copy\n",
            "  runway_df.drop_duplicates(inplace=True)\n",
            "C:\\Users\\ADMIN\\AppData\\Local\\Temp\\ipykernel_20488\\3970589878.py:3: SettingWithCopyWarning: \n",
            "A value is trying to be set on a copy of a slice from a DataFrame\n",
            "\n",
            "See the caveats in the documentation: https://pandas.pydata.org/pandas-docs/stable/user_guide/indexing.html#returning-a-view-versus-a-copy\n",
            "  runway_df.sort_values(by='Exit-location',inplace=True)\n"
          ]
        }
      ],
      "source": [
        "runway_df.drop_duplicates(inplace=True)\n",
        "# sắp xếp lại theo giá trị của exit location\n",
        "runway_df.sort_values(by='Exit-location',inplace=True)"
      ]
    },
    {
      "cell_type": "code",
      "execution_count": 478,
      "metadata": {
        "colab": {
          "base_uri": "https://localhost:8080/",
          "height": 143
        },
        "id": "JvkWXQlDYO7A",
        "outputId": "e3fb9d86-5ba9-4f76-a692-6621006b64d2"
      },
      "outputs": [
        {
          "data": {
            "text/html": [
              "<div>\n",
              "<style scoped>\n",
              "    .dataframe tbody tr th:only-of-type {\n",
              "        vertical-align: middle;\n",
              "    }\n",
              "\n",
              "    .dataframe tbody tr th {\n",
              "        vertical-align: top;\n",
              "    }\n",
              "\n",
              "    .dataframe thead th {\n",
              "        text-align: right;\n",
              "    }\n",
              "</style>\n",
              "<table border=\"1\" class=\"dataframe\">\n",
              "  <thead>\n",
              "    <tr style=\"text-align: right;\">\n",
              "      <th></th>\n",
              "      <th>Exit-location</th>\n",
              "      <th>Exit-angle</th>\n",
              "    </tr>\n",
              "  </thead>\n",
              "  <tbody>\n",
              "    <tr>\n",
              "      <th>1</th>\n",
              "      <td>1750.00</td>\n",
              "      <td>30</td>\n",
              "    </tr>\n",
              "    <tr>\n",
              "      <th>5</th>\n",
              "      <td>1950.00</td>\n",
              "      <td>30</td>\n",
              "    </tr>\n",
              "    <tr>\n",
              "      <th>0</th>\n",
              "      <td>2086.35</td>\n",
              "      <td>30</td>\n",
              "    </tr>\n",
              "  </tbody>\n",
              "</table>\n",
              "</div>"
            ],
            "text/plain": [
              "   Exit-location  Exit-angle\n",
              "1        1750.00          30\n",
              "5        1950.00          30\n",
              "0        2086.35          30"
            ]
          },
          "execution_count": 478,
          "metadata": {},
          "output_type": "execute_result"
        }
      ],
      "source": [
        "runway_df"
      ]
    },
    {
      "cell_type": "code",
      "execution_count": 479,
      "metadata": {
        "colab": {
          "base_uri": "https://localhost:8080/"
        },
        "id": "xjqm4yZyYO7A",
        "outputId": "a5ecfd50-24cf-4e42-cb17-960cdd7d5819"
      },
      "outputs": [
        {
          "name": "stdout",
          "output_type": "stream",
          "text": [
            "Kích thước mảng: (3399, 3, 8)\n",
            "[[[ 1.75000e+03  3.00000e+01  1.38000e+02 ...  0.00000e+00 -1.00000e+00\n",
            "    8.00000e+00]\n",
            "  [ 1.95000e+03  3.00000e+01  1.38000e+02 ...  0.00000e+00 -1.00000e+00\n",
            "    8.00000e+00]\n",
            "  [ 2.08635e+03  3.00000e+01  1.38000e+02 ...  0.00000e+00 -1.00000e+00\n",
            "    8.00000e+00]]\n",
            "\n",
            " [[ 1.75000e+03  3.00000e+01  1.35000e+02 ...  0.00000e+00 -3.00000e+00\n",
            "    6.00000e+00]\n",
            "  [ 1.95000e+03  3.00000e+01  1.35000e+02 ...  0.00000e+00 -3.00000e+00\n",
            "    6.00000e+00]\n",
            "  [ 2.08635e+03  3.00000e+01  1.35000e+02 ...  0.00000e+00 -3.00000e+00\n",
            "    6.00000e+00]]\n",
            "\n",
            " [[ 1.75000e+03  3.00000e+01  1.49000e+02 ...  0.00000e+00  7.00000e+00\n",
            "    7.00000e+00]\n",
            "  [ 1.95000e+03  3.00000e+01  1.49000e+02 ...  0.00000e+00  7.00000e+00\n",
            "    7.00000e+00]\n",
            "  [ 2.08635e+03  3.00000e+01  1.49000e+02 ...  0.00000e+00  7.00000e+00\n",
            "    7.00000e+00]]\n",
            "\n",
            " ...\n",
            "\n",
            " [[ 1.75000e+03  3.00000e+01  1.40000e+02 ...  0.00000e+00  0.00000e+00\n",
            "    6.00000e+00]\n",
            "  [ 1.95000e+03  3.00000e+01  1.40000e+02 ...  0.00000e+00  0.00000e+00\n",
            "    6.00000e+00]\n",
            "  [ 2.08635e+03  3.00000e+01  1.40000e+02 ...  0.00000e+00  0.00000e+00\n",
            "    6.00000e+00]]\n",
            "\n",
            " [[ 1.75000e+03  3.00000e+01  1.43000e+02 ...  0.00000e+00  3.00000e+00\n",
            "    5.00000e+00]\n",
            "  [ 1.95000e+03  3.00000e+01  1.43000e+02 ...  0.00000e+00  3.00000e+00\n",
            "    5.00000e+00]\n",
            "  [ 2.08635e+03  3.00000e+01  1.43000e+02 ...  0.00000e+00  3.00000e+00\n",
            "    5.00000e+00]]\n",
            "\n",
            " [[ 1.75000e+03  3.00000e+01  1.35000e+02 ...  0.00000e+00  2.00000e+00\n",
            "    1.00000e+01]\n",
            "  [ 1.95000e+03  3.00000e+01  1.35000e+02 ...  0.00000e+00  2.00000e+00\n",
            "    1.00000e+01]\n",
            "  [ 2.08635e+03  3.00000e+01  1.35000e+02 ...  0.00000e+00  2.00000e+00\n",
            "    1.00000e+01]]]\n"
          ]
        }
      ],
      "source": [
        "aircraft_df.reset_index(drop=True,inplace=True)\n",
        "runway_df.reset_index(drop=True,inplace=True)\n",
        "# Số đặc trưng\n",
        "n = runway_df.shape[1]\n",
        "m = aircraft_df.shape[1]\n",
        "\n",
        "# Khởi tạo mảng 3 chiều\n",
        "array_3d = np.zeros((len(aircraft_df), len(runway_df), n + m))\n",
        "\n",
        "# Điền giá trị vào mảng\n",
        "for i, plane in aircraft_df.iterrows():\n",
        "    for j, runway in runway_df.iterrows():\n",
        "\n",
        "        plane_features = plane[:].values\n",
        "        # Lấy đặc trưng runway\n",
        "        runway_features = runway[:].values\n",
        "        # Ghép đặc trưng\n",
        "        combined_features = np.concatenate((runway_features, plane_features))\n",
        "        # Điền vào mảng\n",
        "        array_3d[i, j, :] = combined_features\n",
        "\n",
        "# Kết quả\n",
        "print(\"Kích thước mảng:\", array_3d.shape)\n",
        "print(array_3d)"
      ]
    },
    {
      "cell_type": "code",
      "execution_count": 480,
      "metadata": {
        "colab": {
          "base_uri": "https://localhost:8080/"
        },
        "id": "JqYn5awUYO7B",
        "outputId": "265b33fe-9499-4f46-bc9d-feb4df0f61d4"
      },
      "outputs": [],
      "source": [
        "# chuẩn hóa dữ liệu\n",
        "from sklearn.preprocessing import StandardScaler\n",
        "N,seq_len,M=array_3d.shape\n",
        "data_reshaped = array_3d.reshape(-1, M)  # Chuyển thành mảng 2D (N*3, M)\n",
        "# Chuẩn hóa dữ liệu\n",
        "data_normalized_pro = scaler_pro.transform(data_reshaped)\n",
        "data_normalized_rot = scaler_rot.transform(data_reshaped)\n",
        "\n",
        "# Chuyển đổi lại thành mảng 3D Nx3xM\n",
        "data_normalized_3d_pro = data_normalized_pro.reshape(N, seq_len, M)\n",
        "data_normalized_3d_rot = data_normalized_rot.reshape(N, seq_len, M)"
      ]
    },
    {
      "cell_type": "code",
      "execution_count": 481,
      "metadata": {
        "colab": {
          "base_uri": "https://localhost:8080/"
        },
        "id": "J3h2eZ54Cf9J",
        "outputId": "858a7a6a-1da5-45e0-ad0c-5e4ec35305f1"
      },
      "outputs": [
        {
          "data": {
            "text/plain": [
              "(3399, 3, 8)"
            ]
          },
          "execution_count": 481,
          "metadata": {},
          "output_type": "execute_result"
        }
      ],
      "source": [
        "data_normalized_3d_pro.shape"
      ]
    },
    {
      "cell_type": "code",
      "execution_count": 482,
      "metadata": {
        "id": "LN2A27tqYO7B"
      },
      "outputs": [],
      "source": [
        "X_tensor_pro = torch.tensor(data_normalized_3d_pro,dtype=torch.float32)\n",
        "X_tensor_pro = X_tensor_pro.to(device)\n",
        "X_tensor_rot = torch.tensor(data_normalized_3d_rot,dtype=torch.float32)\n",
        "X_tensor_rot = X_tensor_rot.to(device)\n",
        "y_tensor_exit = torch.tensor(new_df['Exit-label'].values, dtype=torch.long)  # Cần dtype=torch.long cho CrossEntropyLoss\n",
        "y_tensor_rot = torch.tensor(new_df['ROT'].values, dtype=torch.float32)"
      ]
    },
    {
      "cell_type": "code",
      "execution_count": 483,
      "metadata": {
        "colab": {
          "base_uri": "https://localhost:8080/"
        },
        "id": "CaeiMXsICEa0",
        "outputId": "297750ef-ac53-40f2-a462-ad0613f4162b"
      },
      "outputs": [
        {
          "data": {
            "text/plain": [
              "torch.Size([3399, 3, 8])"
            ]
          },
          "execution_count": 483,
          "metadata": {},
          "output_type": "execute_result"
        }
      ],
      "source": [
        "X_tensor_pro.shape"
      ]
    },
    {
      "cell_type": "code",
      "execution_count": 484,
      "metadata": {
        "colab": {
          "base_uri": "https://localhost:8080/"
        },
        "id": "v0GyaAtzYO7B",
        "outputId": "4aac51bd-eb0d-4a17-a2a9-98d1243726a9"
      },
      "outputs": [
        {
          "name": "stdout",
          "output_type": "stream",
          "text": [
            "(3399, 3)\n",
            "(3399, 3)\n",
            "(3399, 3)\n"
          ]
        }
      ],
      "source": [
        "means,variances=predict_ensemble(models,X_tensor_rot)\n",
        "variances_err=model_err(X_tensor_rot).squeeze()\n",
        "variances_err=variances_err.cpu().detach().numpy()\n",
        "variances=variances.squeeze()\n",
        "variances = variances + variances_err\n",
        "_,probabilities = new_model_pro(X_tensor_pro)\n",
        "probabilities=probabilities.cpu().detach().numpy()\n",
        "means=means.squeeze()\n",
        "print(probabilities.shape)\n",
        "print(variances.shape)\n",
        "print(means.shape)"
      ]
    },
    {
      "cell_type": "code",
      "execution_count": 485,
      "metadata": {
        "colab": {
          "base_uri": "https://localhost:8080/"
        },
        "id": "_nDsyahuYuHk",
        "outputId": "7042b599-757f-4a2f-b907-3c01155d9700"
      },
      "outputs": [
        {
          "name": "stdout",
          "output_type": "stream",
          "text": [
            "Overall Mean: 55.80255126953125\n",
            "Overall std: 6.260966777801514\n"
          ]
        }
      ],
      "source": [
        "new_overall_mean,new_overall_std=overall_distribution(means, variances, probabilities)\n",
        "print(f\"Overall Mean: {new_overall_mean}\")\n",
        "print(f\"Overall std: {new_overall_std}\")"
      ]
    },
    {
      "cell_type": "markdown",
      "metadata": {
        "id": "yZ_MVZutZWvS"
      },
      "source": []
    },
    {
      "cell_type": "code",
      "execution_count": 486,
      "metadata": {
        "colab": {
          "base_uri": "https://localhost:8080/"
        },
        "id": "LiWcGqRf7CF9",
        "outputId": "4c103104-9e91-4c0a-d1b2-04d087370805"
      },
      "outputs": [
        {
          "name": "stdout",
          "output_type": "stream",
          "text": [
            "Overall Mean: 57.259193420410156\n",
            "Overall std: 6.354362964630127\n"
          ]
        }
      ],
      "source": [
        "print(f\"Overall Mean: {overall_mean}\")\n",
        "print(f\"Overall std: {overall_std}\")"
      ]
    },
    {
      "cell_type": "code",
      "execution_count": 487,
      "metadata": {
        "id": "6ahJTx5vWq4a"
      },
      "outputs": [],
      "source": [
        "# lọc ROT theo từng \"exit-label\"\n",
        "means_A = means[new_df['Exit-label'].values == 0]\n",
        "variances_A = variances[new_df['Exit-label'].values == 0]\n",
        "probabilities_A = probabilities[new_df['Exit-label'].values == 0]"
      ]
    },
    {
      "cell_type": "code",
      "execution_count": 488,
      "metadata": {
        "colab": {
          "base_uri": "https://localhost:8080/"
        },
        "id": "GWQC1p6jZHP8",
        "outputId": "f78fc5e7-5bab-4c43-999d-a213a254a3b6"
      },
      "outputs": [
        {
          "name": "stdout",
          "output_type": "stream",
          "text": [
            "Exit Mean: [55.03334045 54.32029343 58.32155609]\n",
            "Exit Std: [5.94715498 6.29974345 5.77159244]\n"
          ]
        }
      ],
      "source": [
        "k,l=aggregate_rot_statistics(means, variances, probabilities)\n",
        "print(f\"Exit Mean: {k}\")\n",
        "print(f\"Exit Std: {np.sqrt(l)}\")"
      ]
    },
    {
      "cell_type": "code",
      "execution_count": 489,
      "metadata": {
        "colab": {
          "base_uri": "https://localhost:8080/"
        },
        "id": "xNATYsOBZSuj",
        "outputId": "3b969a3d-2ae7-4c49-d459-b7bda0528713"
      },
      "outputs": [
        {
          "name": "stdout",
          "output_type": "stream",
          "text": [
            "probability of each exit:  [0.3364191  0.35308456 0.31049594]\n"
          ]
        }
      ],
      "source": [
        "print(\"probability of each exit: \",np.mean(probabilities,axis=0).T)"
      ]
    },
    {
      "cell_type": "markdown",
      "metadata": {
        "id": "vaq-isj2nbSM"
      },
      "source": [
        "##### REAL"
      ]
    },
    {
      "cell_type": "code",
      "execution_count": 490,
      "metadata": {
        "colab": {
          "base_uri": "https://localhost:8080/"
        },
        "id": "xDiMnB3f9Baw",
        "outputId": "b23ecadd-ce7f-4b30-bb9a-2a86d07c5514"
      },
      "outputs": [
        {
          "name": "stdout",
          "output_type": "stream",
          "text": [
            "Real ROT: 57.998825\n"
          ]
        }
      ],
      "source": [
        "print(\"Real ROT:\",mean_ROT)"
      ]
    },
    {
      "cell_type": "code",
      "execution_count": 491,
      "metadata": {
        "colab": {
          "base_uri": "https://localhost:8080/"
        },
        "id": "H7sw32_6KAcx",
        "outputId": "e331508a-2461-4d6d-b1b5-4296ecb9b541"
      },
      "outputs": [
        {
          "name": "stdout",
          "output_type": "stream",
          "text": [
            "Exit-label\n",
            "1    0.743454\n",
            "0    0.256546\n",
            "Name: proportion, dtype: float64\n"
          ]
        }
      ],
      "source": [
        "# Tính tần suất\n",
        "tansuat = df['Exit-label'].value_counts()\n",
        "# Tính tần suất và tỷ lệ phần trăm\n",
        "tansuat_phantram = df['Exit-label'].value_counts(normalize=True)\n",
        "\n",
        "print(tansuat_phantram)"
      ]
    },
    {
      "cell_type": "code",
      "execution_count": 492,
      "metadata": {
        "colab": {
          "base_uri": "https://localhost:8080/"
        },
        "id": "FNYsyVN-Kiix",
        "outputId": "ed04a9e6-bc36-4de7-b505-aab734b65b7b"
      },
      "outputs": [
        {
          "name": "stdout",
          "output_type": "stream",
          "text": [
            "Exit-label\n",
            "0    55.053899\n",
            "1    59.015038\n",
            "Name: ROT, dtype: float64\n"
          ]
        }
      ],
      "source": [
        "# Tính trung bình của ROT cho từng loại Exit-label\n",
        "trung_binh_ROT = df.groupby('Exit-label')['ROT'].mean()\n",
        "\n",
        "print(trung_binh_ROT)"
      ]
    },
    {
      "cell_type": "markdown",
      "metadata": {},
      "source": [
        "#### Test"
      ]
    },
    {
      "cell_type": "code",
      "execution_count": 493,
      "metadata": {},
      "outputs": [
        {
          "name": "stdout",
          "output_type": "stream",
          "text": [
            "Kích thước mảng: (1, 3, 8)\n",
            "[[[1.75000e+03 3.00000e+01 1.50000e+02 2.00000e+00 3.00000e+01\n",
            "   1.00000e+00 2.00000e+00 9.00000e+00]\n",
            "  [1.95000e+03 3.00000e+01 1.50000e+02 2.00000e+00 3.00000e+01\n",
            "   1.00000e+00 2.00000e+00 9.00000e+00]\n",
            "  [2.08635e+03 3.00000e+01 1.50000e+02 2.00000e+00 3.00000e+01\n",
            "   1.00000e+00 2.00000e+00 9.00000e+00]]]\n"
          ]
        }
      ],
      "source": [
        "aircraft_type_map = {\n",
        "    \"Heavy\": 0,\n",
        "    \"Light\":1,\n",
        "    \"Medium\":2\n",
        "}\n",
        "time_map = {\n",
        "    \"Day\":0,\n",
        "    \"Night\":1\n",
        "}\n",
        "def preprocess_df(df):\n",
        "    df['Aircraft-type'] = df['Aircraft-type'].map(aircraft_type_map)\n",
        "    df['Time'] = df['Time'].map(time_map)  \n",
        "    return df \n",
        "\n",
        "runway_df = {\n",
        "    'Exit-location':[1750,1950,2086.35],\n",
        "    'Exit-angle':[30,30,30],\n",
        "}\n",
        "\n",
        "\n",
        "aircraft_df = {\n",
        "    'Final-approach':[150],\n",
        "    'Aircraft-type':[\"Medium\"],\n",
        "    'Temperature':[30],\n",
        "    'Time':[\"Night\"],\n",
        "    'Windspeed':[2],\n",
        "    'Visibility':[9.0]\n",
        "}\n",
        "\n",
        "aircraft_df = preprocess_df(pd.DataFrame(aircraft_df))\n",
        "runway_df = pd.DataFrame(runway_df)\n",
        "# Khởi tạo mảng 3 chiều\n",
        "array_3d = np.zeros((len(aircraft_df), len(runway_df), n + m))\n",
        "\n",
        "# Điền giá trị vào mảng\n",
        "for i, plane in aircraft_df.iterrows():\n",
        "    for j, runway in runway_df.iterrows():\n",
        "\n",
        "        plane_features = plane[:].values\n",
        "        # Lấy đặc trưng runway\n",
        "        runway_features = runway[:].values\n",
        "        # Ghép đặc trưng\n",
        "        combined_features = np.concatenate((runway_features, plane_features))\n",
        "        # Điền vào mảng\n",
        "        array_3d[i, j, :] = combined_features\n",
        "\n",
        "# Kết quả\n",
        "print(\"Kích thước mảng:\", array_3d.shape)\n",
        "print(array_3d)"
      ]
    },
    {
      "cell_type": "code",
      "execution_count": 494,
      "metadata": {},
      "outputs": [],
      "source": [
        "N,seq_len,M=array_3d.shape\n",
        "data_reshaped = array_3d.reshape(-1, M)  # Chuyển thành mảng 2D (N*3, M)\n",
        "# Chuẩn hóa dữ liệu\n",
        "data_normalized_pro = scaler_pro.transform(data_reshaped)\n",
        "data_normalized_rot = scaler_rot.transform(data_reshaped)\n",
        "\n",
        "# Chuyển đổi lại thành mảng 3D Nx3xM\n",
        "data_normalized_3d_pro = data_normalized_pro.reshape(N, seq_len, M)\n",
        "data_normalized_3d_rot = data_normalized_rot.reshape(N, seq_len, M)\n",
        "\n",
        "X_tensor_pro = torch.tensor(data_normalized_3d_pro,dtype=torch.float32)\n",
        "X_tensor_pro = X_tensor_pro.to(device)\n",
        "X_tensor_rot = torch.tensor(data_normalized_3d_rot,dtype=torch.float32)\n",
        "X_tensor_rot = X_tensor_rot.to(device)"
      ]
    },
    {
      "cell_type": "code",
      "execution_count": 495,
      "metadata": {},
      "outputs": [
        {
          "name": "stdout",
          "output_type": "stream",
          "text": [
            "Xác suất sử dụng lối thoát thứ 2, là: 0.7912645936012268\n",
            "ROT trung bình khi sử dụng lối thoát thứ 2 là: 54.3788948059082\n"
          ]
        }
      ],
      "source": [
        "means,variances=predict_ensemble(models,X_tensor_rot)\n",
        "_,probabilities = new_model_pro(X_tensor_pro)\n",
        "probabilities=probabilities.cpu().detach().numpy()\n",
        "means=means.squeeze()\n",
        "best_index = np.argmax(probabilities)\n",
        "print(\"Xác suất sử dụng lối thoát thứ {}, là: {}\".format(best_index+1,probabilities[0][best_index]))\n",
        "print(\"ROT trung bình khi sử dụng lối thoát thứ {} là: {}\".format(best_index+1,means[best_index]))"
      ]
    }
  ],
  "metadata": {
    "accelerator": "GPU",
    "colab": {
      "gpuType": "T4",
      "provenance": [],
      "toc_visible": true
    },
    "kernelspec": {
      "display_name": "venv",
      "language": "python",
      "name": "python3"
    },
    "language_info": {
      "codemirror_mode": {
        "name": "ipython",
        "version": 3
      },
      "file_extension": ".py",
      "mimetype": "text/x-python",
      "name": "python",
      "nbconvert_exporter": "python",
      "pygments_lexer": "ipython3",
      "version": "3.13.2"
    }
  },
  "nbformat": 4,
  "nbformat_minor": 0
}
